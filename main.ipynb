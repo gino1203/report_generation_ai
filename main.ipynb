{
  "cells": [
    {
      "cell_type": "code",
      "source": [
        "! pip install pytorch-ignite"
      ],
      "metadata": {
        "colab": {
          "base_uri": "https://localhost:8080/"
        },
        "id": "kbsu96rUclST",
        "outputId": "e2369f8d-69c2-4fbc-fe6d-282111c64d2e"
      },
      "execution_count": 1,
      "outputs": [
        {
          "output_type": "stream",
          "name": "stdout",
          "text": [
            "Collecting pytorch-ignite\n",
            "  Downloading pytorch_ignite-0.5.0.post2-py3-none-any.whl (296 kB)\n",
            "\u001b[?25l     \u001b[90m━━━━━━━━━━━━━━━━━━━━━━━━━━━━━━━━━━━━━━━━\u001b[0m \u001b[32m0.0/296.7 kB\u001b[0m \u001b[31m?\u001b[0m eta \u001b[36m-:--:--\u001b[0m\r\u001b[2K     \u001b[91m━━━━━━━━━━━━━━━━\u001b[0m\u001b[91m╸\u001b[0m\u001b[90m━━━━━━━━━━━━━━━━━━━━━━━\u001b[0m \u001b[32m122.9/296.7 kB\u001b[0m \u001b[31m3.4 MB/s\u001b[0m eta \u001b[36m0:00:01\u001b[0m\r\u001b[2K     \u001b[90m━━━━━━━━━━━━━━━━━━━━━━━━━━━━━━━━━━━━━━━━\u001b[0m \u001b[32m296.7/296.7 kB\u001b[0m \u001b[31m6.1 MB/s\u001b[0m eta \u001b[36m0:00:00\u001b[0m\n",
            "\u001b[?25hRequirement already satisfied: torch<3,>=1.3 in /usr/local/lib/python3.10/dist-packages (from pytorch-ignite) (2.3.0+cu121)\n",
            "Requirement already satisfied: packaging in /usr/local/lib/python3.10/dist-packages (from pytorch-ignite) (24.1)\n",
            "Requirement already satisfied: filelock in /usr/local/lib/python3.10/dist-packages (from torch<3,>=1.3->pytorch-ignite) (3.14.0)\n",
            "Requirement already satisfied: typing-extensions>=4.8.0 in /usr/local/lib/python3.10/dist-packages (from torch<3,>=1.3->pytorch-ignite) (4.12.2)\n",
            "Requirement already satisfied: sympy in /usr/local/lib/python3.10/dist-packages (from torch<3,>=1.3->pytorch-ignite) (1.12.1)\n",
            "Requirement already satisfied: networkx in /usr/local/lib/python3.10/dist-packages (from torch<3,>=1.3->pytorch-ignite) (3.3)\n",
            "Requirement already satisfied: jinja2 in /usr/local/lib/python3.10/dist-packages (from torch<3,>=1.3->pytorch-ignite) (3.1.4)\n",
            "Requirement already satisfied: fsspec in /usr/local/lib/python3.10/dist-packages (from torch<3,>=1.3->pytorch-ignite) (2023.6.0)\n",
            "Collecting nvidia-cuda-nvrtc-cu12==12.1.105 (from torch<3,>=1.3->pytorch-ignite)\n",
            "  Using cached nvidia_cuda_nvrtc_cu12-12.1.105-py3-none-manylinux1_x86_64.whl (23.7 MB)\n",
            "Collecting nvidia-cuda-runtime-cu12==12.1.105 (from torch<3,>=1.3->pytorch-ignite)\n",
            "  Using cached nvidia_cuda_runtime_cu12-12.1.105-py3-none-manylinux1_x86_64.whl (823 kB)\n",
            "Collecting nvidia-cuda-cupti-cu12==12.1.105 (from torch<3,>=1.3->pytorch-ignite)\n",
            "  Using cached nvidia_cuda_cupti_cu12-12.1.105-py3-none-manylinux1_x86_64.whl (14.1 MB)\n",
            "Collecting nvidia-cudnn-cu12==8.9.2.26 (from torch<3,>=1.3->pytorch-ignite)\n",
            "  Using cached nvidia_cudnn_cu12-8.9.2.26-py3-none-manylinux1_x86_64.whl (731.7 MB)\n",
            "Collecting nvidia-cublas-cu12==12.1.3.1 (from torch<3,>=1.3->pytorch-ignite)\n",
            "  Using cached nvidia_cublas_cu12-12.1.3.1-py3-none-manylinux1_x86_64.whl (410.6 MB)\n",
            "Collecting nvidia-cufft-cu12==11.0.2.54 (from torch<3,>=1.3->pytorch-ignite)\n",
            "  Using cached nvidia_cufft_cu12-11.0.2.54-py3-none-manylinux1_x86_64.whl (121.6 MB)\n",
            "Collecting nvidia-curand-cu12==10.3.2.106 (from torch<3,>=1.3->pytorch-ignite)\n",
            "  Using cached nvidia_curand_cu12-10.3.2.106-py3-none-manylinux1_x86_64.whl (56.5 MB)\n",
            "Collecting nvidia-cusolver-cu12==11.4.5.107 (from torch<3,>=1.3->pytorch-ignite)\n",
            "  Using cached nvidia_cusolver_cu12-11.4.5.107-py3-none-manylinux1_x86_64.whl (124.2 MB)\n",
            "Collecting nvidia-cusparse-cu12==12.1.0.106 (from torch<3,>=1.3->pytorch-ignite)\n",
            "  Using cached nvidia_cusparse_cu12-12.1.0.106-py3-none-manylinux1_x86_64.whl (196.0 MB)\n",
            "Collecting nvidia-nccl-cu12==2.20.5 (from torch<3,>=1.3->pytorch-ignite)\n",
            "  Using cached nvidia_nccl_cu12-2.20.5-py3-none-manylinux2014_x86_64.whl (176.2 MB)\n",
            "Collecting nvidia-nvtx-cu12==12.1.105 (from torch<3,>=1.3->pytorch-ignite)\n",
            "  Using cached nvidia_nvtx_cu12-12.1.105-py3-none-manylinux1_x86_64.whl (99 kB)\n",
            "Requirement already satisfied: triton==2.3.0 in /usr/local/lib/python3.10/dist-packages (from torch<3,>=1.3->pytorch-ignite) (2.3.0)\n",
            "Collecting nvidia-nvjitlink-cu12 (from nvidia-cusolver-cu12==11.4.5.107->torch<3,>=1.3->pytorch-ignite)\n",
            "  Downloading nvidia_nvjitlink_cu12-12.5.40-py3-none-manylinux2014_x86_64.whl (21.3 MB)\n",
            "\u001b[2K     \u001b[90m━━━━━━━━━━━━━━━━━━━━━━━━━━━━━━━━━━━━━━━━\u001b[0m \u001b[32m21.3/21.3 MB\u001b[0m \u001b[31m22.9 MB/s\u001b[0m eta \u001b[36m0:00:00\u001b[0m\n",
            "\u001b[?25hRequirement already satisfied: MarkupSafe>=2.0 in /usr/local/lib/python3.10/dist-packages (from jinja2->torch<3,>=1.3->pytorch-ignite) (2.1.5)\n",
            "Requirement already satisfied: mpmath<1.4.0,>=1.1.0 in /usr/local/lib/python3.10/dist-packages (from sympy->torch<3,>=1.3->pytorch-ignite) (1.3.0)\n",
            "Installing collected packages: nvidia-nvtx-cu12, nvidia-nvjitlink-cu12, nvidia-nccl-cu12, nvidia-curand-cu12, nvidia-cufft-cu12, nvidia-cuda-runtime-cu12, nvidia-cuda-nvrtc-cu12, nvidia-cuda-cupti-cu12, nvidia-cublas-cu12, nvidia-cusparse-cu12, nvidia-cudnn-cu12, nvidia-cusolver-cu12, pytorch-ignite\n",
            "Successfully installed nvidia-cublas-cu12-12.1.3.1 nvidia-cuda-cupti-cu12-12.1.105 nvidia-cuda-nvrtc-cu12-12.1.105 nvidia-cuda-runtime-cu12-12.1.105 nvidia-cudnn-cu12-8.9.2.26 nvidia-cufft-cu12-11.0.2.54 nvidia-curand-cu12-10.3.2.106 nvidia-cusolver-cu12-11.4.5.107 nvidia-cusparse-cu12-12.1.0.106 nvidia-nccl-cu12-2.20.5 nvidia-nvjitlink-cu12-12.5.40 nvidia-nvtx-cu12-12.1.105 pytorch-ignite-0.5.0.post2\n"
          ]
        }
      ]
    },
    {
      "cell_type": "code",
      "execution_count": 2,
      "metadata": {
        "id": "61jb3D_GVL5P"
      },
      "outputs": [],
      "source": [
        "import os\n",
        "import random\n",
        "import torch\n",
        "import numpy as np\n",
        "import pandas as pd\n",
        "import torch.nn as nn\n",
        "from ignite.metrics import Rouge\n",
        "from pandas.core.common import random_state\n",
        "from PIL import Image , ImageFilter\n",
        "from torch.optim import AdamW\n",
        "from torch.utils.data import Dataset, DataLoader\n",
        "from tqdm import tqdm\n",
        "from transformers import GPT2Tokenizer, VisionEncoderDecoderModel, ViTImageProcessor , BertTokenizer\n",
        "from typing import Any, Dict, List"
      ]
    },
    {
      "cell_type": "code",
      "execution_count": 3,
      "metadata": {
        "id": "CXSjxLUEVL5R"
      },
      "outputs": [],
      "source": [
        "seed = 48763\n",
        "\n",
        "np.random.seed(seed=seed, )\n",
        "\n",
        "random_state(state=seed, )\n",
        "\n",
        "random.seed(a=seed, )\n",
        "\n",
        "torch.manual_seed(seed=seed, )\n",
        "torch.cuda.manual_seed(seed=seed, )\n",
        "torch.cuda.manual_seed_all(seed=seed, )\n",
        "torch.backends.cudnn.benchmark = False\n",
        "torch.backends.cudnn.deterministic = True"
      ]
    },
    {
      "cell_type": "code",
      "execution_count": 34,
      "metadata": {
        "colab": {
          "base_uri": "https://localhost:8080/"
        },
        "id": "xdgM2kt3VL5R",
        "outputId": "310783df-3791-46e0-efe0-e3a46886c92d"
      },
      "outputs": [
        {
          "output_type": "stream",
          "name": "stderr",
          "text": [
            "/usr/local/lib/python3.10/dist-packages/huggingface_hub/file_download.py:1132: FutureWarning: `resume_download` is deprecated and will be removed in version 1.0.0. Downloads always resume when possible. If you want to force a new download, use `force_download=True`.\n",
            "  warnings.warn(\n",
            "Some weights of ViTModel were not initialized from the model checkpoint at nickmuchi/vit-finetuned-chest-xray-pneumonia and are newly initialized: ['vit.pooler.dense.bias', 'vit.pooler.dense.weight']\n",
            "You should probably TRAIN this model on a down-stream task to be able to use it for predictions and inference.\n",
            "Some weights of BertLMHeadModel were not initialized from the model checkpoint at bert-base-cased and are newly initialized: ['bert.encoder.layer.0.crossattention.output.LayerNorm.bias', 'bert.encoder.layer.0.crossattention.output.LayerNorm.weight', 'bert.encoder.layer.0.crossattention.output.dense.bias', 'bert.encoder.layer.0.crossattention.output.dense.weight', 'bert.encoder.layer.0.crossattention.self.key.bias', 'bert.encoder.layer.0.crossattention.self.key.weight', 'bert.encoder.layer.0.crossattention.self.query.bias', 'bert.encoder.layer.0.crossattention.self.query.weight', 'bert.encoder.layer.0.crossattention.self.value.bias', 'bert.encoder.layer.0.crossattention.self.value.weight', 'bert.encoder.layer.1.crossattention.output.LayerNorm.bias', 'bert.encoder.layer.1.crossattention.output.LayerNorm.weight', 'bert.encoder.layer.1.crossattention.output.dense.bias', 'bert.encoder.layer.1.crossattention.output.dense.weight', 'bert.encoder.layer.1.crossattention.self.key.bias', 'bert.encoder.layer.1.crossattention.self.key.weight', 'bert.encoder.layer.1.crossattention.self.query.bias', 'bert.encoder.layer.1.crossattention.self.query.weight', 'bert.encoder.layer.1.crossattention.self.value.bias', 'bert.encoder.layer.1.crossattention.self.value.weight', 'bert.encoder.layer.10.crossattention.output.LayerNorm.bias', 'bert.encoder.layer.10.crossattention.output.LayerNorm.weight', 'bert.encoder.layer.10.crossattention.output.dense.bias', 'bert.encoder.layer.10.crossattention.output.dense.weight', 'bert.encoder.layer.10.crossattention.self.key.bias', 'bert.encoder.layer.10.crossattention.self.key.weight', 'bert.encoder.layer.10.crossattention.self.query.bias', 'bert.encoder.layer.10.crossattention.self.query.weight', 'bert.encoder.layer.10.crossattention.self.value.bias', 'bert.encoder.layer.10.crossattention.self.value.weight', 'bert.encoder.layer.11.crossattention.output.LayerNorm.bias', 'bert.encoder.layer.11.crossattention.output.LayerNorm.weight', 'bert.encoder.layer.11.crossattention.output.dense.bias', 'bert.encoder.layer.11.crossattention.output.dense.weight', 'bert.encoder.layer.11.crossattention.self.key.bias', 'bert.encoder.layer.11.crossattention.self.key.weight', 'bert.encoder.layer.11.crossattention.self.query.bias', 'bert.encoder.layer.11.crossattention.self.query.weight', 'bert.encoder.layer.11.crossattention.self.value.bias', 'bert.encoder.layer.11.crossattention.self.value.weight', 'bert.encoder.layer.2.crossattention.output.LayerNorm.bias', 'bert.encoder.layer.2.crossattention.output.LayerNorm.weight', 'bert.encoder.layer.2.crossattention.output.dense.bias', 'bert.encoder.layer.2.crossattention.output.dense.weight', 'bert.encoder.layer.2.crossattention.self.key.bias', 'bert.encoder.layer.2.crossattention.self.key.weight', 'bert.encoder.layer.2.crossattention.self.query.bias', 'bert.encoder.layer.2.crossattention.self.query.weight', 'bert.encoder.layer.2.crossattention.self.value.bias', 'bert.encoder.layer.2.crossattention.self.value.weight', 'bert.encoder.layer.3.crossattention.output.LayerNorm.bias', 'bert.encoder.layer.3.crossattention.output.LayerNorm.weight', 'bert.encoder.layer.3.crossattention.output.dense.bias', 'bert.encoder.layer.3.crossattention.output.dense.weight', 'bert.encoder.layer.3.crossattention.self.key.bias', 'bert.encoder.layer.3.crossattention.self.key.weight', 'bert.encoder.layer.3.crossattention.self.query.bias', 'bert.encoder.layer.3.crossattention.self.query.weight', 'bert.encoder.layer.3.crossattention.self.value.bias', 'bert.encoder.layer.3.crossattention.self.value.weight', 'bert.encoder.layer.4.crossattention.output.LayerNorm.bias', 'bert.encoder.layer.4.crossattention.output.LayerNorm.weight', 'bert.encoder.layer.4.crossattention.output.dense.bias', 'bert.encoder.layer.4.crossattention.output.dense.weight', 'bert.encoder.layer.4.crossattention.self.key.bias', 'bert.encoder.layer.4.crossattention.self.key.weight', 'bert.encoder.layer.4.crossattention.self.query.bias', 'bert.encoder.layer.4.crossattention.self.query.weight', 'bert.encoder.layer.4.crossattention.self.value.bias', 'bert.encoder.layer.4.crossattention.self.value.weight', 'bert.encoder.layer.5.crossattention.output.LayerNorm.bias', 'bert.encoder.layer.5.crossattention.output.LayerNorm.weight', 'bert.encoder.layer.5.crossattention.output.dense.bias', 'bert.encoder.layer.5.crossattention.output.dense.weight', 'bert.encoder.layer.5.crossattention.self.key.bias', 'bert.encoder.layer.5.crossattention.self.key.weight', 'bert.encoder.layer.5.crossattention.self.query.bias', 'bert.encoder.layer.5.crossattention.self.query.weight', 'bert.encoder.layer.5.crossattention.self.value.bias', 'bert.encoder.layer.5.crossattention.self.value.weight', 'bert.encoder.layer.6.crossattention.output.LayerNorm.bias', 'bert.encoder.layer.6.crossattention.output.LayerNorm.weight', 'bert.encoder.layer.6.crossattention.output.dense.bias', 'bert.encoder.layer.6.crossattention.output.dense.weight', 'bert.encoder.layer.6.crossattention.self.key.bias', 'bert.encoder.layer.6.crossattention.self.key.weight', 'bert.encoder.layer.6.crossattention.self.query.bias', 'bert.encoder.layer.6.crossattention.self.query.weight', 'bert.encoder.layer.6.crossattention.self.value.bias', 'bert.encoder.layer.6.crossattention.self.value.weight', 'bert.encoder.layer.7.crossattention.output.LayerNorm.bias', 'bert.encoder.layer.7.crossattention.output.LayerNorm.weight', 'bert.encoder.layer.7.crossattention.output.dense.bias', 'bert.encoder.layer.7.crossattention.output.dense.weight', 'bert.encoder.layer.7.crossattention.self.key.bias', 'bert.encoder.layer.7.crossattention.self.key.weight', 'bert.encoder.layer.7.crossattention.self.query.bias', 'bert.encoder.layer.7.crossattention.self.query.weight', 'bert.encoder.layer.7.crossattention.self.value.bias', 'bert.encoder.layer.7.crossattention.self.value.weight', 'bert.encoder.layer.8.crossattention.output.LayerNorm.bias', 'bert.encoder.layer.8.crossattention.output.LayerNorm.weight', 'bert.encoder.layer.8.crossattention.output.dense.bias', 'bert.encoder.layer.8.crossattention.output.dense.weight', 'bert.encoder.layer.8.crossattention.self.key.bias', 'bert.encoder.layer.8.crossattention.self.key.weight', 'bert.encoder.layer.8.crossattention.self.query.bias', 'bert.encoder.layer.8.crossattention.self.query.weight', 'bert.encoder.layer.8.crossattention.self.value.bias', 'bert.encoder.layer.8.crossattention.self.value.weight', 'bert.encoder.layer.9.crossattention.output.LayerNorm.bias', 'bert.encoder.layer.9.crossattention.output.LayerNorm.weight', 'bert.encoder.layer.9.crossattention.output.dense.bias', 'bert.encoder.layer.9.crossattention.output.dense.weight', 'bert.encoder.layer.9.crossattention.self.key.bias', 'bert.encoder.layer.9.crossattention.self.key.weight', 'bert.encoder.layer.9.crossattention.self.query.bias', 'bert.encoder.layer.9.crossattention.self.query.weight', 'bert.encoder.layer.9.crossattention.self.value.bias', 'bert.encoder.layer.9.crossattention.self.value.weight']\n",
            "You should probably TRAIN this model on a down-stream task to be able to use it for predictions and inference.\n"
          ]
        },
        {
          "output_type": "stream",
          "name": "stdout",
          "text": [
            "['[UNK]', '[SEP]', '[PAD]', '[CLS]', '[MASK]']\n"
          ]
        }
      ],
      "source": [
        "device = \"cuda\" if torch.cuda.is_available() else \"cpu\"\n",
        "\n",
        "model = VisionEncoderDecoderModel.from_encoder_decoder_pretrained(\"nickmuchi/vit-finetuned-chest-xray-pneumonia\", \"bert-base-cased\").to(device)\n",
        "######################################################## bert based model\n",
        "tokenizer = BertTokenizer.from_pretrained(############## bert based model\n",
        "    \"bert-base-cased\" , cache_dir= '/cache'\n",
        ")\n",
        "\n",
        "print(tokenizer.all_special_tokens)\n",
        "\n",
        "tokenizer.add_special_tokens({\n",
        "    \"bos_token\": \"[beginoftext]\",\n",
        "    \"pad_token\": \"[PAD]\",\n",
        "    \"eos_token\": \"[EOS]\",\n",
        "})\n",
        "\n",
        "tokenizer.bos_token_id = 400404\n",
        "\n",
        "model.config.decoder_start_token_id = tokenizer.bos_token_id\n",
        "model.generation_config.decoder_start_token_id = tokenizer.bos_token_id\n",
        "model.config.pad_token_id = tokenizer.pad_token_id\n",
        "\n",
        "model.decoder.resize_token_embeddings(len(tokenizer))\n",
        "processor = ViTImageProcessor.from_pretrained(\"nickmuchi/vit-finetuned-chest-xray-pneumonia\" , cache_dir='/cache')"
      ]
    },
    {
      "cell_type": "code",
      "execution_count": 5,
      "metadata": {
        "id": "n8otflHuVL5S"
      },
      "outputs": [],
      "source": [
        "class CXIRGDataset(Dataset):\n",
        "    def __init__(self, data: List[Dict[str, Any]]) -> None:\n",
        "        super(CXIRGDataset, self).__init__()\n",
        "        self.data = data\n",
        "\n",
        "    def __getitem__(self, index: int) -> Dict[str, Any]:\n",
        "        return self.data[index]\n",
        "\n",
        "    def __len__(self) -> int:\n",
        "        return len(self.data)"
      ]
    },
    {
      "cell_type": "code",
      "execution_count": 6,
      "metadata": {
        "id": "KjD6rzqWVL5S"
      },
      "outputs": [],
      "source": [
        "max_length = 256\n",
        "\n",
        "def train_dl_collate_fn(one_batch_data: List[Dict[str, Any]]):\n",
        "    names = [one_data[\"name\"] for one_data in one_batch_data]\n",
        "\n",
        "    pixel_values = processor(\n",
        "        images=[one_data[\"image\"] for one_data in one_batch_data],\n",
        "        return_tensors=\"pt\"\n",
        "    ).pixel_values\n",
        "\n",
        "    label_ids = tokenizer.batch_encode_plus(\n",
        "        batch_text_or_text_pairs=[\n",
        "            (tokenizer.bos_token + one_data[\"text\"] + tokenizer.eos_token) for one_data in one_batch_data\n",
        "        ],\n",
        "        max_length=max_length,\n",
        "        padding=\"max_length\",\n",
        "        truncation=True,\n",
        "        return_tensors=\"pt\"\n",
        "    ).input_ids\n",
        "\n",
        "    return names, pixel_values.to(device), label_ids.to(device)\n",
        "\n",
        "def valid_dl_collate_fn(one_batch_data: List[Dict[str, Any]]):\n",
        "    names = [one_data[\"name\"] for one_data in one_batch_data]\n",
        "\n",
        "    pixel_values = processor(\n",
        "        images=[one_data[\"image\"] for one_data in one_batch_data],\n",
        "        return_tensors=\"pt\"\n",
        "    ).pixel_values\n",
        "\n",
        "    label_ids = tokenizer.batch_encode_plus(\n",
        "        batch_text_or_text_pairs=[\n",
        "            (tokenizer.bos_token + one_data[\"text\"] + tokenizer.eos_token) for one_data in one_batch_data\n",
        "        ],\n",
        "        max_length=max_length,\n",
        "        padding=\"max_length\",\n",
        "        truncation=True,\n",
        "        return_tensors=\"pt\"\n",
        "    ).input_ids\n",
        "\n",
        "    return names, pixel_values.to(device), label_ids.to(device)"
      ]
    },
    {
      "cell_type": "code",
      "execution_count": 9,
      "metadata": {
        "id": "JqPGMmROVL5S"
      },
      "outputs": [],
      "source": [
        "train_data = []\n",
        "\n",
        "report_path = \"/content/train/reports.xlsx\"\n",
        "report_df = pd.read_excel(report_path)\n",
        "\n",
        "image_dir_path = \"/content/train/image\"\n",
        "for image_name in os.listdir(image_dir_path):\n",
        "    image = Image.open(os.path.join(image_dir_path, image_name))\n",
        "    image= image.filter(ImageFilter.DETAIL)############################################################ additional operation: image filter\n",
        "    image_array = np.array(image).astype(np.float32)################################################### additional operation: normalize\n",
        "    normalized_array = (image_array - np.min(image_array)) / (np.max(image_array) - np.min(image_array))\n",
        "    image = Image.fromarray((normalized_array * 255).astype(np.uint8))\n",
        "    if image.mode != \"RGB\":\n",
        "        image = image.convert(\"RGB\")\n",
        "\n",
        "    text = report_df[report_df[\"name\"] == image_name[:13]][\"text\"].values[0].replace(\"_x000D_\", \"\\r\")\n",
        "\n",
        "    train_data.append({\n",
        "        \"name\": image_name[:13],\n",
        "        \"image\": image,\n",
        "        \"text\": text\n",
        "    })\n",
        "\n",
        "train_dataset = CXIRGDataset(train_data)"
      ]
    },
    {
      "cell_type": "code",
      "execution_count": 12,
      "metadata": {
        "id": "s1XKEjaEVL5S"
      },
      "outputs": [],
      "source": [
        "valid_data = []\n",
        "\n",
        "report_path = \"/content/valid/reports.xlsx\"\n",
        "report_df = pd.read_excel(report_path)\n",
        "\n",
        "image_dir_path = \"/content/valid/image\"\n",
        "for image_name in os.listdir(image_dir_path):\n",
        "    image = Image.open(os.path.join(image_dir_path, image_name))\n",
        "    image= image.filter(ImageFilter.DETAIL)############################################################ additional operation: image filter\n",
        "    image_array = np.array(image).astype(np.float32)################################################### additional operation: normalize\n",
        "    normalized_array = (image_array - np.min(image_array)) / (np.max(image_array) - np.min(image_array))\n",
        "    image = Image.fromarray((normalized_array * 255).astype(np.uint8))\n",
        "    if image.mode != \"RGB\":\n",
        "        image = image.convert(\"RGB\")\n",
        "\n",
        "    text = report_df[report_df[\"name\"] == image_name[:13]][\"text\"].values[0].replace(\"_x000D_\", \"\\r\")\n",
        "\n",
        "    valid_data.append({\n",
        "        \"name\": image_name[:13],\n",
        "        \"image\": image,\n",
        "        \"text\": text\n",
        "    })\n",
        "\n",
        "valid_dataset = CXIRGDataset(valid_data)"
      ]
    },
    {
      "cell_type": "code",
      "execution_count": 38,
      "metadata": {
        "id": "Nr9zEL8-VL5S"
      },
      "outputs": [],
      "source": [
        "lr = 1e-5\n",
        "epochs = 30\n",
        "optimizer = AdamW(params=model.parameters(), lr=lr)\n",
        "\n",
        "train_batch_size = 1\n",
        "valid_batch_size = 1\n",
        "train_dataloader = DataLoader(\n",
        "    dataset=train_dataset,\n",
        "    batch_size=train_batch_size,\n",
        "    shuffle=True,\n",
        "    collate_fn=train_dl_collate_fn\n",
        ")\n",
        "valid_dataloader = DataLoader(\n",
        "    dataset=valid_dataset,\n",
        "    batch_size=valid_batch_size,\n",
        "    shuffle=False,\n",
        "    collate_fn=valid_dl_collate_fn\n",
        ")\n",
        "\n",
        "rouge = Rouge(variants=[\"L\", 2], multiref=\"best\")"
      ]
    },
    {
      "cell_type": "code",
      "execution_count": 36,
      "metadata": {
        "id": "nlG4ZiSAVL5T"
      },
      "outputs": [],
      "source": [
        "def evaluate(model: VisionEncoderDecoderModel, epoch: int) -> Dict[str, float]:\n",
        "    model.eval()\n",
        "\n",
        "    pbar = tqdm(valid_dataloader)\n",
        "    pbar.set_description(f\"Evaluting Epoch: {epoch + 1}\")\n",
        "\n",
        "    with torch.no_grad():\n",
        "        for names, pixel_values, label_ids in pbar:\n",
        "            predictions = model.generate(pixel_values,max_length=100)\n",
        "\n",
        "            _predictions = tokenizer.batch_decode(\n",
        "                predictions,\n",
        "                skip_special_tokens=True\n",
        "            )\n",
        "\n",
        "            _labels = tokenizer.batch_decode(\n",
        "                label_ids,\n",
        "                skip_special_tokens=True\n",
        "            )\n",
        "\n",
        "            print(f\"Names      : {names}\")\n",
        "            print(f\"Predictions: {_predictions}\")\n",
        "            print(f\"Labels     : {_labels}\")\n",
        "            print()\n",
        "\n",
        "            for _prediction, _label in zip(_predictions, _labels):\n",
        "                split_prediction = _prediction.split()\n",
        "                split_label = _label.split()\n",
        "\n",
        "                rouge.update(([split_prediction], [[split_label]]))\n",
        "\n",
        "    return rouge.compute()"
      ]
    },
    {
      "cell_type": "code",
      "execution_count": 35,
      "metadata": {
        "id": "HR0JilFEVL5T"
      },
      "outputs": [],
      "source": [
        "def generate_result(model: VisionEncoderDecoderModel, epoch: int) -> Dict[str, float]:\n",
        "    results = []\n",
        "    model.eval()\n",
        "\n",
        "    pbar = tqdm(valid_dataloader)\n",
        "    pbar.set_description(f\"Evaluting Epoch: {epoch + 1}\")\n",
        "\n",
        "    with torch.no_grad():\n",
        "        for names, pixel_values, label_ids in pbar:\n",
        "            predictions = model.generate(pixel_values,max_length=100)\n",
        "\n",
        "            _predictions = tokenizer.batch_decode(\n",
        "                predictions,\n",
        "                skip_special_tokens=True\n",
        "            )\n",
        "\n",
        "            _labels = tokenizer.batch_decode(\n",
        "                label_ids,\n",
        "                skip_special_tokens=True\n",
        "            )\n",
        "\n",
        "            print(f\"Names      : {names}\")\n",
        "            print(f\"Predictions: {_predictions}\")\n",
        "            print(f\"Labels     : {_labels}\")\n",
        "            results.append(_predictions)\n",
        "    return _predictions"
      ]
    },
    {
      "cell_type": "code",
      "execution_count": 39,
      "metadata": {
        "colab": {
          "base_uri": "https://localhost:8080/"
        },
        "id": "a2CglXj8VL5T",
        "outputId": "a0e029d8-4230-4460-e2b5-ac5c713e333d"
      },
      "outputs": [
        {
          "output_type": "stream",
          "name": "stderr",
          "text": [
            "Training Epoch [1 / 30]: 100%|██████████| 89/89 [00:20<00:00,  4.25it/s, loss=2.96]\n",
            "Evaluting Epoch: 1:  10%|█         | 1/10 [00:01<00:14,  1.62s/it]"
          ]
        },
        {
          "output_type": "stream",
          "name": "stdout",
          "text": [
            "Names      : ['NLP_CHEST_031']\n",
            "Predictions: ['']\n",
            "Labels     : ['Chest PA view : Impression : - Increased both lung markings. - Compatible with right lung nodules. - Fibrotic lesion in left upper lung. - Normal heart size. Atherosclerotic aorta. - Suspect right pleural effusion. - Spondylosis. R / O osteoporosis. - Compatible with multiple bony metastases. - S / P NG and endotracheal tube. - S / P Lt subclavian Port - A - cath.']\n",
            "\n"
          ]
        },
        {
          "output_type": "stream",
          "name": "stderr",
          "text": [
            "\rEvaluting Epoch: 1:  20%|██        | 2/10 [00:03<00:12,  1.59s/it]"
          ]
        },
        {
          "output_type": "stream",
          "name": "stdout",
          "text": [
            "Names      : ['NLP_CHEST_011']\n",
            "Predictions: ['']\n",
            "Labels     : [\"Chest AP view showed : 1. s / p sternotomy and CABG. Enlarged heart size with tortuous aorta. 2. R't middle and lower lung faint patches. L't lower lung consolidation. L't pleural effusion. 3. No mediastinum widening. 4. s / p endotracheal tube and NG intubation.\"]\n",
            "\n"
          ]
        },
        {
          "output_type": "stream",
          "name": "stderr",
          "text": [
            "\rEvaluting Epoch: 1:  30%|███       | 3/10 [00:04<00:10,  1.43s/it]"
          ]
        },
        {
          "output_type": "stream",
          "name": "stdout",
          "text": [
            "Names      : ['NLP_CHEST_015']\n",
            "Predictions: ['']\n",
            "Labels     : ['Chest X ray : - No obvious lung mass nor consolidation patch. - Normal heart size. - No pleural effusion.']\n",
            "\n"
          ]
        },
        {
          "output_type": "stream",
          "name": "stderr",
          "text": [
            "\rEvaluting Epoch: 1:  40%|████      | 4/10 [00:05<00:08,  1.46s/it]"
          ]
        },
        {
          "output_type": "stream",
          "name": "stdout",
          "text": [
            "Names      : ['NLP_CHEST_002']\n",
            "Predictions: ['']\n",
            "Labels     : ['Chest PA view shows : Partial atelectasis at left lower lung field. Left pleural effusion. Borderline heart size. Atherosclerotic change of aortic knob. S / P port - A implantation via left subclavian vein. Intraperitoneal port catheter. Surgical clips at RUQ of abdomen.']\n",
            "\n"
          ]
        },
        {
          "output_type": "stream",
          "name": "stderr",
          "text": [
            "\rEvaluting Epoch: 1:  50%|█████     | 5/10 [00:07<00:07,  1.58s/it]"
          ]
        },
        {
          "output_type": "stream",
          "name": "stdout",
          "text": [
            "Names      : ['NLP_CHEST_057']\n",
            "Predictions: ['']\n",
            "Labels     : ['Chest plain film shows : Impression : - Increased infiltrations in both lungs. - Tortuous atherosclerotic dilated aorta. - Normal heart size. - DJD of spine. Old fracture of right ribs. - Increased both lung markings. S / P Lt jugular CVC insertion. S / P NG and endotracheal tube. - Susp. Lt pneumothorax. Suspect pneumomediastinum. Subcutaneous emphysema in bilateral neck. - S / P bilateral chest tube insertion.']\n",
            "\n"
          ]
        },
        {
          "output_type": "stream",
          "name": "stderr",
          "text": [
            "\rEvaluting Epoch: 1:  60%|██████    | 6/10 [00:08<00:05,  1.46s/it]"
          ]
        },
        {
          "output_type": "stream",
          "name": "stdout",
          "text": [
            "Names      : ['NLP_CHEST_059']\n",
            "Predictions: ['']\n",
            "Labels     : ['Supine chest AP view shows : Pigtail catheter at right lower chest. Decreased amount of right pleural effusion. Air in the right lower pleural space. Poor lung expansion. Mild subcutaneous emphysema at right chest wall. Right pleural thickening. Ill - defined masses at right perihilar region. Normal heart size.']\n",
            "\n"
          ]
        },
        {
          "output_type": "stream",
          "name": "stderr",
          "text": [
            "\rEvaluting Epoch: 1:  70%|███████   | 7/10 [00:10<00:04,  1.39s/it]"
          ]
        },
        {
          "output_type": "stream",
          "name": "stdout",
          "text": [
            "Names      : ['NLP_CHEST_004']\n",
            "Predictions: ['']\n",
            "Labels     : ['Chest PA view show : Impression : - S / P RLL wedge resection. - Bilateral lungs metastasis. - Left lower lung subsegmental atelectasis. - Increased infiltrations in both lungs. - Blunting right CP angle. - Tortuous atherosclerotic aorta. - Scoliosis, DJD and osteoporosis of spine. - Compression fracture of L1.']\n",
            "\n"
          ]
        },
        {
          "output_type": "stream",
          "name": "stderr",
          "text": [
            "\rEvaluting Epoch: 1:  80%|████████  | 8/10 [00:11<00:02,  1.33s/it]"
          ]
        },
        {
          "output_type": "stream",
          "name": "stdout",
          "text": [
            "Names      : ['NLP_CHEST_085']\n",
            "Predictions: ['']\n",
            "Labels     : ['Chest X ray : - Right pneumothorax with pleural effusion, status post drainge tube placement. - Extensive subcutaneous emphysema from neck to right side thoracic cage. - Increased right hilar opacity. - Atherosclerosis and tortuous aorta. - Obscured bilateral costophrenic angles. - Spondylosis and mild scoliosis of thoracolumbar spine. - OA of right glenohumeral joint. - Generalized osteopenia.']\n",
            "\n"
          ]
        },
        {
          "output_type": "stream",
          "name": "stderr",
          "text": [
            "\rEvaluting Epoch: 1:  90%|█████████ | 9/10 [00:12<00:01,  1.30s/it]"
          ]
        },
        {
          "output_type": "stream",
          "name": "stdout",
          "text": [
            "Names      : ['NLP_CHEST_027']\n",
            "Predictions: ['']\n",
            "Labels     : ['Chest PA View : Impression : > Cardiomegaly with bilateral pulmonary congestion. > Postinflammatory fibrosis in both upper lungs. > Atherosclerosis of aorta. > Old fractures of left 5th and 6th ribs. > R / O osteoporosis. > Spondylosis of thoracolumbar spine. > S / P abdominal operation in RUQ.']\n",
            "\n"
          ]
        },
        {
          "output_type": "stream",
          "name": "stderr",
          "text": [
            "Evaluting Epoch: 1: 100%|██████████| 10/10 [00:13<00:00,  1.39s/it]\n"
          ]
        },
        {
          "output_type": "stream",
          "name": "stdout",
          "text": [
            "Names      : ['NLP_CHEST_071']\n",
            "Predictions: ['']\n",
            "Labels     : ['Chest film shows : Impression : - Bilateral lung infiltrations. - Suspect right lower lung patch. Blunting right CP angle. - Tortuous atherosclerotic aorta. - Scoliosis, DJD and osteoporosis of spine. Compression fracture of T12. Old fracture of left ribs. - S / P fixation in L - spine. - S / P tracheostomy and NG tube.']\n",
            "\n",
            "Rouge-2 score on epoch 0: {'Rouge-L-P': 0.0, 'Rouge-L-R': 0.0, 'Rouge-L-F': 0.0, 'Rouge-2-P': 0.0, 'Rouge-2-R': 0.0, 'Rouge-2-F': 0.0}\n"
          ]
        },
        {
          "output_type": "stream",
          "name": "stderr",
          "text": [
            "Training Epoch [2 / 30]: 100%|██████████| 89/89 [00:20<00:00,  4.36it/s, loss=1.74]\n",
            "Evaluting Epoch: 2:  10%|█         | 1/10 [00:01<00:12,  1.43s/it]"
          ]
        },
        {
          "output_type": "stream",
          "name": "stdout",
          "text": [
            "Names      : ['NLP_CHEST_031']\n",
            "Predictions: ['']\n",
            "Labels     : ['Chest PA view : Impression : - Increased both lung markings. - Compatible with right lung nodules. - Fibrotic lesion in left upper lung. - Normal heart size. Atherosclerotic aorta. - Suspect right pleural effusion. - Spondylosis. R / O osteoporosis. - Compatible with multiple bony metastases. - S / P NG and endotracheal tube. - S / P Lt subclavian Port - A - cath.']\n",
            "\n"
          ]
        },
        {
          "output_type": "stream",
          "name": "stderr",
          "text": [
            "\rEvaluting Epoch: 2:  20%|██        | 2/10 [00:03<00:13,  1.71s/it]"
          ]
        },
        {
          "output_type": "stream",
          "name": "stdout",
          "text": [
            "Names      : ['NLP_CHEST_011']\n",
            "Predictions: ['']\n",
            "Labels     : [\"Chest AP view showed : 1. s / p sternotomy and CABG. Enlarged heart size with tortuous aorta. 2. R't middle and lower lung faint patches. L't lower lung consolidation. L't pleural effusion. 3. No mediastinum widening. 4. s / p endotracheal tube and NG intubation.\"]\n",
            "\n"
          ]
        },
        {
          "output_type": "stream",
          "name": "stderr",
          "text": [
            "\rEvaluting Epoch: 2:  30%|███       | 3/10 [00:04<00:11,  1.68s/it]"
          ]
        },
        {
          "output_type": "stream",
          "name": "stdout",
          "text": [
            "Names      : ['NLP_CHEST_015']\n",
            "Predictions: ['']\n",
            "Labels     : ['Chest X ray : - No obvious lung mass nor consolidation patch. - Normal heart size. - No pleural effusion.']\n",
            "\n"
          ]
        },
        {
          "output_type": "stream",
          "name": "stderr",
          "text": [
            "\rEvaluting Epoch: 2:  40%|████      | 4/10 [00:06<00:09,  1.53s/it]"
          ]
        },
        {
          "output_type": "stream",
          "name": "stdout",
          "text": [
            "Names      : ['NLP_CHEST_002']\n",
            "Predictions: ['']\n",
            "Labels     : ['Chest PA view shows : Partial atelectasis at left lower lung field. Left pleural effusion. Borderline heart size. Atherosclerotic change of aortic knob. S / P port - A implantation via left subclavian vein. Intraperitoneal port catheter. Surgical clips at RUQ of abdomen.']\n",
            "\n"
          ]
        },
        {
          "output_type": "stream",
          "name": "stderr",
          "text": [
            "\rEvaluting Epoch: 2:  50%|█████     | 5/10 [00:07<00:07,  1.44s/it]"
          ]
        },
        {
          "output_type": "stream",
          "name": "stdout",
          "text": [
            "Names      : ['NLP_CHEST_057']\n",
            "Predictions: ['']\n",
            "Labels     : ['Chest plain film shows : Impression : - Increased infiltrations in both lungs. - Tortuous atherosclerotic dilated aorta. - Normal heart size. - DJD of spine. Old fracture of right ribs. - Increased both lung markings. S / P Lt jugular CVC insertion. S / P NG and endotracheal tube. - Susp. Lt pneumothorax. Suspect pneumomediastinum. Subcutaneous emphysema in bilateral neck. - S / P bilateral chest tube insertion.']\n",
            "\n"
          ]
        },
        {
          "output_type": "stream",
          "name": "stderr",
          "text": [
            "\rEvaluting Epoch: 2:  60%|██████    | 6/10 [00:08<00:05,  1.41s/it]"
          ]
        },
        {
          "output_type": "stream",
          "name": "stdout",
          "text": [
            "Names      : ['NLP_CHEST_059']\n",
            "Predictions: ['']\n",
            "Labels     : ['Supine chest AP view shows : Pigtail catheter at right lower chest. Decreased amount of right pleural effusion. Air in the right lower pleural space. Poor lung expansion. Mild subcutaneous emphysema at right chest wall. Right pleural thickening. Ill - defined masses at right perihilar region. Normal heart size.']\n",
            "\n"
          ]
        },
        {
          "output_type": "stream",
          "name": "stderr",
          "text": [
            "\rEvaluting Epoch: 2:  70%|███████   | 7/10 [00:10<00:04,  1.39s/it]"
          ]
        },
        {
          "output_type": "stream",
          "name": "stdout",
          "text": [
            "Names      : ['NLP_CHEST_004']\n",
            "Predictions: ['']\n",
            "Labels     : ['Chest PA view show : Impression : - S / P RLL wedge resection. - Bilateral lungs metastasis. - Left lower lung subsegmental atelectasis. - Increased infiltrations in both lungs. - Blunting right CP angle. - Tortuous atherosclerotic aorta. - Scoliosis, DJD and osteoporosis of spine. - Compression fracture of L1.']\n",
            "\n"
          ]
        },
        {
          "output_type": "stream",
          "name": "stderr",
          "text": [
            "\rEvaluting Epoch: 2:  80%|████████  | 8/10 [00:11<00:02,  1.35s/it]"
          ]
        },
        {
          "output_type": "stream",
          "name": "stdout",
          "text": [
            "Names      : ['NLP_CHEST_085']\n",
            "Predictions: ['']\n",
            "Labels     : ['Chest X ray : - Right pneumothorax with pleural effusion, status post drainge tube placement. - Extensive subcutaneous emphysema from neck to right side thoracic cage. - Increased right hilar opacity. - Atherosclerosis and tortuous aorta. - Obscured bilateral costophrenic angles. - Spondylosis and mild scoliosis of thoracolumbar spine. - OA of right glenohumeral joint. - Generalized osteopenia.']\n",
            "\n"
          ]
        },
        {
          "output_type": "stream",
          "name": "stderr",
          "text": [
            "\rEvaluting Epoch: 2:  90%|█████████ | 9/10 [00:12<00:01,  1.32s/it]"
          ]
        },
        {
          "output_type": "stream",
          "name": "stdout",
          "text": [
            "Names      : ['NLP_CHEST_027']\n",
            "Predictions: ['']\n",
            "Labels     : ['Chest PA View : Impression : > Cardiomegaly with bilateral pulmonary congestion. > Postinflammatory fibrosis in both upper lungs. > Atherosclerosis of aorta. > Old fractures of left 5th and 6th ribs. > R / O osteoporosis. > Spondylosis of thoracolumbar spine. > S / P abdominal operation in RUQ.']\n",
            "\n"
          ]
        },
        {
          "output_type": "stream",
          "name": "stderr",
          "text": [
            "Evaluting Epoch: 2: 100%|██████████| 10/10 [00:14<00:00,  1.40s/it]\n"
          ]
        },
        {
          "output_type": "stream",
          "name": "stdout",
          "text": [
            "Names      : ['NLP_CHEST_071']\n",
            "Predictions: ['']\n",
            "Labels     : ['Chest film shows : Impression : - Bilateral lung infiltrations. - Suspect right lower lung patch. Blunting right CP angle. - Tortuous atherosclerotic aorta. - Scoliosis, DJD and osteoporosis of spine. Compression fracture of T12. Old fracture of left ribs. - S / P fixation in L - spine. - S / P tracheostomy and NG tube.']\n",
            "\n",
            "Rouge-2 score on epoch 1: {'Rouge-L-P': 0.0, 'Rouge-L-R': 0.0, 'Rouge-L-F': 0.0, 'Rouge-2-P': 0.0, 'Rouge-2-R': 0.0, 'Rouge-2-F': 0.0}\n"
          ]
        },
        {
          "output_type": "stream",
          "name": "stderr",
          "text": [
            "Training Epoch [3 / 30]: 100%|██████████| 89/89 [00:20<00:00,  4.27it/s, loss=1.21]\n",
            "Evaluting Epoch: 3:  10%|█         | 1/10 [00:01<00:11,  1.33s/it]"
          ]
        },
        {
          "output_type": "stream",
          "name": "stdout",
          "text": [
            "Names      : ['NLP_CHEST_031']\n",
            "Predictions: ['Chest plain film film film shows : Impression : - Suspect in both lungs. - Suspectd bilateral spine. - Suspects in both lungs. - Suspectspect in bilateral lung. - Blunting bilateral CP angles. - Bluntingg bilateral CP angles. - Bluntinntingg spine. - S / P PVC of spine. - Bluntinntingg spine. - S / P PVC. - Bluntinntingg']\n",
            "Labels     : ['Chest PA view : Impression : - Increased both lung markings. - Compatible with right lung nodules. - Fibrotic lesion in left upper lung. - Normal heart size. Atherosclerotic aorta. - Suspect right pleural effusion. - Spondylosis. R / O osteoporosis. - Compatible with multiple bony metastases. - S / P NG and endotracheal tube. - S / P Lt subclavian Port - A - cath.']\n",
            "\n"
          ]
        },
        {
          "output_type": "stream",
          "name": "stderr",
          "text": [
            "\rEvaluting Epoch: 3:  20%|██        | 2/10 [00:02<00:10,  1.31s/it]"
          ]
        },
        {
          "output_type": "stream",
          "name": "stdout",
          "text": [
            "Names      : ['NLP_CHEST_011']\n",
            "Predictions: ['Chest plain film film film shows : Impression : - Suspect in both lungs. - Suspectd bilateral spine. - Suspects in bilateral lung. - Suspectspect in right lower lung. - Blunting bilateral CP. - Bluntingg aorta. - Bluntinntingg aorta. - S / P PVC of spine. - Bluntingg spine. - S / P PVCVC. - Bluntinntin']\n",
            "Labels     : [\"Chest AP view showed : 1. s / p sternotomy and CABG. Enlarged heart size with tortuous aorta. 2. R't middle and lower lung faint patches. L't lower lung consolidation. L't pleural effusion. 3. No mediastinum widening. 4. s / p endotracheal tube and NG intubation.\"]\n",
            "\n"
          ]
        },
        {
          "output_type": "stream",
          "name": "stderr",
          "text": [
            "\rEvaluting Epoch: 3:  30%|███       | 3/10 [00:03<00:09,  1.32s/it]"
          ]
        },
        {
          "output_type": "stream",
          "name": "stdout",
          "text": [
            "Names      : ['NLP_CHEST_015']\n",
            "Predictions: ['Chest plain film film film shows : Impression : - Suspression of both lungs. - Suspect infiltrations of both lungs. - Suspectspect in spine. - Suspectspectss infiltration. - Blunting bilateral spine. - Bluntingg spine. - Blunting spine. - Bluntingg spine. - Bluntinnting spine. - Blunting spine spine. - Bluntingg spine spine.']\n",
            "Labels     : ['Chest X ray : - No obvious lung mass nor consolidation patch. - Normal heart size. - No pleural effusion.']\n",
            "\n"
          ]
        },
        {
          "output_type": "stream",
          "name": "stderr",
          "text": [
            "\rEvaluting Epoch: 3:  40%|████      | 4/10 [00:05<00:07,  1.32s/it]"
          ]
        },
        {
          "output_type": "stream",
          "name": "stdout",
          "text": [
            "Names      : ['NLP_CHEST_002']\n",
            "Predictions: ['Chest plain film film film shows : Impression : - Suspression of left lung patch. - Suspect in bilateral lung patch. - Normal heart size. - Normal heart size. - Normal heart size. - Blunting spine. - Bluntingg spine. - Bluntingg spine. - Bluntinnting spine. - Bluntingg spine. - S / P PVC of spine. - Bluntinggg spine. - S']\n",
            "Labels     : ['Chest PA view shows : Partial atelectasis at left lower lung field. Left pleural effusion. Borderline heart size. Atherosclerotic change of aortic knob. S / P port - A implantation via left subclavian vein. Intraperitoneal port catheter. Surgical clips at RUQ of abdomen.']\n",
            "\n"
          ]
        },
        {
          "output_type": "stream",
          "name": "stderr",
          "text": [
            "\rEvaluting Epoch: 3:  50%|█████     | 5/10 [00:06<00:06,  1.31s/it]"
          ]
        },
        {
          "output_type": "stream",
          "name": "stdout",
          "text": [
            "Names      : ['NLP_CHEST_057']\n",
            "Predictions: ['Chest plain film film film shows : Impression : - Suspect in both lungs. - Suspectd bilateral spine. - Suspects in both lungs. - Suspectspect in bilateral spine. - Blunting bilateral CP angles. - Bluntingg bilateral CP angles. - Bluntinntingg spine. - Bluntinntingg spine. - Bluntinntingg spine. - S / P PVC of spine. - Bluntinnting']\n",
            "Labels     : ['Chest plain film shows : Impression : - Increased infiltrations in both lungs. - Tortuous atherosclerotic dilated aorta. - Normal heart size. - DJD of spine. Old fracture of right ribs. - Increased both lung markings. S / P Lt jugular CVC insertion. S / P NG and endotracheal tube. - Susp. Lt pneumothorax. Suspect pneumomediastinum. Subcutaneous emphysema in bilateral neck. - S / P bilateral chest tube insertion.']\n",
            "\n"
          ]
        },
        {
          "output_type": "stream",
          "name": "stderr",
          "text": [
            "\rEvaluting Epoch: 3:  60%|██████    | 6/10 [00:08<00:05,  1.36s/it]"
          ]
        },
        {
          "output_type": "stream",
          "name": "stdout",
          "text": [
            "Names      : ['NLP_CHEST_059']\n",
            "Predictions: ['Chest plain film film film shows : Impression : - Suspression of aorta. - Suspect in both lung. - Suspect in spine. - Suspectspect in spine. - Blunting bilateral spine. - Blunting bilateral spine. - Bluntinnting bilateral spine. - Bluntinnting spine. - Bluntinggg spine. - S / P P PVC of spine. - S / P PVC. - S']\n",
            "Labels     : ['Supine chest AP view shows : Pigtail catheter at right lower chest. Decreased amount of right pleural effusion. Air in the right lower pleural space. Poor lung expansion. Mild subcutaneous emphysema at right chest wall. Right pleural thickening. Ill - defined masses at right perihilar region. Normal heart size.']\n",
            "\n"
          ]
        },
        {
          "output_type": "stream",
          "name": "stderr",
          "text": [
            "\rEvaluting Epoch: 3:  70%|███████   | 7/10 [00:10<00:04,  1.57s/it]"
          ]
        },
        {
          "output_type": "stream",
          "name": "stdout",
          "text": [
            "Names      : ['NLP_CHEST_004']\n",
            "Predictions: ['Chest plain film film film shows : Impression : - Suspression of both lungs. - Suspect infiltrations of both lungs. - Suspectspect in bilateral lung. - Suspectspect in spine. - Blunting bilateral spine. - Blunting bilateral spine. - Bluntinnting spine. - Bluntinntingg spine. - Bluntinnting bilateral spine. - S / P Pt P. - S / P PVC']\n",
            "Labels     : ['Chest PA view show : Impression : - S / P RLL wedge resection. - Bilateral lungs metastasis. - Left lower lung subsegmental atelectasis. - Increased infiltrations in both lungs. - Blunting right CP angle. - Tortuous atherosclerotic aorta. - Scoliosis, DJD and osteoporosis of spine. - Compression fracture of L1.']\n",
            "\n"
          ]
        },
        {
          "output_type": "stream",
          "name": "stderr",
          "text": [
            "\rEvaluting Epoch: 3:  80%|████████  | 8/10 [00:11<00:03,  1.55s/it]"
          ]
        },
        {
          "output_type": "stream",
          "name": "stdout",
          "text": [
            "Names      : ['NLP_CHEST_085']\n",
            "Predictions: ['Chest plain film film film shows : Impression : - Suspression of left lung patch. - Suspect in both lungs. - Suspects in both lower lung. - Suspectspect in infiltrations. - Blunting bilateral spine. - Blunting bilateral spine. - Blunting spine. - Bluntinntingg spine. - Bluntingg spine. - S / P Ptt s / P Ptt o o']\n",
            "Labels     : ['Chest X ray : - Right pneumothorax with pleural effusion, status post drainge tube placement. - Extensive subcutaneous emphysema from neck to right side thoracic cage. - Increased right hilar opacity. - Atherosclerosis and tortuous aorta. - Obscured bilateral costophrenic angles. - Spondylosis and mild scoliosis of thoracolumbar spine. - OA of right glenohumeral joint. - Generalized osteopenia.']\n",
            "\n"
          ]
        },
        {
          "output_type": "stream",
          "name": "stderr",
          "text": [
            "\rEvaluting Epoch: 3:  90%|█████████ | 9/10 [00:12<00:01,  1.50s/it]"
          ]
        },
        {
          "output_type": "stream",
          "name": "stdout",
          "text": [
            "Names      : ['NLP_CHEST_027']\n",
            "Predictions: ['Chest plain film film film shows : Impression : - Suspect in both lungs. - Suspect in both lungs. - Suspect bilateral lung angle. - Suspects in spine. - Suspects infiltration. - Blunting bilateral spine. - Bluntingg spine. - S / P PVC of spine. - S / P PG of spine. - S / P RG. - S / P RG. S / P']\n",
            "Labels     : ['Chest PA View : Impression : > Cardiomegaly with bilateral pulmonary congestion. > Postinflammatory fibrosis in both upper lungs. > Atherosclerosis of aorta. > Old fractures of left 5th and 6th ribs. > R / O osteoporosis. > Spondylosis of thoracolumbar spine. > S / P abdominal operation in RUQ.']\n",
            "\n"
          ]
        },
        {
          "output_type": "stream",
          "name": "stderr",
          "text": [
            "Evaluting Epoch: 3: 100%|██████████| 10/10 [00:14<00:00,  1.43s/it]\n"
          ]
        },
        {
          "output_type": "stream",
          "name": "stdout",
          "text": [
            "Names      : ['NLP_CHEST_071']\n",
            "Predictions: ['Chest plain film film film shows : Impression : - Suspect in both lungs. - Suspectd bilateral spine. - Suspect spine. - Blunting bilateral spine spine. - Blunting bilateral spine spine. - Bluntinntingg spine. - Bluntingg spine. - Bluntingg spine. - S / P PVC of spine. - Bluntingg spine. - S / P PVCVC. - Bluntinntin']\n",
            "Labels     : ['Chest film shows : Impression : - Bilateral lung infiltrations. - Suspect right lower lung patch. Blunting right CP angle. - Tortuous atherosclerotic aorta. - Scoliosis, DJD and osteoporosis of spine. Compression fracture of T12. Old fracture of left ribs. - S / P fixation in L - spine. - S / P tracheostomy and NG tube.']\n",
            "\n",
            "Rouge-2 score on epoch 2: {'Rouge-L-P': 0.07647083331795075, 'Rouge-L-R': 0.08438360584367659, 'Rouge-L-F': 0.08438360584367659, 'Rouge-2-P': 0.03697996780456445, 'Rouge-2-R': 0.03818835158894867, 'Rouge-2-F': 0.03818835158894867}\n"
          ]
        },
        {
          "output_type": "stream",
          "name": "stderr",
          "text": [
            "Training Epoch [4 / 30]: 100%|██████████| 89/89 [00:21<00:00,  4.19it/s, loss=0.868]\n",
            "Evaluting Epoch: 4:  10%|█         | 1/10 [00:01<00:11,  1.31s/it]"
          ]
        },
        {
          "output_type": "stream",
          "name": "stdout",
          "text": [
            "Names      : ['NLP_CHEST_031']\n",
            "Predictions: ['Chest plain film shows : Impression : - Suspicious bilateral lung patch. - Suspect heart size. - Normal heart size. - Normal heart size. - Normal heart size. - Normal heart size. - S / P NG infiltrations. - S / P PG insertion. - S / P Rt Ptt pleural effusion. - Spondylosis of spine. - S / P Rtt Rt']\n",
            "Labels     : ['Chest PA view : Impression : - Increased both lung markings. - Compatible with right lung nodules. - Fibrotic lesion in left upper lung. - Normal heart size. Atherosclerotic aorta. - Suspect right pleural effusion. - Spondylosis. R / O osteoporosis. - Compatible with multiple bony metastases. - S / P NG and endotracheal tube. - S / P Lt subclavian Port - A - cath.']\n",
            "\n"
          ]
        },
        {
          "output_type": "stream",
          "name": "stderr",
          "text": [
            "\rEvaluting Epoch: 4:  20%|██        | 2/10 [00:02<00:10,  1.30s/it]"
          ]
        },
        {
          "output_type": "stream",
          "name": "stdout",
          "text": [
            "Names      : ['NLP_CHEST_011']\n",
            "Predictions: ['Chest plain film shows : Impression : - Suspicious bilateral lung patch. - Suspect heart size. - Normal heart size. - Normal heart size. - Normal heart size. - Normal heart size. - S / P PG infiltrations. - S / P PG insertion. - S / P Rt Ptt pleural effusion. - Spondylosis of spine. - S / P Rtm tube.']\n",
            "Labels     : [\"Chest AP view showed : 1. s / p sternotomy and CABG. Enlarged heart size with tortuous aorta. 2. R't middle and lower lung faint patches. L't lower lung consolidation. L't pleural effusion. 3. No mediastinum widening. 4. s / p endotracheal tube and NG intubation.\"]\n",
            "\n"
          ]
        },
        {
          "output_type": "stream",
          "name": "stderr",
          "text": [
            "\rEvaluting Epoch: 4:  30%|███       | 3/10 [00:03<00:09,  1.29s/it]"
          ]
        },
        {
          "output_type": "stream",
          "name": "stdout",
          "text": [
            "Names      : ['NLP_CHEST_015']\n",
            "Predictions: ['Chest plain film shows : Impression : - - Suspicious right lung patch. - Normal heart size. - Normal heart size. - Normal heart size. - Normal heart size. - Normal heart size. - Normal heart size. - Normal heart size. - Normal heart size. - Normal heart size size. - Spondylosis of spine. - S / P PG insertion. - S / P NG of spine. - Spondyndylos']\n",
            "Labels     : ['Chest X ray : - No obvious lung mass nor consolidation patch. - Normal heart size. - No pleural effusion.']\n",
            "\n"
          ]
        },
        {
          "output_type": "stream",
          "name": "stderr",
          "text": [
            "\rEvaluting Epoch: 4:  40%|████      | 4/10 [00:05<00:07,  1.29s/it]"
          ]
        },
        {
          "output_type": "stream",
          "name": "stdout",
          "text": [
            "Names      : ['NLP_CHEST_002']\n",
            "Predictions: ['Chest plain film shows : Impression : - - Increased infiltrations in both lungs. - Normal heart size. - Atherosclerotic aorta. - Atherosclerotic aorta. - S / P Pt jugular CVC insertion. - S / P Pt j jugular pig pig. - Spondylosis of spine. - S / P Rtt pleural tube. -']\n",
            "Labels     : ['Chest PA view shows : Partial atelectasis at left lower lung field. Left pleural effusion. Borderline heart size. Atherosclerotic change of aortic knob. S / P port - A implantation via left subclavian vein. Intraperitoneal port catheter. Surgical clips at RUQ of abdomen.']\n",
            "\n"
          ]
        },
        {
          "output_type": "stream",
          "name": "stderr",
          "text": [
            "\rEvaluting Epoch: 4:  50%|█████     | 5/10 [00:06<00:06,  1.29s/it]"
          ]
        },
        {
          "output_type": "stream",
          "name": "stdout",
          "text": [
            "Names      : ['NLP_CHEST_057']\n",
            "Predictions: ['Chest plain film shows : Impression : - - Suspicious right lung patch. - - Increased infiltrations in both lungs. - - Blunting bilateral CP angles. - - S / P PVC insertion. - S / P Pt jugular egular pleural tube. - Spondylosis of spine. - S / P Pt P - - DJD of spine. - S / P Rtt P']\n",
            "Labels     : ['Chest plain film shows : Impression : - Increased infiltrations in both lungs. - Tortuous atherosclerotic dilated aorta. - Normal heart size. - DJD of spine. Old fracture of right ribs. - Increased both lung markings. S / P Lt jugular CVC insertion. S / P NG and endotracheal tube. - Susp. Lt pneumothorax. Suspect pneumomediastinum. Subcutaneous emphysema in bilateral neck. - S / P bilateral chest tube insertion.']\n",
            "\n"
          ]
        },
        {
          "output_type": "stream",
          "name": "stderr",
          "text": [
            "\rEvaluting Epoch: 4:  60%|██████    | 6/10 [00:07<00:05,  1.28s/it]"
          ]
        },
        {
          "output_type": "stream",
          "name": "stdout",
          "text": [
            "Names      : ['NLP_CHEST_059']\n",
            "Predictions: ['Chest plain film shows : Impression : - - Suspicious right lung patch. - - Suspect heart size. - Normal heart size. - Normal heart size. - Normal heart size. - Normal heart size. - S / P PG infiltrations in left lung. - S / P PG insertion. - S / P Rt Pt pleural effusion. - S / P Rt Ptt subclavian p']\n",
            "Labels     : ['Supine chest AP view shows : Pigtail catheter at right lower chest. Decreased amount of right pleural effusion. Air in the right lower pleural space. Poor lung expansion. Mild subcutaneous emphysema at right chest wall. Right pleural thickening. Ill - defined masses at right perihilar region. Normal heart size.']\n",
            "\n"
          ]
        },
        {
          "output_type": "stream",
          "name": "stderr",
          "text": [
            "\rEvaluting Epoch: 4:  70%|███████   | 7/10 [00:09<00:03,  1.28s/it]"
          ]
        },
        {
          "output_type": "stream",
          "name": "stdout",
          "text": [
            "Names      : ['NLP_CHEST_004']\n",
            "Predictions: [\"Chest plain film shows : Impression : - Suspicious right lung patch. - Normal heart size. - Normal heart size. - Normal heart size. - Normal heart size. - Normal heart size. - Normal heart size. - S / P PG infiltration. - S / P PG insertion. - S / P Rt Ptt pleural tube. - S / P Rtt Rtt R't jugular C\"]\n",
            "Labels     : ['Chest PA view show : Impression : - S / P RLL wedge resection. - Bilateral lungs metastasis. - Left lower lung subsegmental atelectasis. - Increased infiltrations in both lungs. - Blunting right CP angle. - Tortuous atherosclerotic aorta. - Scoliosis, DJD and osteoporosis of spine. - Compression fracture of L1.']\n",
            "\n"
          ]
        },
        {
          "output_type": "stream",
          "name": "stderr",
          "text": [
            "\rEvaluting Epoch: 4:  80%|████████  | 8/10 [00:10<00:02,  1.38s/it]"
          ]
        },
        {
          "output_type": "stream",
          "name": "stdout",
          "text": [
            "Names      : ['NLP_CHEST_085']\n",
            "Predictions: ['Chest plain film shows : Impression : - - Suspicious right lung patch. - Normal heart size. - Normal heart size. - Normal heart size. - Normal heart size. - Normal heart size. - Normal heart size. - S / P P insertion. - S / P PG insertion. - Spondylosis of spine. - Spondylosis. - Spondylosis of spine. - Spondyndylosis of']\n",
            "Labels     : ['Chest X ray : - Right pneumothorax with pleural effusion, status post drainge tube placement. - Extensive subcutaneous emphysema from neck to right side thoracic cage. - Increased right hilar opacity. - Atherosclerosis and tortuous aorta. - Obscured bilateral costophrenic angles. - Spondylosis and mild scoliosis of thoracolumbar spine. - OA of right glenohumeral joint. - Generalized osteopenia.']\n",
            "\n"
          ]
        },
        {
          "output_type": "stream",
          "name": "stderr",
          "text": [
            "\rEvaluting Epoch: 4:  90%|█████████ | 9/10 [00:12<00:01,  1.54s/it]"
          ]
        },
        {
          "output_type": "stream",
          "name": "stdout",
          "text": [
            "Names      : ['NLP_CHEST_027']\n",
            "Predictions: ['Chest plain film shows : Impression : - Suspicious right lung patch. - Normal heart size. - Normal heart size. - Normal heart size. - Normal heart size. - Normal heart size. - Normal heart size. - Normal heart size. - S / P PG infiltrations in both lungs. - S / P PG insertion. - S / P Rt PG insertion. - S / P insertion. - Spondyndylos']\n",
            "Labels     : ['Chest PA View : Impression : > Cardiomegaly with bilateral pulmonary congestion. > Postinflammatory fibrosis in both upper lungs. > Atherosclerosis of aorta. > Old fractures of left 5th and 6th ribs. > R / O osteoporosis. > Spondylosis of thoracolumbar spine. > S / P abdominal operation in RUQ.']\n",
            "\n"
          ]
        },
        {
          "output_type": "stream",
          "name": "stderr",
          "text": [
            "Evaluting Epoch: 4: 100%|██████████| 10/10 [00:13<00:00,  1.38s/it]\n"
          ]
        },
        {
          "output_type": "stream",
          "name": "stdout",
          "text": [
            "Names      : ['NLP_CHEST_071']\n",
            "Predictions: ['Chest plain film shows : Impression : - - Increased infiltrations in both lungs. - - Suspect bilateral CP angles. - Normal heart size. - Normal heart size. - Normal heart size. - S / P PG insertion. - S / P insertion. - S / P PG insertion. - S / P Rtt P insertion insertion. - Spondylosis of spine. - S / P Rt insertion insertion insertion insertion']\n",
            "Labels     : ['Chest film shows : Impression : - Bilateral lung infiltrations. - Suspect right lower lung patch. Blunting right CP angle. - Tortuous atherosclerotic aorta. - Scoliosis, DJD and osteoporosis of spine. Compression fracture of T12. Old fracture of left ribs. - S / P fixation in L - spine. - S / P tracheostomy and NG tube.']\n",
            "\n",
            "Rouge-2 score on epoch 3: {'Rouge-L-P': 0.11615309943690666, 'Rouge-L-R': 0.137361810614907, 'Rouge-L-F': 0.137361810614907, 'Rouge-2-P': 0.06055502485798915, 'Rouge-2-R': 0.06965002725111638, 'Rouge-2-F': 0.06965002725111638}\n"
          ]
        },
        {
          "output_type": "stream",
          "name": "stderr",
          "text": [
            "Training Epoch [5 / 30]: 100%|██████████| 89/89 [00:20<00:00,  4.43it/s, loss=0.679]\n",
            "Evaluting Epoch: 5:  10%|█         | 1/10 [00:01<00:11,  1.30s/it]"
          ]
        },
        {
          "output_type": "stream",
          "name": "stdout",
          "text": [
            "Names      : ['NLP_CHEST_031']\n",
            "Predictions: ['Chest plain film shows : Impression : - Suspicious right lung patch. - Increased both lungs. - Suspect right upper lung patch. - Normal heart size. - DJD of spine. - DJD of spine. - DJD of spine. - DJD of spine. - DJD of spine. - S / P right chest tube insertion.']\n",
            "Labels     : ['Chest PA view : Impression : - Increased both lung markings. - Compatible with right lung nodules. - Fibrotic lesion in left upper lung. - Normal heart size. Atherosclerotic aorta. - Suspect right pleural effusion. - Spondylosis. R / O osteoporosis. - Compatible with multiple bony metastases. - S / P NG and endotracheal tube. - S / P Lt subclavian Port - A - cath.']\n",
            "\n"
          ]
        },
        {
          "output_type": "stream",
          "name": "stderr",
          "text": [
            "\rEvaluting Epoch: 5:  20%|██        | 2/10 [00:02<00:10,  1.30s/it]"
          ]
        },
        {
          "output_type": "stream",
          "name": "stdout",
          "text": [
            "Names      : ['NLP_CHEST_011']\n",
            "Predictions: ['Chest plain film shows : Impression : - Suspicious right upper lung patch. - Increased both lung patch. - Suspect right upper lung patch. - Normal heart size. - Normal heart size. - DJD of spine. - DJD of spine. - DJD of spine. - DJD of spine. - S / P right chest tube insertion.']\n",
            "Labels     : [\"Chest AP view showed : 1. s / p sternotomy and CABG. Enlarged heart size with tortuous aorta. 2. R't middle and lower lung faint patches. L't lower lung consolidation. L't pleural effusion. 3. No mediastinum widening. 4. s / p endotracheal tube and NG intubation.\"]\n",
            "\n"
          ]
        },
        {
          "output_type": "stream",
          "name": "stderr",
          "text": [
            "\rEvaluting Epoch: 5:  30%|███       | 3/10 [00:03<00:08,  1.28s/it]"
          ]
        },
        {
          "output_type": "stream",
          "name": "stdout",
          "text": [
            "Names      : ['NLP_CHEST_015']\n",
            "Predictions: ['Chest plain film shows : Impression : - Increased both lung markings. - Normal heart size. - Normal heart size. - Normal heart size size. - Normal heart size size. - Normal heart size size. - DJD of spine. - DJD of spine. - DJD of spine. - DJD of spine.']\n",
            "Labels     : ['Chest X ray : - No obvious lung mass nor consolidation patch. - Normal heart size. - No pleural effusion.']\n",
            "\n"
          ]
        },
        {
          "output_type": "stream",
          "name": "stderr",
          "text": [
            "\rEvaluting Epoch: 5:  40%|████      | 4/10 [00:05<00:07,  1.28s/it]"
          ]
        },
        {
          "output_type": "stream",
          "name": "stdout",
          "text": [
            "Names      : ['NLP_CHEST_002']\n",
            "Predictions: ['Chest plain film shows : Impression : - Increased both lung markings. - Normal heart size. - Normal heart size. - Normal heart size size. - Normal heart size size. - Normal heart size. - DJD of spine. - DJD of spine. - DJD of spine. - DJD of spine.']\n",
            "Labels     : ['Chest PA view shows : Partial atelectasis at left lower lung field. Left pleural effusion. Borderline heart size. Atherosclerotic change of aortic knob. S / P port - A implantation via left subclavian vein. Intraperitoneal port catheter. Surgical clips at RUQ of abdomen.']\n",
            "\n"
          ]
        },
        {
          "output_type": "stream",
          "name": "stderr",
          "text": [
            "\rEvaluting Epoch: 5:  50%|█████     | 5/10 [00:06<00:06,  1.28s/it]"
          ]
        },
        {
          "output_type": "stream",
          "name": "stdout",
          "text": [
            "Names      : ['NLP_CHEST_057']\n",
            "Predictions: ['Chest plain film shows : Impression : - Increased both lung markings. - Suspect right lung patch. - Normal heart size. - DJD of spine. - DJD of spine. - DJD of spine. - DJD of spine. - DJD of spine. - DJD of spine. - DJD of spine. - DJD of spine.']\n",
            "Labels     : ['Chest plain film shows : Impression : - Increased infiltrations in both lungs. - Tortuous atherosclerotic dilated aorta. - Normal heart size. - DJD of spine. Old fracture of right ribs. - Increased both lung markings. S / P Lt jugular CVC insertion. S / P NG and endotracheal tube. - Susp. Lt pneumothorax. Suspect pneumomediastinum. Subcutaneous emphysema in bilateral neck. - S / P bilateral chest tube insertion.']\n",
            "\n"
          ]
        },
        {
          "output_type": "stream",
          "name": "stderr",
          "text": [
            "\rEvaluting Epoch: 5:  60%|██████    | 6/10 [00:07<00:05,  1.28s/it]"
          ]
        },
        {
          "output_type": "stream",
          "name": "stdout",
          "text": [
            "Names      : ['NLP_CHEST_059']\n",
            "Predictions: ['Chest plain film shows : Impression : - Suspicious right lung patch. - Normal heart size. - Normal heart size. - Normal heart size. - DJD of spine. - DJD of spine. - DJD of spine. - DJD of spine. - DJD of spine. - DJD of spine. - S / P right chest size.']\n",
            "Labels     : ['Supine chest AP view shows : Pigtail catheter at right lower chest. Decreased amount of right pleural effusion. Air in the right lower pleural space. Poor lung expansion. Mild subcutaneous emphysema at right chest wall. Right pleural thickening. Ill - defined masses at right perihilar region. Normal heart size.']\n",
            "\n"
          ]
        },
        {
          "output_type": "stream",
          "name": "stderr",
          "text": [
            "\rEvaluting Epoch: 5:  70%|███████   | 7/10 [00:08<00:03,  1.28s/it]"
          ]
        },
        {
          "output_type": "stream",
          "name": "stdout",
          "text": [
            "Names      : ['NLP_CHEST_004']\n",
            "Predictions: ['Chest plain film shows : Impression : - Suspicious right lung patch. - Increased both lungs. - Normal heart size. - Normal heart size. - DJD of spine. - DJD of spine. - DJD of spine. - DJD of spine. - DJD of spine. - DJD of spine. - S / P right chest size.']\n",
            "Labels     : ['Chest PA view show : Impression : - S / P RLL wedge resection. - Bilateral lungs metastasis. - Left lower lung subsegmental atelectasis. - Increased infiltrations in both lungs. - Blunting right CP angle. - Tortuous atherosclerotic aorta. - Scoliosis, DJD and osteoporosis of spine. - Compression fracture of L1.']\n",
            "\n"
          ]
        },
        {
          "output_type": "stream",
          "name": "stderr",
          "text": [
            "\rEvaluting Epoch: 5:  80%|████████  | 8/10 [00:10<00:02,  1.41s/it]"
          ]
        },
        {
          "output_type": "stream",
          "name": "stdout",
          "text": [
            "Names      : ['NLP_CHEST_085']\n",
            "Predictions: ['Chest plain film shows : Impression : - Increased both lung markings. - Suspect right upper lung patch. - Normal heart size. - Normal heart size. - Normal heart size. - DJD of spine. - DJD of spine. - DJD of spine. - DJD of spine. - DJD of spine. - S / P right chest tube insertion.']\n",
            "Labels     : ['Chest X ray : - Right pneumothorax with pleural effusion, status post drainge tube placement. - Extensive subcutaneous emphysema from neck to right side thoracic cage. - Increased right hilar opacity. - Atherosclerosis and tortuous aorta. - Obscured bilateral costophrenic angles. - Spondylosis and mild scoliosis of thoracolumbar spine. - OA of right glenohumeral joint. - Generalized osteopenia.']\n",
            "\n"
          ]
        },
        {
          "output_type": "stream",
          "name": "stderr",
          "text": [
            "\rEvaluting Epoch: 5:  90%|█████████ | 9/10 [00:12<00:01,  1.48s/it]"
          ]
        },
        {
          "output_type": "stream",
          "name": "stdout",
          "text": [
            "Names      : ['NLP_CHEST_027']\n",
            "Predictions: ['Chest plain film shows : Impression : - Suspicious right upper lung patch. - Normal heart size. - Normal heart size. - Normal heart size. - Normal heart size. - Normal heart size. - DJD of spine. - DJD of spine. - DJD of spine. - DJD of spine. - S / P right chest size.']\n",
            "Labels     : ['Chest PA View : Impression : > Cardiomegaly with bilateral pulmonary congestion. > Postinflammatory fibrosis in both upper lungs. > Atherosclerosis of aorta. > Old fractures of left 5th and 6th ribs. > R / O osteoporosis. > Spondylosis of thoracolumbar spine. > S / P abdominal operation in RUQ.']\n",
            "\n"
          ]
        },
        {
          "output_type": "stream",
          "name": "stderr",
          "text": [
            "Evaluting Epoch: 5: 100%|██████████| 10/10 [00:13<00:00,  1.36s/it]\n"
          ]
        },
        {
          "output_type": "stream",
          "name": "stdout",
          "text": [
            "Names      : ['NLP_CHEST_071']\n",
            "Predictions: ['Chest plain film shows : Impression : - Increased both lung markings. - Suspect right lung patch. - Normal heart size. - DJD of spine. - DJD of spine. - DJD of spine. - DJD of spine. - DJD of spine. - DJD of spine. - DJD of spine. - DJD of spine. - DJD of spine.']\n",
            "Labels     : ['Chest film shows : Impression : - Bilateral lung infiltrations. - Suspect right lower lung patch. Blunting right CP angle. - Tortuous atherosclerotic aorta. - Scoliosis, DJD and osteoporosis of spine. Compression fracture of T12. Old fracture of left ribs. - S / P fixation in L - spine. - S / P tracheostomy and NG tube.']\n",
            "\n",
            "Rouge-2 score on epoch 4: {'Rouge-L-P': 0.1460110404669906, 'Rouge-L-R': 0.16739029247939696, 'Rouge-L-F': 0.16739029247939696, 'Rouge-2-P': 0.07510060336848197, 'Rouge-2-R': 0.08386075048102913, 'Rouge-2-F': 0.08386075048102913}\n"
          ]
        },
        {
          "output_type": "stream",
          "name": "stderr",
          "text": [
            "Training Epoch [6 / 30]: 100%|██████████| 89/89 [00:20<00:00,  4.43it/s, loss=0.569]\n",
            "Evaluting Epoch: 6:  10%|█         | 1/10 [00:01<00:12,  1.33s/it]"
          ]
        },
        {
          "output_type": "stream",
          "name": "stdout",
          "text": [
            "Names      : ['NLP_CHEST_031']\n",
            "Predictions: ['Chest PA view shows : Impression : - Suspicious right upper lung markings. - Suspect right upper lung markings. - Suspect right upper lung markings. - Suspect right upper lung markings. - Suspect right upper lung markings. - Spondylosis of spine. - Spondylosis of spine. - Spondylosis of spine. - Spondylosis of spine. - Spondylosis. Spondy']\n",
            "Labels     : ['Chest PA view : Impression : - Increased both lung markings. - Compatible with right lung nodules. - Fibrotic lesion in left upper lung. - Normal heart size. Atherosclerotic aorta. - Suspect right pleural effusion. - Spondylosis. R / O osteoporosis. - Compatible with multiple bony metastases. - S / P NG and endotracheal tube. - S / P Lt subclavian Port - A - cath.']\n",
            "\n"
          ]
        },
        {
          "output_type": "stream",
          "name": "stderr",
          "text": [
            "\rEvaluting Epoch: 6:  20%|██        | 2/10 [00:02<00:10,  1.34s/it]"
          ]
        },
        {
          "output_type": "stream",
          "name": "stdout",
          "text": [
            "Names      : ['NLP_CHEST_011']\n",
            "Predictions: ['Chest plain film shows : Impression : - Increased both lung markings. - Suspect right upper lung markings. - Blunting bilateral CP angles. - Blunting bilateral CP angles. - Tortuous atherosclerotic aorta. - Tortuous atherosclerotic dilated aorta. - S / P right upper abdomen.']\n",
            "Labels     : [\"Chest AP view showed : 1. s / p sternotomy and CABG. Enlarged heart size with tortuous aorta. 2. R't middle and lower lung faint patches. L't lower lung consolidation. L't pleural effusion. 3. No mediastinum widening. 4. s / p endotracheal tube and NG intubation.\"]\n",
            "\n"
          ]
        },
        {
          "output_type": "stream",
          "name": "stderr",
          "text": [
            "\rEvaluting Epoch: 6:  30%|███       | 3/10 [00:03<00:09,  1.33s/it]"
          ]
        },
        {
          "output_type": "stream",
          "name": "stdout",
          "text": [
            "Names      : ['NLP_CHEST_015']\n",
            "Predictions: ['Chest PA view shows : Impression : - Increased both lung markings. - Suspect right upper lung markings. - Blunting bilateral CP angles. - Blunting bilateral CP angles. - Blunting bilateral CP angles. - Blunting bilateral CP angles. - Spondylosis of spine. - S / P right upper abdomen. - Spondylosis of spine.']\n",
            "Labels     : ['Chest X ray : - No obvious lung mass nor consolidation patch. - Normal heart size. - No pleural effusion.']\n",
            "\n"
          ]
        },
        {
          "output_type": "stream",
          "name": "stderr",
          "text": [
            "\rEvaluting Epoch: 6:  40%|████      | 4/10 [00:05<00:08,  1.36s/it]"
          ]
        },
        {
          "output_type": "stream",
          "name": "stdout",
          "text": [
            "Names      : ['NLP_CHEST_002']\n",
            "Predictions: ['Chest plain film shows : Impression : - Increased both lung markings. - Increased infiltrations in both lungs. - Blunting bilateral CP angles. - Blunting bilateral CP angles. - Tortuous atherosclerotic aorta. - Tortuous atherosclerotic dilated aorta. - Tortuous atherosclerotic dilated aorta. - Scoliosis of spine.']\n",
            "Labels     : ['Chest PA view shows : Partial atelectasis at left lower lung field. Left pleural effusion. Borderline heart size. Atherosclerotic change of aortic knob. S / P port - A implantation via left subclavian vein. Intraperitoneal port catheter. Surgical clips at RUQ of abdomen.']\n",
            "\n"
          ]
        },
        {
          "output_type": "stream",
          "name": "stderr",
          "text": [
            "\rEvaluting Epoch: 6:  50%|█████     | 5/10 [00:06<00:06,  1.35s/it]"
          ]
        },
        {
          "output_type": "stream",
          "name": "stdout",
          "text": [
            "Names      : ['NLP_CHEST_057']\n",
            "Predictions: ['Chest PA view shows : Impression : - Increased both lung markings. - Suspect right upper lung markings. - Blunting bilateral CP angles. - Suspect right upper lung markings. - Blunting bilateral CP angles. - Spondylosis of spine. - Tortuous atherosclerotic aorta. - Spondylosis of spine. - Spondylosis of spine.']\n",
            "Labels     : ['Chest plain film shows : Impression : - Increased infiltrations in both lungs. - Tortuous atherosclerotic dilated aorta. - Normal heart size. - DJD of spine. Old fracture of right ribs. - Increased both lung markings. S / P Lt jugular CVC insertion. S / P NG and endotracheal tube. - Susp. Lt pneumothorax. Suspect pneumomediastinum. Subcutaneous emphysema in bilateral neck. - S / P bilateral chest tube insertion.']\n",
            "\n"
          ]
        },
        {
          "output_type": "stream",
          "name": "stderr",
          "text": [
            "\rEvaluting Epoch: 6:  60%|██████    | 6/10 [00:08<00:05,  1.46s/it]"
          ]
        },
        {
          "output_type": "stream",
          "name": "stdout",
          "text": [
            "Names      : ['NLP_CHEST_059']\n",
            "Predictions: ['Chest plain film shows : Impression : - Increased both lung markings. - Suspect right upper lung markings. - Blunting bilateral CP angles. - Blunting bilateral CP angles. - Tortuous atherosclerotic aorta. - Tortuous atherosclerotic dilated aorta. - S / P right upper abdomen. - S / P right upper abdomen.']\n",
            "Labels     : ['Supine chest AP view shows : Pigtail catheter at right lower chest. Decreased amount of right pleural effusion. Air in the right lower pleural space. Poor lung expansion. Mild subcutaneous emphysema at right chest wall. Right pleural thickening. Ill - defined masses at right perihilar region. Normal heart size.']\n",
            "\n"
          ]
        },
        {
          "output_type": "stream",
          "name": "stderr",
          "text": [
            "\rEvaluting Epoch: 6:  70%|███████   | 7/10 [00:10<00:04,  1.57s/it]"
          ]
        },
        {
          "output_type": "stream",
          "name": "stdout",
          "text": [
            "Names      : ['NLP_CHEST_004']\n",
            "Predictions: ['Chest plain film shows : Impression : - Increased both lung markings. - Suspect right upper lung markings. - Blunting bilateral CP angles. - Blunting bilateral CP angles. - Blunting bilateral CP angles. - Tortuous atherosclerotic aorta. - Spondylosis of spine. - Spondylosis of spine. - S / P right upper abdomen. S / P Rt subclav']\n",
            "Labels     : ['Chest PA view show : Impression : - S / P RLL wedge resection. - Bilateral lungs metastasis. - Left lower lung subsegmental atelectasis. - Increased infiltrations in both lungs. - Blunting right CP angle. - Tortuous atherosclerotic aorta. - Scoliosis, DJD and osteoporosis of spine. - Compression fracture of L1.']\n",
            "\n"
          ]
        },
        {
          "output_type": "stream",
          "name": "stderr",
          "text": [
            "\rEvaluting Epoch: 6:  80%|████████  | 8/10 [00:11<00:02,  1.48s/it]"
          ]
        },
        {
          "output_type": "stream",
          "name": "stdout",
          "text": [
            "Names      : ['NLP_CHEST_085']\n",
            "Predictions: ['Chest PA view shows : Impression : - Increased both lung markings. - Suspect right upper lung markings. - Blunting bilateral CP angles. - Blunting bilateral CP angles. - Blunting bilateral CP angles. - Tortuous atherosclerotic aorta. - Spondylosis of spine. - Spondylosis of spine. - Spondylosis of spine.']\n",
            "Labels     : ['Chest X ray : - Right pneumothorax with pleural effusion, status post drainge tube placement. - Extensive subcutaneous emphysema from neck to right side thoracic cage. - Increased right hilar opacity. - Atherosclerosis and tortuous aorta. - Obscured bilateral costophrenic angles. - Spondylosis and mild scoliosis of thoracolumbar spine. - OA of right glenohumeral joint. - Generalized osteopenia.']\n",
            "\n"
          ]
        },
        {
          "output_type": "stream",
          "name": "stderr",
          "text": [
            "\rEvaluting Epoch: 6:  90%|█████████ | 9/10 [00:12<00:01,  1.41s/it]"
          ]
        },
        {
          "output_type": "stream",
          "name": "stdout",
          "text": [
            "Names      : ['NLP_CHEST_027']\n",
            "Predictions: ['Chest plain film shows : Impression : - Increased both lung markings. - Suspect right upper lung markings. - Blunting bilateral CP angles. - Blunting bilateral CP angles. - Tortuous atherosclerotic aorta. - Tortuous atherosclerotic dilated aorta. - S / P right upper abdomen. - S / P right upper abdomen.']\n",
            "Labels     : ['Chest PA View : Impression : > Cardiomegaly with bilateral pulmonary congestion. > Postinflammatory fibrosis in both upper lungs. > Atherosclerosis of aorta. > Old fractures of left 5th and 6th ribs. > R / O osteoporosis. > Spondylosis of thoracolumbar spine. > S / P abdominal operation in RUQ.']\n",
            "\n"
          ]
        },
        {
          "output_type": "stream",
          "name": "stderr",
          "text": [
            "Evaluting Epoch: 6: 100%|██████████| 10/10 [00:14<00:00,  1.40s/it]\n"
          ]
        },
        {
          "output_type": "stream",
          "name": "stdout",
          "text": [
            "Names      : ['NLP_CHEST_071']\n",
            "Predictions: ['Chest plain film shows : Impression : - Increased both lung markings. - Increased infiltrations in both lungs. - Blunting bilateral CP angles. - Tortuous atherosclerotic aorta. - Tortuous atherosclerotic aorta. - Tortuous atherosclerotic aorta. - S / P right abdomen. - S / P jugular CVC insertion.']\n",
            "Labels     : ['Chest film shows : Impression : - Bilateral lung infiltrations. - Suspect right lower lung patch. Blunting right CP angle. - Tortuous atherosclerotic aorta. - Scoliosis, DJD and osteoporosis of spine. Compression fracture of T12. Old fracture of left ribs. - S / P fixation in L - spine. - S / P tracheostomy and NG tube.']\n",
            "\n",
            "Rouge-2 score on epoch 5: {'Rouge-L-P': 0.1659883691240322, 'Rouge-L-R': 0.1830296150900132, 'Rouge-L-F': 0.1830296150900132, 'Rouge-2-P': 0.08362247061748596, 'Rouge-2-R': 0.08925636093393725, 'Rouge-2-F': 0.08925636093393725}\n"
          ]
        },
        {
          "output_type": "stream",
          "name": "stderr",
          "text": [
            "Training Epoch [7 / 30]: 100%|██████████| 89/89 [00:20<00:00,  4.35it/s, loss=0.492]\n",
            "Evaluting Epoch: 7:  10%|█         | 1/10 [00:01<00:11,  1.31s/it]"
          ]
        },
        {
          "output_type": "stream",
          "name": "stdout",
          "text": [
            "Names      : ['NLP_CHEST_031']\n",
            "Predictions: ['Chest plain film view showed : Impression : - Increased both lung markings. - Increased infiltrations in both lungs. - Tortuous atherosclerotic aorta. - Tortuous atherosclerotic aorta. - Spondylosis of spine. - S / P NG infiltrations. - S / P Rt jugular CVC insertion. - S / P jugular']\n",
            "Labels     : ['Chest PA view : Impression : - Increased both lung markings. - Compatible with right lung nodules. - Fibrotic lesion in left upper lung. - Normal heart size. Atherosclerotic aorta. - Suspect right pleural effusion. - Spondylosis. R / O osteoporosis. - Compatible with multiple bony metastases. - S / P NG and endotracheal tube. - S / P Lt subclavian Port - A - cath.']\n",
            "\n"
          ]
        },
        {
          "output_type": "stream",
          "name": "stderr",
          "text": [
            "\rEvaluting Epoch: 7:  20%|██        | 2/10 [00:03<00:12,  1.56s/it]"
          ]
        },
        {
          "output_type": "stream",
          "name": "stdout",
          "text": [
            "Names      : ['NLP_CHEST_011']\n",
            "Predictions: ['Chest plain film view showed : Impression : - Suspicious pulmonary edema. - Increased both lung markings. - Suspect right upper lung markings. - Normal heart size. - S / P endotracheal tube. - S / P NG tube insertion. - S / P Rt jugular CVC insertion. S / P Rt jugular CVC insertion.']\n",
            "Labels     : [\"Chest AP view showed : 1. s / p sternotomy and CABG. Enlarged heart size with tortuous aorta. 2. R't middle and lower lung faint patches. L't lower lung consolidation. L't pleural effusion. 3. No mediastinum widening. 4. s / p endotracheal tube and NG intubation.\"]\n",
            "\n"
          ]
        },
        {
          "output_type": "stream",
          "name": "stderr",
          "text": [
            "\rEvaluting Epoch: 7:  30%|███       | 3/10 [00:04<00:11,  1.61s/it]"
          ]
        },
        {
          "output_type": "stream",
          "name": "stdout",
          "text": [
            "Names      : ['NLP_CHEST_015']\n",
            "Predictions: ['Chest plain film view showed : Impression : - Increased both lung markings. - Normal heart size. - Normal heart size. - Normal heart size. - Normal heart size. - Normal heart size. - S / P insertion.']\n",
            "Labels     : ['Chest X ray : - No obvious lung mass nor consolidation patch. - Normal heart size. - No pleural effusion.']\n",
            "\n"
          ]
        },
        {
          "output_type": "stream",
          "name": "stderr",
          "text": [
            "\rEvaluting Epoch: 7:  40%|████      | 4/10 [00:05<00:08,  1.48s/it]"
          ]
        },
        {
          "output_type": "stream",
          "name": "stdout",
          "text": [
            "Names      : ['NLP_CHEST_002']\n",
            "Predictions: ['Chest plain film view showed : Impression : - Increased both lung markings. - Normal heart size. - Normal heart size. - Normal heart size. - Normal heart size. - S / P insertion. - S / P endotracheal tube insertion. - S / P right chest tube insertion.']\n",
            "Labels     : ['Chest PA view shows : Partial atelectasis at left lower lung field. Left pleural effusion. Borderline heart size. Atherosclerotic change of aortic knob. S / P port - A implantation via left subclavian vein. Intraperitoneal port catheter. Surgical clips at RUQ of abdomen.']\n",
            "\n"
          ]
        },
        {
          "output_type": "stream",
          "name": "stderr",
          "text": [
            "\rEvaluting Epoch: 7:  50%|█████     | 5/10 [00:07<00:07,  1.42s/it]"
          ]
        },
        {
          "output_type": "stream",
          "name": "stdout",
          "text": [
            "Names      : ['NLP_CHEST_057']\n",
            "Predictions: ['Chest plain film view showed : Impression : - Increased both lung markings. - Increased infiltrations in both lungs. - Tortuous atherosclerotic aorta. - Tortuous atherosclerotic aorta. - S / P NG infiltrations. - S / P jugular CVC insertion.']\n",
            "Labels     : ['Chest plain film shows : Impression : - Increased infiltrations in both lungs. - Tortuous atherosclerotic dilated aorta. - Normal heart size. - DJD of spine. Old fracture of right ribs. - Increased both lung markings. S / P Lt jugular CVC insertion. S / P NG and endotracheal tube. - Susp. Lt pneumothorax. Suspect pneumomediastinum. Subcutaneous emphysema in bilateral neck. - S / P bilateral chest tube insertion.']\n",
            "\n"
          ]
        },
        {
          "output_type": "stream",
          "name": "stderr",
          "text": [
            "\rEvaluting Epoch: 7:  60%|██████    | 6/10 [00:08<00:05,  1.37s/it]"
          ]
        },
        {
          "output_type": "stream",
          "name": "stdout",
          "text": [
            "Names      : ['NLP_CHEST_059']\n",
            "Predictions: ['Chest plain film view showed : Impression : - Increased both lung markings. - Increased infiltrations in both lungs. - Atherosclerotic aorta. - Spondylosis of aorta. - S / P NG tube insertion. - S / P NG tube insertion.']\n",
            "Labels     : ['Supine chest AP view shows : Pigtail catheter at right lower chest. Decreased amount of right pleural effusion. Air in the right lower pleural space. Poor lung expansion. Mild subcutaneous emphysema at right chest wall. Right pleural thickening. Ill - defined masses at right perihilar region. Normal heart size.']\n",
            "\n"
          ]
        },
        {
          "output_type": "stream",
          "name": "stderr",
          "text": [
            "\rEvaluting Epoch: 7:  70%|███████   | 7/10 [00:09<00:04,  1.35s/it]"
          ]
        },
        {
          "output_type": "stream",
          "name": "stdout",
          "text": [
            "Names      : ['NLP_CHEST_004']\n",
            "Predictions: ['Chest plain film view showed : Impression : - Increased both lung markings. - Increased infiltrations in both lungs. - Atherosclerotic aorta. - Spondylosis of aorta. - S / P NG tube insertion. - S / P NG tube insertion. S / P jugular CVC insertion.']\n",
            "Labels     : ['Chest PA view show : Impression : - S / P RLL wedge resection. - Bilateral lungs metastasis. - Left lower lung subsegmental atelectasis. - Increased infiltrations in both lungs. - Blunting right CP angle. - Tortuous atherosclerotic aorta. - Scoliosis, DJD and osteoporosis of spine. - Compression fracture of L1.']\n",
            "\n"
          ]
        },
        {
          "output_type": "stream",
          "name": "stderr",
          "text": [
            "\rEvaluting Epoch: 7:  80%|████████  | 8/10 [00:11<00:02,  1.32s/it]"
          ]
        },
        {
          "output_type": "stream",
          "name": "stdout",
          "text": [
            "Names      : ['NLP_CHEST_085']\n",
            "Predictions: ['Chest plain film view showed : Impression : - Increased both lung markings. - Increased infiltrations in both lungs. - Atherosclerotic aorta. - Normal heart size. - Spondylosis of spine. - S / P NG infiltrations in T - spine. - S / P jugular CVC insertion.']\n",
            "Labels     : ['Chest X ray : - Right pneumothorax with pleural effusion, status post drainge tube placement. - Extensive subcutaneous emphysema from neck to right side thoracic cage. - Increased right hilar opacity. - Atherosclerosis and tortuous aorta. - Obscured bilateral costophrenic angles. - Spondylosis and mild scoliosis of thoracolumbar spine. - OA of right glenohumeral joint. - Generalized osteopenia.']\n",
            "\n"
          ]
        },
        {
          "output_type": "stream",
          "name": "stderr",
          "text": [
            "\rEvaluting Epoch: 7:  90%|█████████ | 9/10 [00:12<00:01,  1.30s/it]"
          ]
        },
        {
          "output_type": "stream",
          "name": "stdout",
          "text": [
            "Names      : ['NLP_CHEST_027']\n",
            "Predictions: ['Chest plain film view showed : Impression : - Increased both lung markings. - Increased infiltrations in both lungs. - Atherosclerotic aorta. - Normal heart size. - Spondylosis of spine. - S / P NG tube insertion. - S / P Rt jugular CVC insertion.']\n",
            "Labels     : ['Chest PA View : Impression : > Cardiomegaly with bilateral pulmonary congestion. > Postinflammatory fibrosis in both upper lungs. > Atherosclerosis of aorta. > Old fractures of left 5th and 6th ribs. > R / O osteoporosis. > Spondylosis of thoracolumbar spine. > S / P abdominal operation in RUQ.']\n",
            "\n"
          ]
        },
        {
          "output_type": "stream",
          "name": "stderr",
          "text": [
            "Evaluting Epoch: 7: 100%|██████████| 10/10 [00:13<00:00,  1.37s/it]\n"
          ]
        },
        {
          "output_type": "stream",
          "name": "stdout",
          "text": [
            "Names      : ['NLP_CHEST_071']\n",
            "Predictions: ['Chest plain film view showed : Impression : - Increased both lung markings. - Increased infiltrations in both lungs. - Tortuous atherosclerotic aorta. - Tortuous atherosclerotic aorta. - S / P NG tube insertion. - S / P NG tube insertion. S / P Rt jugular CVC insertion.']\n",
            "Labels     : ['Chest film shows : Impression : - Bilateral lung infiltrations. - Suspect right lower lung patch. Blunting right CP angle. - Tortuous atherosclerotic aorta. - Scoliosis, DJD and osteoporosis of spine. Compression fracture of T12. Old fracture of left ribs. - S / P fixation in L - spine. - S / P tracheostomy and NG tube.']\n",
            "\n",
            "Rouge-2 score on epoch 6: {'Rouge-L-P': 0.19024976259557969, 'Rouge-L-R': 0.1998164144681649, 'Rouge-L-F': 0.1998164144681649, 'Rouge-2-P': 0.10079659443200263, 'Rouge-2-R': 0.1009318641279531, 'Rouge-2-F': 0.1009318641279531}\n"
          ]
        },
        {
          "output_type": "stream",
          "name": "stderr",
          "text": [
            "Training Epoch [8 / 30]: 100%|██████████| 89/89 [00:21<00:00,  4.19it/s, loss=0.432]\n",
            "Evaluting Epoch: 8:  10%|█         | 1/10 [00:01<00:11,  1.33s/it]"
          ]
        },
        {
          "output_type": "stream",
          "name": "stdout",
          "text": [
            "Names      : ['NLP_CHEST_031']\n",
            "Predictions: ['Chest plain film shows : Impression : - Increased both lung markings. - Blunting bilateral CP angles. - Blunting bilateral CP angles. - Tortuous atherosclerotic aorta. - Tortuous atherosclerotic dilated aorta. - S / P Rt jugular CVC insertion. - S / P Rt jugular CVC insertion.']\n",
            "Labels     : ['Chest PA view : Impression : - Increased both lung markings. - Compatible with right lung nodules. - Fibrotic lesion in left upper lung. - Normal heart size. Atherosclerotic aorta. - Suspect right pleural effusion. - Spondylosis. R / O osteoporosis. - Compatible with multiple bony metastases. - S / P NG and endotracheal tube. - S / P Lt subclavian Port - A - cath.']\n",
            "\n"
          ]
        },
        {
          "output_type": "stream",
          "name": "stderr",
          "text": [
            "\rEvaluting Epoch: 8:  20%|██        | 2/10 [00:02<00:10,  1.30s/it]"
          ]
        },
        {
          "output_type": "stream",
          "name": "stdout",
          "text": [
            "Names      : ['NLP_CHEST_011']\n",
            "Predictions: ['Chest plain film shows : Impression : - Suspicious right upper lung patch. - Increased both lung markings. - Blunting bilateral CP angles. - Blunting bilateral CP angles. - Tortuous atherosclerotic dilated aorta. - Tortuous atherosclerotic dilated aorta. - S / P Rt jugular CVC insertion.']\n",
            "Labels     : [\"Chest AP view showed : 1. s / p sternotomy and CABG. Enlarged heart size with tortuous aorta. 2. R't middle and lower lung faint patches. L't lower lung consolidation. L't pleural effusion. 3. No mediastinum widening. 4. s / p endotracheal tube and NG intubation.\"]\n",
            "\n"
          ]
        },
        {
          "output_type": "stream",
          "name": "stderr",
          "text": [
            "\rEvaluting Epoch: 8:  30%|███       | 3/10 [00:03<00:09,  1.31s/it]"
          ]
        },
        {
          "output_type": "stream",
          "name": "stdout",
          "text": [
            "Names      : ['NLP_CHEST_015']\n",
            "Predictions: ['Chest plain film shows : Impression : - Increased both lung markings. - Blunting bilateral CP angles. - Blunting bilateral CP angles. - Atherosclerotic aorta. - S / P fixation of spine. - S / P fixation of spine. - S / P fixation in left chest wall.']\n",
            "Labels     : ['Chest X ray : - No obvious lung mass nor consolidation patch. - Normal heart size. - No pleural effusion.']\n",
            "\n"
          ]
        },
        {
          "output_type": "stream",
          "name": "stderr",
          "text": [
            "\rEvaluting Epoch: 8:  40%|████      | 4/10 [00:05<00:07,  1.30s/it]"
          ]
        },
        {
          "output_type": "stream",
          "name": "stdout",
          "text": [
            "Names      : ['NLP_CHEST_002']\n",
            "Predictions: ['Chest plain film shows : Impression : - Increased both lung markings. - Blunting bilateral CP angles. - Blunting bilateral CP angles. - Atherosclerotic aorta. - Tortuous atherosclerotic dilated aorta. - Scoliosis of spine. - S / P Rt jugular CVC insertion.']\n",
            "Labels     : ['Chest PA view shows : Partial atelectasis at left lower lung field. Left pleural effusion. Borderline heart size. Atherosclerotic change of aortic knob. S / P port - A implantation via left subclavian vein. Intraperitoneal port catheter. Surgical clips at RUQ of abdomen.']\n",
            "\n"
          ]
        },
        {
          "output_type": "stream",
          "name": "stderr",
          "text": [
            "\rEvaluting Epoch: 8:  50%|█████     | 5/10 [00:06<00:06,  1.30s/it]"
          ]
        },
        {
          "output_type": "stream",
          "name": "stdout",
          "text": [
            "Names      : ['NLP_CHEST_057']\n",
            "Predictions: ['Chest plain film shows : Impression : - Increased both lung markings. - Blunting bilateral CP angles. - Blunting bilateral CP angles. - Tortuous atherosclerotic dilated aorta. - Tortuous atherosclerotic dilated aorta. - S / P Rt jugular CVC insertion. - S / P Rt jugular CVC insertion.']\n",
            "Labels     : ['Chest plain film shows : Impression : - Increased infiltrations in both lungs. - Tortuous atherosclerotic dilated aorta. - Normal heart size. - DJD of spine. Old fracture of right ribs. - Increased both lung markings. S / P Lt jugular CVC insertion. S / P NG and endotracheal tube. - Susp. Lt pneumothorax. Suspect pneumomediastinum. Subcutaneous emphysema in bilateral neck. - S / P bilateral chest tube insertion.']\n",
            "\n"
          ]
        },
        {
          "output_type": "stream",
          "name": "stderr",
          "text": [
            "\rEvaluting Epoch: 8:  60%|██████    | 6/10 [00:07<00:05,  1.28s/it]"
          ]
        },
        {
          "output_type": "stream",
          "name": "stdout",
          "text": [
            "Names      : ['NLP_CHEST_059']\n",
            "Predictions: ['Chest plain film shows : Impression : - Increased both lung markings. - Blunting bilateral CP angles. - Blunting bilateral CP angles. - Atherosclerotic aorta. - Tortuous atherosclerotic dilated aorta. - S / P fixation in T - spine. - S / P Rt jugular CVC insertion.']\n",
            "Labels     : ['Supine chest AP view shows : Pigtail catheter at right lower chest. Decreased amount of right pleural effusion. Air in the right lower pleural space. Poor lung expansion. Mild subcutaneous emphysema at right chest wall. Right pleural thickening. Ill - defined masses at right perihilar region. Normal heart size.']\n",
            "\n"
          ]
        },
        {
          "output_type": "stream",
          "name": "stderr",
          "text": [
            "\rEvaluting Epoch: 8:  70%|███████   | 7/10 [00:09<00:04,  1.43s/it]"
          ]
        },
        {
          "output_type": "stream",
          "name": "stdout",
          "text": [
            "Names      : ['NLP_CHEST_004']\n",
            "Predictions: ['Chest plain film shows : Impression : - Increased both lung markings. - Blunting bilateral CP angles. - Blunting bilateral CP angles. - Tortuous atherosclerotic dilated aorta. - Tortuous atherosclerotic dilated aorta. - S / P Rt jugular CVC insertion. - S / P Rt jugular CVC insertion.']\n",
            "Labels     : ['Chest PA view show : Impression : - S / P RLL wedge resection. - Bilateral lungs metastasis. - Left lower lung subsegmental atelectasis. - Increased infiltrations in both lungs. - Blunting right CP angle. - Tortuous atherosclerotic aorta. - Scoliosis, DJD and osteoporosis of spine. - Compression fracture of L1.']\n",
            "\n"
          ]
        },
        {
          "output_type": "stream",
          "name": "stderr",
          "text": [
            "\rEvaluting Epoch: 8:  80%|████████  | 8/10 [00:11<00:03,  1.53s/it]"
          ]
        },
        {
          "output_type": "stream",
          "name": "stdout",
          "text": [
            "Names      : ['NLP_CHEST_085']\n",
            "Predictions: ['Chest plain film shows : Impression : - Increased both lung markings. - Blunting bilateral CP angles. - Blunting bilateral CP angles. - Atherosclerotic aorta. - Atherosclerotic dilated aorta. - S / P fixation in left chest wall. - S / P Rt jugular CVC insertion.']\n",
            "Labels     : ['Chest X ray : - Right pneumothorax with pleural effusion, status post drainge tube placement. - Extensive subcutaneous emphysema from neck to right side thoracic cage. - Increased right hilar opacity. - Atherosclerosis and tortuous aorta. - Obscured bilateral costophrenic angles. - Spondylosis and mild scoliosis of thoracolumbar spine. - OA of right glenohumeral joint. - Generalized osteopenia.']\n",
            "\n"
          ]
        },
        {
          "output_type": "stream",
          "name": "stderr",
          "text": [
            "\rEvaluting Epoch: 8:  90%|█████████ | 9/10 [00:12<00:01,  1.44s/it]"
          ]
        },
        {
          "output_type": "stream",
          "name": "stdout",
          "text": [
            "Names      : ['NLP_CHEST_027']\n",
            "Predictions: ['Chest plain film shows : Impression : - Increased both lung markings. - Blunting bilateral CP angles. - Blunting bilateral CP angles. - Atherosclerotic dilated aorta. - Tortuous atherosclerotic dilated aorta. - S / P Rt jugular CVC insertion. - S / P Rt subclavian Port - DJD of spine. - S / P R']\n",
            "Labels     : ['Chest PA View : Impression : > Cardiomegaly with bilateral pulmonary congestion. > Postinflammatory fibrosis in both upper lungs. > Atherosclerosis of aorta. > Old fractures of left 5th and 6th ribs. > R / O osteoporosis. > Spondylosis of thoracolumbar spine. > S / P abdominal operation in RUQ.']\n",
            "\n"
          ]
        },
        {
          "output_type": "stream",
          "name": "stderr",
          "text": [
            "Evaluting Epoch: 8: 100%|██████████| 10/10 [00:13<00:00,  1.38s/it]\n"
          ]
        },
        {
          "output_type": "stream",
          "name": "stdout",
          "text": [
            "Names      : ['NLP_CHEST_071']\n",
            "Predictions: ['Chest plain film shows : Impression : - Increased both lung markings. - Blunting bilateral CP angles. - Blunting bilateral CP angles. - Tortuous atherosclerotic dilated aorta. - Tortuous atherosclerotic dilated aorta. - S / P Rt jugular CVC insertion. - S / P Rt jugular CVC insertion.']\n",
            "Labels     : ['Chest film shows : Impression : - Bilateral lung infiltrations. - Suspect right lower lung patch. Blunting right CP angle. - Tortuous atherosclerotic aorta. - Scoliosis, DJD and osteoporosis of spine. Compression fracture of T12. Old fracture of left ribs. - S / P fixation in L - spine. - S / P tracheostomy and NG tube.']\n",
            "\n",
            "Rouge-2 score on epoch 7: {'Rouge-L-P': 0.20240793946428753, 'Rouge-L-R': 0.20737929215699383, 'Rouge-L-F': 0.20737929215699383, 'Rouge-2-P': 0.10852843229195433, 'Rouge-2-R': 0.10501170736513228, 'Rouge-2-F': 0.10501170736513228}\n"
          ]
        },
        {
          "output_type": "stream",
          "name": "stderr",
          "text": [
            "Training Epoch [9 / 30]: 100%|██████████| 89/89 [00:20<00:00,  4.41it/s, loss=0.387]\n",
            "Evaluting Epoch: 9:  10%|█         | 1/10 [00:01<00:12,  1.34s/it]"
          ]
        },
        {
          "output_type": "stream",
          "name": "stdout",
          "text": [
            "Names      : ['NLP_CHEST_031']\n",
            "Predictions: [\"Chest AP view showed : 1. Enlarged heart size with tortuous aorta. 2. No mediastinum widening. 3. No mediastinum widening. 3. No mediastinum widening. 3. No mediastinum widening. 3. No mediastinum widening. s / p endotracheal tube and NG intubation. s / p R't jugular CVP.\"]\n",
            "Labels     : ['Chest PA view : Impression : - Increased both lung markings. - Compatible with right lung nodules. - Fibrotic lesion in left upper lung. - Normal heart size. Atherosclerotic aorta. - Suspect right pleural effusion. - Spondylosis. R / O osteoporosis. - Compatible with multiple bony metastases. - S / P NG and endotracheal tube. - S / P Lt subclavian Port - A - cath.']\n",
            "\n"
          ]
        },
        {
          "output_type": "stream",
          "name": "stderr",
          "text": [
            "\rEvaluting Epoch: 9:  20%|██        | 2/10 [00:02<00:10,  1.33s/it]"
          ]
        },
        {
          "output_type": "stream",
          "name": "stdout",
          "text": [
            "Names      : ['NLP_CHEST_011']\n",
            "Predictions: [\"Chest AP view showed : 1. Enlarged heart size with tortuous aorta. 2. No mediastinum widening. 3. No mediastinum widening. 3. No mediastinum widening. 3. No mediastinum widening. 3. No mediastinum widening. s / p R't jugular CVP.\"]\n",
            "Labels     : [\"Chest AP view showed : 1. s / p sternotomy and CABG. Enlarged heart size with tortuous aorta. 2. R't middle and lower lung faint patches. L't lower lung consolidation. L't pleural effusion. 3. No mediastinum widening. 4. s / p endotracheal tube and NG intubation.\"]\n",
            "\n"
          ]
        },
        {
          "output_type": "stream",
          "name": "stderr",
          "text": [
            "\rEvaluting Epoch: 9:  30%|███       | 3/10 [00:03<00:09,  1.31s/it]"
          ]
        },
        {
          "output_type": "stream",
          "name": "stdout",
          "text": [
            "Names      : ['NLP_CHEST_015']\n",
            "Predictions: ['Chest PA view shows : Impression : - Suspicious right upper lung patch. - Normal heart size. - Normal heart size. - Normal heart size. - Spondylosis of spine. - S / P right chest size. - S / P right chest wall. - S / P right chest tube insertion.']\n",
            "Labels     : ['Chest X ray : - No obvious lung mass nor consolidation patch. - Normal heart size. - No pleural effusion.']\n",
            "\n"
          ]
        },
        {
          "output_type": "stream",
          "name": "stderr",
          "text": [
            "\rEvaluting Epoch: 9:  40%|████      | 4/10 [00:05<00:07,  1.31s/it]"
          ]
        },
        {
          "output_type": "stream",
          "name": "stdout",
          "text": [
            "Names      : ['NLP_CHEST_002']\n",
            "Predictions: ['Chest PA view shows : Impression : - Suspicious right upper lung patch. - Suspect right upper lung patch. - Normal heart size. - Suspect left lower lung markings. - Normal heart size. - Spondylosis of spine. - S / P right chest tube insertion. - S / P right chest tube insertion.']\n",
            "Labels     : ['Chest PA view shows : Partial atelectasis at left lower lung field. Left pleural effusion. Borderline heart size. Atherosclerotic change of aortic knob. S / P port - A implantation via left subclavian vein. Intraperitoneal port catheter. Surgical clips at RUQ of abdomen.']\n",
            "\n"
          ]
        },
        {
          "output_type": "stream",
          "name": "stderr",
          "text": [
            "\rEvaluting Epoch: 9:  50%|█████     | 5/10 [00:06<00:06,  1.32s/it]"
          ]
        },
        {
          "output_type": "stream",
          "name": "stdout",
          "text": [
            "Names      : ['NLP_CHEST_057']\n",
            "Predictions: ['Chest PA view shows : Impression : - Suspicious right upper lung patch. - Suspect right upper lung patch. - Suspect right lower lung patch. - Suspect right pleural effusion. - Suspect right pleural effusion. - Spondylosis. - S / P right pleural effusion. - S / P right pleural pigtailtail tube. - S / P NG of spine']\n",
            "Labels     : ['Chest plain film shows : Impression : - Increased infiltrations in both lungs. - Tortuous atherosclerotic dilated aorta. - Normal heart size. - DJD of spine. Old fracture of right ribs. - Increased both lung markings. S / P Lt jugular CVC insertion. S / P NG and endotracheal tube. - Susp. Lt pneumothorax. Suspect pneumomediastinum. Subcutaneous emphysema in bilateral neck. - S / P bilateral chest tube insertion.']\n",
            "\n"
          ]
        },
        {
          "output_type": "stream",
          "name": "stderr",
          "text": [
            "\rEvaluting Epoch: 9:  60%|██████    | 6/10 [00:08<00:05,  1.43s/it]"
          ]
        },
        {
          "output_type": "stream",
          "name": "stdout",
          "text": [
            "Names      : ['NLP_CHEST_059']\n",
            "Predictions: ['Chest PA view shows : Impression : - Suspicious right upper lung patch. - Suspect right upper lung patch. - Suspect right lower lung patch. - Suspect right pleural effusion. - Spondylosis of spine. - S / P right pleural thickening. - S / P right pleural pigtail tube. - S / P right pleural pigtail tube. - S / P right ple']\n",
            "Labels     : ['Supine chest AP view shows : Pigtail catheter at right lower chest. Decreased amount of right pleural effusion. Air in the right lower pleural space. Poor lung expansion. Mild subcutaneous emphysema at right chest wall. Right pleural thickening. Ill - defined masses at right perihilar region. Normal heart size.']\n",
            "\n"
          ]
        },
        {
          "output_type": "stream",
          "name": "stderr",
          "text": [
            "\rEvaluting Epoch: 9:  70%|███████   | 7/10 [00:09<00:04,  1.53s/it]"
          ]
        },
        {
          "output_type": "stream",
          "name": "stdout",
          "text": [
            "Names      : ['NLP_CHEST_004']\n",
            "Predictions: ['Chest PA view shows : Impression : - Suspicious right upper lung patch. - Suspect right lower lung patch. - Suspect right lower lung patch. - Suspect right lower lung patches. - Suspect right lower lung patches. - Spondylosis. - S / P right pleural thickening. - S / P right chest tube. - S / P right chest tube insertion.']\n",
            "Labels     : ['Chest PA view show : Impression : - S / P RLL wedge resection. - Bilateral lungs metastasis. - Left lower lung subsegmental atelectasis. - Increased infiltrations in both lungs. - Blunting right CP angle. - Tortuous atherosclerotic aorta. - Scoliosis, DJD and osteoporosis of spine. - Compression fracture of L1.']\n",
            "\n"
          ]
        },
        {
          "output_type": "stream",
          "name": "stderr",
          "text": [
            "\rEvaluting Epoch: 9:  80%|████████  | 8/10 [00:11<00:02,  1.45s/it]"
          ]
        },
        {
          "output_type": "stream",
          "name": "stdout",
          "text": [
            "Names      : ['NLP_CHEST_085']\n",
            "Predictions: ['Chest AP view showed : 1. Enlarged heart size with tortuous aorta. 2. No mediastinum widening. 3. No mediastinum widening. 3. No mediastinum widening. 3. No mediastinum widening.']\n",
            "Labels     : ['Chest X ray : - Right pneumothorax with pleural effusion, status post drainge tube placement. - Extensive subcutaneous emphysema from neck to right side thoracic cage. - Increased right hilar opacity. - Atherosclerosis and tortuous aorta. - Obscured bilateral costophrenic angles. - Spondylosis and mild scoliosis of thoracolumbar spine. - OA of right glenohumeral joint. - Generalized osteopenia.']\n",
            "\n"
          ]
        },
        {
          "output_type": "stream",
          "name": "stderr",
          "text": [
            "\rEvaluting Epoch: 9:  90%|█████████ | 9/10 [00:12<00:01,  1.40s/it]"
          ]
        },
        {
          "output_type": "stream",
          "name": "stdout",
          "text": [
            "Names      : ['NLP_CHEST_027']\n",
            "Predictions: ['Chest AP view showed : 1. Enlarged heart size with tortuous aorta. 2. No mediastinum widening. 3. No mediastinum widening. 3. No mediastinum widening. 3. No mediastinum widening.']\n",
            "Labels     : ['Chest PA View : Impression : > Cardiomegaly with bilateral pulmonary congestion. > Postinflammatory fibrosis in both upper lungs. > Atherosclerosis of aorta. > Old fractures of left 5th and 6th ribs. > R / O osteoporosis. > Spondylosis of thoracolumbar spine. > S / P abdominal operation in RUQ.']\n",
            "\n"
          ]
        },
        {
          "output_type": "stream",
          "name": "stderr",
          "text": [
            "Evaluting Epoch: 9: 100%|██████████| 10/10 [00:13<00:00,  1.38s/it]\n"
          ]
        },
        {
          "output_type": "stream",
          "name": "stdout",
          "text": [
            "Names      : ['NLP_CHEST_071']\n",
            "Predictions: ['Chest plain film shows : Impression : - Suspicious right upper lung patch. - Suspect right lower lung patch. - Suspect right lower lung patch. - Suspect right lower lung patch. - S / P right pleural effusion. - S / P right pleural effusion. - S / P right chest tube insertion. - S / P right chest tube insertion. - S / P NG tube.']\n",
            "Labels     : ['Chest film shows : Impression : - Bilateral lung infiltrations. - Suspect right lower lung patch. Blunting right CP angle. - Tortuous atherosclerotic aorta. - Scoliosis, DJD and osteoporosis of spine. Compression fracture of T12. Old fracture of left ribs. - S / P fixation in L - spine. - S / P tracheostomy and NG tube.']\n",
            "\n",
            "Rouge-2 score on epoch 8: {'Rouge-L-P': 0.21094547123695975, 'Rouge-L-R': 0.21767220530282805, 'Rouge-L-F': 0.21767220530282805, 'Rouge-2-P': 0.11303676508957072, 'Rouge-2-R': 0.112265101017165, 'Rouge-2-F': 0.112265101017165}\n"
          ]
        },
        {
          "output_type": "stream",
          "name": "stderr",
          "text": [
            "Training Epoch [10 / 30]: 100%|██████████| 89/89 [00:20<00:00,  4.33it/s, loss=0.341]\n",
            "Evaluting Epoch: 10:  10%|█         | 1/10 [00:01<00:11,  1.27s/it]"
          ]
        },
        {
          "output_type": "stream",
          "name": "stdout",
          "text": [
            "Names      : ['NLP_CHEST_031']\n",
            "Predictions: ['Chest plain film shows : Impression : - Increased both lung markings. - Blunting left CP angle. - Blunting left CP angle. - Tortuous atherosclerotic dilated aorta. - Tortuous atherosclerotic aorta. - S / P Lt subclavian Port - S / P Lt subclavian Port - A - cath. - S / P Lt subclav']\n",
            "Labels     : ['Chest PA view : Impression : - Increased both lung markings. - Compatible with right lung nodules. - Fibrotic lesion in left upper lung. - Normal heart size. Atherosclerotic aorta. - Suspect right pleural effusion. - Spondylosis. R / O osteoporosis. - Compatible with multiple bony metastases. - S / P NG and endotracheal tube. - S / P Lt subclavian Port - A - cath.']\n",
            "\n"
          ]
        },
        {
          "output_type": "stream",
          "name": "stderr",
          "text": [
            "\rEvaluting Epoch: 10:  20%|██        | 2/10 [00:02<00:09,  1.25s/it]"
          ]
        },
        {
          "output_type": "stream",
          "name": "stdout",
          "text": [
            "Names      : ['NLP_CHEST_011']\n",
            "Predictions: ['Chest plain film shows : Impression : - Increased both lung markings. - Blunting left CP angle. - Blunting left CP angle. - Tortuous atherosclerotic dilated aorta. - Tortuous atherosclerotic dilated aorta. - S / P Lt subclavian Port - S / P Lt subclavian Port - A - cath.']\n",
            "Labels     : [\"Chest AP view showed : 1. s / p sternotomy and CABG. Enlarged heart size with tortuous aorta. 2. R't middle and lower lung faint patches. L't lower lung consolidation. L't pleural effusion. 3. No mediastinum widening. 4. s / p endotracheal tube and NG intubation.\"]\n",
            "\n"
          ]
        },
        {
          "output_type": "stream",
          "name": "stderr",
          "text": [
            "\rEvaluting Epoch: 10:  30%|███       | 3/10 [00:03<00:08,  1.25s/it]"
          ]
        },
        {
          "output_type": "stream",
          "name": "stdout",
          "text": [
            "Names      : ['NLP_CHEST_015']\n",
            "Predictions: ['Chest plain film shows : Impression : - Increased both lung markings. - Blunting left CP angle. - Normal heart size. - Normal heart size. - S / P insertion.']\n",
            "Labels     : ['Chest X ray : - No obvious lung mass nor consolidation patch. - Normal heart size. - No pleural effusion.']\n",
            "\n"
          ]
        },
        {
          "output_type": "stream",
          "name": "stderr",
          "text": [
            "\rEvaluting Epoch: 10:  40%|████      | 4/10 [00:05<00:08,  1.40s/it]"
          ]
        },
        {
          "output_type": "stream",
          "name": "stdout",
          "text": [
            "Names      : ['NLP_CHEST_002']\n",
            "Predictions: ['Chest plain film shows : Impression : - Increased both lung markings. - Blunting left CP angle. - Blunting left CP angle. - Normal heart size. - Atherosclerotic aorta. - S / P left pleural thickening. - S / P right chest tube insertion.']\n",
            "Labels     : ['Chest PA view shows : Partial atelectasis at left lower lung field. Left pleural effusion. Borderline heart size. Atherosclerotic change of aortic knob. S / P port - A implantation via left subclavian vein. Intraperitoneal port catheter. Surgical clips at RUQ of abdomen.']\n",
            "\n"
          ]
        },
        {
          "output_type": "stream",
          "name": "stderr",
          "text": [
            "\rEvaluting Epoch: 10:  50%|█████     | 5/10 [00:07<00:07,  1.56s/it]"
          ]
        },
        {
          "output_type": "stream",
          "name": "stdout",
          "text": [
            "Names      : ['NLP_CHEST_057']\n",
            "Predictions: ['Chest plain film shows : Impression : - Increased both lung markings. - Blunting left CP angle. - Blunting left CP angle. - Tortuous atherosclerotic dilated aorta. - Tortuous atherosclerotic aorta. - S / P fixation in L - spine. - S / P Lt subclavian Port - A - cath.']\n",
            "Labels     : ['Chest plain film shows : Impression : - Increased infiltrations in both lungs. - Tortuous atherosclerotic dilated aorta. - Normal heart size. - DJD of spine. Old fracture of right ribs. - Increased both lung markings. S / P Lt jugular CVC insertion. S / P NG and endotracheal tube. - Susp. Lt pneumothorax. Suspect pneumomediastinum. Subcutaneous emphysema in bilateral neck. - S / P bilateral chest tube insertion.']\n",
            "\n"
          ]
        },
        {
          "output_type": "stream",
          "name": "stderr",
          "text": [
            "\rEvaluting Epoch: 10:  60%|██████    | 6/10 [00:08<00:05,  1.49s/it]"
          ]
        },
        {
          "output_type": "stream",
          "name": "stdout",
          "text": [
            "Names      : ['NLP_CHEST_059']\n",
            "Predictions: ['Chest plain film shows : Impression : - Increased both lung markings. - Blunting left CP angle. - Cardiomegaly. - Atherosclerotic aorta. - S / P fixation in left hemidiaphragm. - S / P fixation in L - spine. - S / P Lt subclavian Port - cath.']\n",
            "Labels     : ['Supine chest AP view shows : Pigtail catheter at right lower chest. Decreased amount of right pleural effusion. Air in the right lower pleural space. Poor lung expansion. Mild subcutaneous emphysema at right chest wall. Right pleural thickening. Ill - defined masses at right perihilar region. Normal heart size.']\n",
            "\n"
          ]
        },
        {
          "output_type": "stream",
          "name": "stderr",
          "text": [
            "\rEvaluting Epoch: 10:  70%|███████   | 7/10 [00:09<00:04,  1.44s/it]"
          ]
        },
        {
          "output_type": "stream",
          "name": "stdout",
          "text": [
            "Names      : ['NLP_CHEST_004']\n",
            "Predictions: ['Chest plain film shows : Impression : - Increased both lung markings. - Blunting left CP angle. - Blunting left CP angle. - Tortuous atherosclerotic dilated aorta. - Tortuous atherosclerotic aorta. - S / P NG tube insertion. S / P Lt subclavian Port - A - cath. S / P Lt subclavian Port -']\n",
            "Labels     : ['Chest PA view show : Impression : - S / P RLL wedge resection. - Bilateral lungs metastasis. - Left lower lung subsegmental atelectasis. - Increased infiltrations in both lungs. - Blunting right CP angle. - Tortuous atherosclerotic aorta. - Scoliosis, DJD and osteoporosis of spine. - Compression fracture of L1.']\n",
            "\n"
          ]
        },
        {
          "output_type": "stream",
          "name": "stderr",
          "text": [
            "\rEvaluting Epoch: 10:  80%|████████  | 8/10 [00:11<00:02,  1.40s/it]"
          ]
        },
        {
          "output_type": "stream",
          "name": "stdout",
          "text": [
            "Names      : ['NLP_CHEST_085']\n",
            "Predictions: ['Chest plain film shows : Impression : - Increased both lung markings. - Blunting left CP angle. - Blunting left CP angle. - Tortuous atherosclerotic dilated aorta. - Tortuous atherosclerotic aorta. - S / P right hemidiaphragm. - S / P left pleural pigtail tube.']\n",
            "Labels     : ['Chest X ray : - Right pneumothorax with pleural effusion, status post drainge tube placement. - Extensive subcutaneous emphysema from neck to right side thoracic cage. - Increased right hilar opacity. - Atherosclerosis and tortuous aorta. - Obscured bilateral costophrenic angles. - Spondylosis and mild scoliosis of thoracolumbar spine. - OA of right glenohumeral joint. - Generalized osteopenia.']\n",
            "\n"
          ]
        },
        {
          "output_type": "stream",
          "name": "stderr",
          "text": [
            "\rEvaluting Epoch: 10:  90%|█████████ | 9/10 [00:12<00:01,  1.37s/it]"
          ]
        },
        {
          "output_type": "stream",
          "name": "stdout",
          "text": [
            "Names      : ['NLP_CHEST_027']\n",
            "Predictions: ['Chest plain film shows : Impression : - Increased both lung markings. - Blunting left CP angle. - Blunting left CP angle. - Tortuous atherosclerotic dilated aorta. - Tortuous atherosclerotic aorta. - S / P right hemidiaphragm. - S / P Lt subclavian Port - A - cath.']\n",
            "Labels     : ['Chest PA View : Impression : > Cardiomegaly with bilateral pulmonary congestion. > Postinflammatory fibrosis in both upper lungs. > Atherosclerosis of aorta. > Old fractures of left 5th and 6th ribs. > R / O osteoporosis. > Spondylosis of thoracolumbar spine. > S / P abdominal operation in RUQ.']\n",
            "\n"
          ]
        },
        {
          "output_type": "stream",
          "name": "stderr",
          "text": [
            "Evaluting Epoch: 10: 100%|██████████| 10/10 [00:13<00:00,  1.38s/it]\n"
          ]
        },
        {
          "output_type": "stream",
          "name": "stdout",
          "text": [
            "Names      : ['NLP_CHEST_071']\n",
            "Predictions: ['Chest plain film shows : Impression : - Increased both lung markings. - Blunting left CP angle. - Cardiomegaly. - Tortuous atherosclerotic aorta. - S / P right hemidiaphragm. - S / P right hemidiaphragm. - S / P fixation in T - spine.']\n",
            "Labels     : ['Chest film shows : Impression : - Bilateral lung infiltrations. - Suspect right lower lung patch. Blunting right CP angle. - Tortuous atherosclerotic aorta. - Scoliosis, DJD and osteoporosis of spine. Compression fracture of T12. Old fracture of left ribs. - S / P fixation in L - spine. - S / P tracheostomy and NG tube.']\n",
            "\n",
            "Rouge-2 score on epoch 9: {'Rouge-L-P': 0.22064126873596127, 'Rouge-L-R': 0.22443350897643605, 'Rouge-L-F': 0.22443350897643605, 'Rouge-2-P': 0.12185093649620424, 'Rouge-2-R': 0.11916486454230815, 'Rouge-2-F': 0.11916486454230815}\n"
          ]
        },
        {
          "output_type": "stream",
          "name": "stderr",
          "text": [
            "Training Epoch [11 / 30]: 100%|██████████| 89/89 [00:21<00:00,  4.23it/s, loss=0.305]\n",
            "Evaluting Epoch: 11:  10%|█         | 1/10 [00:01<00:12,  1.39s/it]"
          ]
        },
        {
          "output_type": "stream",
          "name": "stdout",
          "text": [
            "Names      : ['NLP_CHEST_031']\n",
            "Predictions: ['Chest AP View : Impression : - Susp. Rt pneumothorax. - Increased both lung infiltrates. - Suspect right upper lung patch. - Normal heart size. - S / P Lt subclavian Port - A - cath. - S / P Rt subclavian Port - A cath. - S / P Rt subclavian Port - A - cath. - S / P']\n",
            "Labels     : ['Chest PA view : Impression : - Increased both lung markings. - Compatible with right lung nodules. - Fibrotic lesion in left upper lung. - Normal heart size. Atherosclerotic aorta. - Suspect right pleural effusion. - Spondylosis. R / O osteoporosis. - Compatible with multiple bony metastases. - S / P NG and endotracheal tube. - S / P Lt subclavian Port - A - cath.']\n",
            "\n"
          ]
        },
        {
          "output_type": "stream",
          "name": "stderr",
          "text": [
            "\rEvaluting Epoch: 11:  20%|██        | 2/10 [00:02<00:11,  1.38s/it]"
          ]
        },
        {
          "output_type": "stream",
          "name": "stdout",
          "text": [
            "Names      : ['NLP_CHEST_011']\n",
            "Predictions: [\"Chest AP view showed : 1. Normal heart size with tortuous aorta. 2. R't middle lung and NG infiltrations. 3. No mediastinum widening. 3. No mediastinum widening. 3. No mediastinum widening. 3. No mediastinum widening. 3. No mediastinum widening. 3. No mediastinum widening. 3. No mediastinum widening.\"]\n",
            "Labels     : [\"Chest AP view showed : 1. s / p sternotomy and CABG. Enlarged heart size with tortuous aorta. 2. R't middle and lower lung faint patches. L't lower lung consolidation. L't pleural effusion. 3. No mediastinum widening. 4. s / p endotracheal tube and NG intubation.\"]\n",
            "\n"
          ]
        },
        {
          "output_type": "stream",
          "name": "stderr",
          "text": [
            "\rEvaluting Epoch: 11:  30%|███       | 3/10 [00:04<00:09,  1.38s/it]"
          ]
        },
        {
          "output_type": "stream",
          "name": "stdout",
          "text": [
            "Names      : ['NLP_CHEST_015']\n",
            "Predictions: ['Chest plain film shows : Impression : - Increased infiltrations in both lungs. - Normal heart size. - Normal heart size. - Normal heart size. - S / P fixation in T - spine. - S / P right chest tube insertion.']\n",
            "Labels     : ['Chest X ray : - No obvious lung mass nor consolidation patch. - Normal heart size. - No pleural effusion.']\n",
            "\n"
          ]
        },
        {
          "output_type": "stream",
          "name": "stderr",
          "text": [
            "\rEvaluting Epoch: 11:  40%|████      | 4/10 [00:05<00:08,  1.37s/it]"
          ]
        },
        {
          "output_type": "stream",
          "name": "stdout",
          "text": [
            "Names      : ['NLP_CHEST_002']\n",
            "Predictions: ['Chest plain film shows : Impression : - Increased infiltrations in both lungs. - Blunting bilateral CP angles. - Normal heart size. - Atherosclerotic aorta. - Spondylosis of spine. - S / P right chest tube insertion.']\n",
            "Labels     : ['Chest PA view shows : Partial atelectasis at left lower lung field. Left pleural effusion. Borderline heart size. Atherosclerotic change of aortic knob. S / P port - A implantation via left subclavian vein. Intraperitoneal port catheter. Surgical clips at RUQ of abdomen.']\n",
            "\n"
          ]
        },
        {
          "output_type": "stream",
          "name": "stderr",
          "text": [
            "\rEvaluting Epoch: 11:  50%|█████     | 5/10 [00:06<00:06,  1.36s/it]"
          ]
        },
        {
          "output_type": "stream",
          "name": "stdout",
          "text": [
            "Names      : ['NLP_CHEST_057']\n",
            "Predictions: ['Chest plain film shows : Impression : - Susp. Rt pneumothorax. - Increased both lung infiltrates. - Normal heart size. - Normal heart size. - DJD of spine. - S / P Rt subclavian Port - DJD of spine. - S / P Rt subclavian Port - A - cath.']\n",
            "Labels     : ['Chest plain film shows : Impression : - Increased infiltrations in both lungs. - Tortuous atherosclerotic dilated aorta. - Normal heart size. - DJD of spine. Old fracture of right ribs. - Increased both lung markings. S / P Lt jugular CVC insertion. S / P NG and endotracheal tube. - Susp. Lt pneumothorax. Suspect pneumomediastinum. Subcutaneous emphysema in bilateral neck. - S / P bilateral chest tube insertion.']\n",
            "\n"
          ]
        },
        {
          "output_type": "stream",
          "name": "stderr",
          "text": [
            "\rEvaluting Epoch: 11:  60%|██████    | 6/10 [00:08<00:05,  1.47s/it]"
          ]
        },
        {
          "output_type": "stream",
          "name": "stdout",
          "text": [
            "Names      : ['NLP_CHEST_059']\n",
            "Predictions: ['Chest plain film shows : Impression : - Increased infiltrates in both lungs. - Suspect right upper lung patch. - Normal heart size. - Atherosclerotic aorta. - DJD of spine. - S / P fixation in L - spine.']\n",
            "Labels     : ['Supine chest AP view shows : Pigtail catheter at right lower chest. Decreased amount of right pleural effusion. Air in the right lower pleural space. Poor lung expansion. Mild subcutaneous emphysema at right chest wall. Right pleural thickening. Ill - defined masses at right perihilar region. Normal heart size.']\n",
            "\n"
          ]
        },
        {
          "output_type": "stream",
          "name": "stderr",
          "text": [
            "\rEvaluting Epoch: 11:  70%|███████   | 7/10 [00:10<00:04,  1.63s/it]"
          ]
        },
        {
          "output_type": "stream",
          "name": "stdout",
          "text": [
            "Names      : ['NLP_CHEST_004']\n",
            "Predictions: ['Chest plain film shows : Impression : - Suspicious right upper lung patch. - Increased infiltrates in both lungs. - Blunting bilateral CP angles. - Normal heart size. - Normal heart size. - DJD of spine. - S / P Rt jugular CVC insertion.']\n",
            "Labels     : ['Chest PA view show : Impression : - S / P RLL wedge resection. - Bilateral lungs metastasis. - Left lower lung subsegmental atelectasis. - Increased infiltrations in both lungs. - Blunting right CP angle. - Tortuous atherosclerotic aorta. - Scoliosis, DJD and osteoporosis of spine. - Compression fracture of L1.']\n",
            "\n"
          ]
        },
        {
          "output_type": "stream",
          "name": "stderr",
          "text": [
            "\rEvaluting Epoch: 11:  80%|████████  | 8/10 [00:11<00:03,  1.52s/it]"
          ]
        },
        {
          "output_type": "stream",
          "name": "stdout",
          "text": [
            "Names      : ['NLP_CHEST_085']\n",
            "Predictions: ['Chest plain film shows : Impression : - Suspicious right upper lung patch. - Increased infiltrations in both lungs. - Normal heart size. - Normal heart size. - Atherosclerotic aorta. - S / P left pleural effusion. - S / P right chest tube insertion.']\n",
            "Labels     : ['Chest X ray : - Right pneumothorax with pleural effusion, status post drainge tube placement. - Extensive subcutaneous emphysema from neck to right side thoracic cage. - Increased right hilar opacity. - Atherosclerosis and tortuous aorta. - Obscured bilateral costophrenic angles. - Spondylosis and mild scoliosis of thoracolumbar spine. - OA of right glenohumeral joint. - Generalized osteopenia.']\n",
            "\n"
          ]
        },
        {
          "output_type": "stream",
          "name": "stderr",
          "text": [
            "\rEvaluting Epoch: 11:  90%|█████████ | 9/10 [00:13<00:01,  1.45s/it]"
          ]
        },
        {
          "output_type": "stream",
          "name": "stdout",
          "text": [
            "Names      : ['NLP_CHEST_027']\n",
            "Predictions: ['Chest plain film shows : Impression : - Suspicious right upper lung patch. - Increased infiltrations in both lungs. - Normal heart size. - Atherosclerotic aorta. - DJD of spine. - S / P fixation in T - spine. - S / P Rt jugular Perm - cath.']\n",
            "Labels     : ['Chest PA View : Impression : > Cardiomegaly with bilateral pulmonary congestion. > Postinflammatory fibrosis in both upper lungs. > Atherosclerosis of aorta. > Old fractures of left 5th and 6th ribs. > R / O osteoporosis. > Spondylosis of thoracolumbar spine. > S / P abdominal operation in RUQ.']\n",
            "\n"
          ]
        },
        {
          "output_type": "stream",
          "name": "stderr",
          "text": [
            "Evaluting Epoch: 11: 100%|██████████| 10/10 [00:14<00:00,  1.44s/it]\n"
          ]
        },
        {
          "output_type": "stream",
          "name": "stdout",
          "text": [
            "Names      : ['NLP_CHEST_071']\n",
            "Predictions: ['Chest plain film shows : Impression : - Suspicious right upper lung patch. - Increased infiltrates in both lungs. - Tortuous atherosclerotic aorta. - Normal heart size. - S / P fixation in T - spine. - S / P Rt subclavian Port - A - cath.']\n",
            "Labels     : ['Chest film shows : Impression : - Bilateral lung infiltrations. - Suspect right lower lung patch. Blunting right CP angle. - Tortuous atherosclerotic aorta. - Scoliosis, DJD and osteoporosis of spine. Compression fracture of T12. Old fracture of left ribs. - S / P fixation in L - spine. - S / P tracheostomy and NG tube.']\n",
            "\n",
            "Rouge-2 score on epoch 10: {'Rouge-L-P': 0.23463284271780116, 'Rouge-L-R': 0.23544334378918252, 'Rouge-L-F': 0.23544334378918252, 'Rouge-2-P': 0.1329635470701779, 'Rouge-2-R': 0.1288383574138771, 'Rouge-2-F': 0.1288383574138771}\n"
          ]
        },
        {
          "output_type": "stream",
          "name": "stderr",
          "text": [
            "Training Epoch [12 / 30]: 100%|██████████| 89/89 [00:21<00:00,  4.20it/s, loss=0.273]\n",
            "Evaluting Epoch: 12:  10%|█         | 1/10 [00:01<00:17,  1.91s/it]"
          ]
        },
        {
          "output_type": "stream",
          "name": "stdout",
          "text": [
            "Names      : ['NLP_CHEST_031']\n",
            "Predictions: [\"Chest AP view showed : 1. Enlarged heart size with tortuous aorta. 2. A L't basal lung and L't upper lung and lower lung mass. R't middle and lower lung reticulonodular infiltrations. 4. s / p endotracheal tube and NG intubation. s / p R't jugular CVP.\"]\n",
            "Labels     : ['Chest PA view : Impression : - Increased both lung markings. - Compatible with right lung nodules. - Fibrotic lesion in left upper lung. - Normal heart size. Atherosclerotic aorta. - Suspect right pleural effusion. - Spondylosis. R / O osteoporosis. - Compatible with multiple bony metastases. - S / P NG and endotracheal tube. - S / P Lt subclavian Port - A - cath.']\n",
            "\n"
          ]
        },
        {
          "output_type": "stream",
          "name": "stderr",
          "text": [
            "\rEvaluting Epoch: 12:  20%|██        | 2/10 [00:03<00:14,  1.75s/it]"
          ]
        },
        {
          "output_type": "stream",
          "name": "stdout",
          "text": [
            "Names      : ['NLP_CHEST_011']\n",
            "Predictions: [\"Chest AP view showed : 1. Enlarged heart size with tortuous aorta. 2. A L't upper lung and L't lower lung reticulonodular infiltrations. L't upper and middle lung reticulonodular infiltrations. L't upper and middle lung mass. 4. No mediastinum widening. 4. s / p R't jugular CVP.\"]\n",
            "Labels     : [\"Chest AP view showed : 1. s / p sternotomy and CABG. Enlarged heart size with tortuous aorta. 2. R't middle and lower lung faint patches. L't lower lung consolidation. L't pleural effusion. 3. No mediastinum widening. 4. s / p endotracheal tube and NG intubation.\"]\n",
            "\n"
          ]
        },
        {
          "output_type": "stream",
          "name": "stderr",
          "text": [
            "\rEvaluting Epoch: 12:  30%|███       | 3/10 [00:04<00:10,  1.51s/it]"
          ]
        },
        {
          "output_type": "stream",
          "name": "stdout",
          "text": [
            "Names      : ['NLP_CHEST_015']\n",
            "Predictions: ['Chest PA view shows : Impression : - Suspicious right upper lung patch. - Normal heart size. - Normal heart size. - Spondylosis of spine. - S / P right chest tube insertion.']\n",
            "Labels     : ['Chest X ray : - No obvious lung mass nor consolidation patch. - Normal heart size. - No pleural effusion.']\n",
            "\n"
          ]
        },
        {
          "output_type": "stream",
          "name": "stderr",
          "text": [
            "\rEvaluting Epoch: 12:  40%|████      | 4/10 [00:06<00:08,  1.43s/it]"
          ]
        },
        {
          "output_type": "stream",
          "name": "stdout",
          "text": [
            "Names      : ['NLP_CHEST_002']\n",
            "Predictions: ['Chest PA view shows : Impression : > No obvious lung mass nor consolidation patch. > No pleural effusion. > No pleural effusion. > No pleural effusion. > Spondylosis. > S / P right pleural effusion. > S / P right chest tube insertion. > S / P right chest tube insertion. > S / P right chest tube insertion.']\n",
            "Labels     : ['Chest PA view shows : Partial atelectasis at left lower lung field. Left pleural effusion. Borderline heart size. Atherosclerotic change of aortic knob. S / P port - A implantation via left subclavian vein. Intraperitoneal port catheter. Surgical clips at RUQ of abdomen.']\n",
            "\n"
          ]
        },
        {
          "output_type": "stream",
          "name": "stderr",
          "text": [
            "\rEvaluting Epoch: 12:  50%|█████     | 5/10 [00:07<00:06,  1.39s/it]"
          ]
        },
        {
          "output_type": "stream",
          "name": "stdout",
          "text": [
            "Names      : ['NLP_CHEST_057']\n",
            "Predictions: ['Chest PA view shows : Impression : - Suspicious pulmonary edema. - Suspect right upper lung patch. - Increased infiltrations in both lungs. - Blunting bilateral CP angles. - Blunting bilateral CP angles. - Normal heart size. - DJD of spine. - S / P fixation in L - spine. - S / P right chest tube insertion.']\n",
            "Labels     : ['Chest plain film shows : Impression : - Increased infiltrations in both lungs. - Tortuous atherosclerotic dilated aorta. - Normal heart size. - DJD of spine. Old fracture of right ribs. - Increased both lung markings. S / P Lt jugular CVC insertion. S / P NG and endotracheal tube. - Susp. Lt pneumothorax. Suspect pneumomediastinum. Subcutaneous emphysema in bilateral neck. - S / P bilateral chest tube insertion.']\n",
            "\n"
          ]
        },
        {
          "output_type": "stream",
          "name": "stderr",
          "text": [
            "\rEvaluting Epoch: 12:  60%|██████    | 6/10 [00:08<00:05,  1.36s/it]"
          ]
        },
        {
          "output_type": "stream",
          "name": "stdout",
          "text": [
            "Names      : ['NLP_CHEST_059']\n",
            "Predictions: [\"Chest AP view showed : 1. Normal heart size with tortuous aorta. 2. No mediastinum widening. 3. No mediastinum widening. 4. No mediastinum widening. 4. s / p endotracheal tube and NG intubation. s / p endotracheal tube and NG tube insertion. s / p R't jugular CVP.\"]\n",
            "Labels     : ['Supine chest AP view shows : Pigtail catheter at right lower chest. Decreased amount of right pleural effusion. Air in the right lower pleural space. Poor lung expansion. Mild subcutaneous emphysema at right chest wall. Right pleural thickening. Ill - defined masses at right perihilar region. Normal heart size.']\n",
            "\n"
          ]
        },
        {
          "output_type": "stream",
          "name": "stderr",
          "text": [
            "\rEvaluting Epoch: 12:  70%|███████   | 7/10 [00:10<00:04,  1.36s/it]"
          ]
        },
        {
          "output_type": "stream",
          "name": "stdout",
          "text": [
            "Names      : ['NLP_CHEST_004']\n",
            "Predictions: ['Chest PA view shows : Impression : - Suspicious pulmonary edema. - Suspicious right upper lung patch. - Blunting bilateral CP angles. - Normal heart size. - Spondylosis and DJD of spine. - S / P fixation in CVC insertion. - S / P right chest tube insertion. S / P right chest tube. S / P Rt jugular CVC insertion.']\n",
            "Labels     : ['Chest PA view show : Impression : - S / P RLL wedge resection. - Bilateral lungs metastasis. - Left lower lung subsegmental atelectasis. - Increased infiltrations in both lungs. - Blunting right CP angle. - Tortuous atherosclerotic aorta. - Scoliosis, DJD and osteoporosis of spine. - Compression fracture of L1.']\n",
            "\n"
          ]
        },
        {
          "output_type": "stream",
          "name": "stderr",
          "text": [
            "\rEvaluting Epoch: 12:  80%|████████  | 8/10 [00:11<00:02,  1.33s/it]"
          ]
        },
        {
          "output_type": "stream",
          "name": "stdout",
          "text": [
            "Names      : ['NLP_CHEST_085']\n",
            "Predictions: ['Chest AP view showed : 1. Normal heart size with tortuous aorta. 2. No mediastinum widening. 3. No mediastinum widening. 3. No mediastinum widening. 3. No mediastinum widening.']\n",
            "Labels     : ['Chest X ray : - Right pneumothorax with pleural effusion, status post drainge tube placement. - Extensive subcutaneous emphysema from neck to right side thoracic cage. - Increased right hilar opacity. - Atherosclerosis and tortuous aorta. - Obscured bilateral costophrenic angles. - Spondylosis and mild scoliosis of thoracolumbar spine. - OA of right glenohumeral joint. - Generalized osteopenia.']\n",
            "\n"
          ]
        },
        {
          "output_type": "stream",
          "name": "stderr",
          "text": [
            "\rEvaluting Epoch: 12:  90%|█████████ | 9/10 [00:12<00:01,  1.31s/it]"
          ]
        },
        {
          "output_type": "stream",
          "name": "stdout",
          "text": [
            "Names      : ['NLP_CHEST_027']\n",
            "Predictions: [\"Chest AP view showed : 1. Normal heart size with tortuous aorta. 2. Bilateral lung reticulonodular infiltrations. 4. No mediastinum widening. 4. s / p endotracheal tube and NG intubation. s / p endotracheal tube and NG tube. s / p R't jugular CVP.\"]\n",
            "Labels     : ['Chest PA View : Impression : > Cardiomegaly with bilateral pulmonary congestion. > Postinflammatory fibrosis in both upper lungs. > Atherosclerosis of aorta. > Old fractures of left 5th and 6th ribs. > R / O osteoporosis. > Spondylosis of thoracolumbar spine. > S / P abdominal operation in RUQ.']\n",
            "\n"
          ]
        },
        {
          "output_type": "stream",
          "name": "stderr",
          "text": [
            "Evaluting Epoch: 12: 100%|██████████| 10/10 [00:14<00:00,  1.43s/it]\n"
          ]
        },
        {
          "output_type": "stream",
          "name": "stdout",
          "text": [
            "Names      : ['NLP_CHEST_071']\n",
            "Predictions: ['Chest plain film shows : Impression : - Suspicious right upper lung patch. - Suspect right lower lung patch. - Normal heart size. - S / P fixation in both lungs. - S / P right pleural effusion. - S / P right chest tube insertion. - S / P right chest tube insertion. S / P right chest tube insertion. S / P Rt jugular CVC insertion.']\n",
            "Labels     : ['Chest film shows : Impression : - Bilateral lung infiltrations. - Suspect right lower lung patch. Blunting right CP angle. - Tortuous atherosclerotic aorta. - Scoliosis, DJD and osteoporosis of spine. Compression fracture of T12. Old fracture of left ribs. - S / P fixation in L - spine. - S / P tracheostomy and NG tube.']\n",
            "\n",
            "Rouge-2 score on epoch 11: {'Rouge-L-P': 0.23926371030862684, 'Rouge-L-R': 0.24131050128445414, 'Rouge-L-F': 0.24131050128445414, 'Rouge-2-P': 0.13581508861361366, 'Rouge-2-R': 0.13358731626928774, 'Rouge-2-F': 0.13358731626928774}\n"
          ]
        },
        {
          "output_type": "stream",
          "name": "stderr",
          "text": [
            "Training Epoch [13 / 30]: 100%|██████████| 89/89 [00:20<00:00,  4.40it/s, loss=0.245]\n",
            "Evaluting Epoch: 13:  10%|█         | 1/10 [00:01<00:11,  1.25s/it]"
          ]
        },
        {
          "output_type": "stream",
          "name": "stdout",
          "text": [
            "Names      : ['NLP_CHEST_031']\n",
            "Predictions: ['Chest PA View : Impression : - Suspicious pulmonary edema. Suspect pulmonary edema. Suspect pulmonary edema. - Suspect right upper lung. Suspect pulmonary edema. - Compatible with right lung. - Normal heart size. - S / P NG and endotracheal tube. - S / P Rt jugular CVC insertion.']\n",
            "Labels     : ['Chest PA view : Impression : - Increased both lung markings. - Compatible with right lung nodules. - Fibrotic lesion in left upper lung. - Normal heart size. Atherosclerotic aorta. - Suspect right pleural effusion. - Spondylosis. R / O osteoporosis. - Compatible with multiple bony metastases. - S / P NG and endotracheal tube. - S / P Lt subclavian Port - A - cath.']\n",
            "\n"
          ]
        },
        {
          "output_type": "stream",
          "name": "stderr",
          "text": [
            "\rEvaluting Epoch: 13:  20%|██        | 2/10 [00:02<00:10,  1.28s/it]"
          ]
        },
        {
          "output_type": "stream",
          "name": "stdout",
          "text": [
            "Names      : ['NLP_CHEST_011']\n",
            "Predictions: ['Chest plain film shows : Impression : - Suspicious pulmonary edema. Suspect right upper lung patch. - Increased infiltrations in both lungs. - Blunting bilateral CP angles. - Tortuous atherosclerotic dilated aorta. - Cardiomegaly. - DJD of spine. - S / P Rt jugular CVC insertion.']\n",
            "Labels     : [\"Chest AP view showed : 1. s / p sternotomy and CABG. Enlarged heart size with tortuous aorta. 2. R't middle and lower lung faint patches. L't lower lung consolidation. L't pleural effusion. 3. No mediastinum widening. 4. s / p endotracheal tube and NG intubation.\"]\n",
            "\n"
          ]
        },
        {
          "output_type": "stream",
          "name": "stderr",
          "text": [
            "\rEvaluting Epoch: 13:  30%|███       | 3/10 [00:03<00:08,  1.27s/it]"
          ]
        },
        {
          "output_type": "stream",
          "name": "stdout",
          "text": [
            "Names      : ['NLP_CHEST_015']\n",
            "Predictions: ['Chest PA view shows : Impression : > No obvious lung mass nor consolidation patch. > No pleural effusion. > Normal heart size. > No pleural effusion. > Normal heart size. > Spondylosis of spine. > S / P NG and endotracheal tube insertion.']\n",
            "Labels     : ['Chest X ray : - No obvious lung mass nor consolidation patch. - Normal heart size. - No pleural effusion.']\n",
            "\n"
          ]
        },
        {
          "output_type": "stream",
          "name": "stderr",
          "text": [
            "\rEvaluting Epoch: 13:  40%|████      | 4/10 [00:05<00:08,  1.41s/it]"
          ]
        },
        {
          "output_type": "stream",
          "name": "stdout",
          "text": [
            "Names      : ['NLP_CHEST_002']\n",
            "Predictions: ['Chest plain film shows : Impression : - Suspicious right upper lung nodule. - Suspect right lower lung nodule. - Normal heart size. - Normal heart size. - DJD of spine.']\n",
            "Labels     : ['Chest PA view shows : Partial atelectasis at left lower lung field. Left pleural effusion. Borderline heart size. Atherosclerotic change of aortic knob. S / P port - A implantation via left subclavian vein. Intraperitoneal port catheter. Surgical clips at RUQ of abdomen.']\n",
            "\n"
          ]
        },
        {
          "output_type": "stream",
          "name": "stderr",
          "text": [
            "\rEvaluting Epoch: 13:  50%|█████     | 5/10 [00:07<00:07,  1.52s/it]"
          ]
        },
        {
          "output_type": "stream",
          "name": "stdout",
          "text": [
            "Names      : ['NLP_CHEST_057']\n",
            "Predictions: ['Chest PA view : Impression : > Suspicious pulmonary edema. > Suspect pulmonary edema. > Suspect bilateral lower lung patches. > S / P NG and nodules. > S / P Rt jugular CVC insertion. > S / P Rt jugular CVC insertion. > S / P Rt jugular CVC insertion. > S / P Rt jugular CVC insertion. > S /']\n",
            "Labels     : ['Chest plain film shows : Impression : - Increased infiltrations in both lungs. - Tortuous atherosclerotic dilated aorta. - Normal heart size. - DJD of spine. Old fracture of right ribs. - Increased both lung markings. S / P Lt jugular CVC insertion. S / P NG and endotracheal tube. - Susp. Lt pneumothorax. Suspect pneumomediastinum. Subcutaneous emphysema in bilateral neck. - S / P bilateral chest tube insertion.']\n",
            "\n"
          ]
        },
        {
          "output_type": "stream",
          "name": "stderr",
          "text": [
            "\rEvaluting Epoch: 13:  60%|██████    | 6/10 [00:08<00:05,  1.42s/it]"
          ]
        },
        {
          "output_type": "stream",
          "name": "stdout",
          "text": [
            "Names      : ['NLP_CHEST_059']\n",
            "Predictions: ['Chest plain film shows : Impression : - Increased infiltrations in both lungs. - Blunting bilateral CP angles. - Cardiomegaly. - Atherosclerosis of aorta. - Scoliosis and DJD of spine. - Scoliosis and DJD of spine.']\n",
            "Labels     : ['Supine chest AP view shows : Pigtail catheter at right lower chest. Decreased amount of right pleural effusion. Air in the right lower pleural space. Poor lung expansion. Mild subcutaneous emphysema at right chest wall. Right pleural thickening. Ill - defined masses at right perihilar region. Normal heart size.']\n",
            "\n"
          ]
        },
        {
          "output_type": "stream",
          "name": "stderr",
          "text": [
            "\rEvaluting Epoch: 13:  70%|███████   | 7/10 [00:09<00:04,  1.38s/it]"
          ]
        },
        {
          "output_type": "stream",
          "name": "stdout",
          "text": [
            "Names      : ['NLP_CHEST_004']\n",
            "Predictions: ['Chest plain film shows : Impression : - Suspicious right upper lung patch. - Increased infiltrations in both lungs. - Blunting bilateral CP angles. - Blunting bilateral CP angles. - Tortuous atherosclerotic dilated aorta. - DJD of spine. - S / P Rt jugular CVC insertion.']\n",
            "Labels     : ['Chest PA view show : Impression : - S / P RLL wedge resection. - Bilateral lungs metastasis. - Left lower lung subsegmental atelectasis. - Increased infiltrations in both lungs. - Blunting right CP angle. - Tortuous atherosclerotic aorta. - Scoliosis, DJD and osteoporosis of spine. - Compression fracture of L1.']\n",
            "\n"
          ]
        },
        {
          "output_type": "stream",
          "name": "stderr",
          "text": [
            "\rEvaluting Epoch: 13:  80%|████████  | 8/10 [00:10<00:02,  1.34s/it]"
          ]
        },
        {
          "output_type": "stream",
          "name": "stdout",
          "text": [
            "Names      : ['NLP_CHEST_085']\n",
            "Predictions: ['Chest plain film shows : Impression : - Suspicious right upper lung patch. - Increased infiltrations in both lungs. - Blunting bilateral CP angles. - Tortuous atherosclerotic dilated aorta. - Normal heart size. - DJD of spine.']\n",
            "Labels     : ['Chest X ray : - Right pneumothorax with pleural effusion, status post drainge tube placement. - Extensive subcutaneous emphysema from neck to right side thoracic cage. - Increased right hilar opacity. - Atherosclerosis and tortuous aorta. - Obscured bilateral costophrenic angles. - Spondylosis and mild scoliosis of thoracolumbar spine. - OA of right glenohumeral joint. - Generalized osteopenia.']\n",
            "\n"
          ]
        },
        {
          "output_type": "stream",
          "name": "stderr",
          "text": [
            "\rEvaluting Epoch: 13:  90%|█████████ | 9/10 [00:12<00:01,  1.31s/it]"
          ]
        },
        {
          "output_type": "stream",
          "name": "stdout",
          "text": [
            "Names      : ['NLP_CHEST_027']\n",
            "Predictions: ['Chest plain film shows : Impression : - Suspicious pulmonary edema. Suspect right upper lung patch. - Increased infiltrations in both lungs. - Blunting bilateral CP angles. - Cardiomegaly. - Atherosclerosis of aorta. - DJD of spine. - S / P fixation in bilateral ribs. - S / P right chest tube insertion.']\n",
            "Labels     : ['Chest PA View : Impression : > Cardiomegaly with bilateral pulmonary congestion. > Postinflammatory fibrosis in both upper lungs. > Atherosclerosis of aorta. > Old fractures of left 5th and 6th ribs. > R / O osteoporosis. > Spondylosis of thoracolumbar spine. > S / P abdominal operation in RUQ.']\n",
            "\n"
          ]
        },
        {
          "output_type": "stream",
          "name": "stderr",
          "text": [
            "Evaluting Epoch: 13: 100%|██████████| 10/10 [00:13<00:00,  1.34s/it]\n"
          ]
        },
        {
          "output_type": "stream",
          "name": "stdout",
          "text": [
            "Names      : ['NLP_CHEST_071']\n",
            "Predictions: ['Chest plain film shows : Impression : - Suspicious right upper lung patch. - Increased infiltrations in both lungs. - Blunting bilateral CP angles. - Tortuous atherosclerotic dilated aorta. - S / P right chest wall. - S / P Rt subclavian CVC insertion. S / P Rt jugular CVC insertion.']\n",
            "Labels     : ['Chest film shows : Impression : - Bilateral lung infiltrations. - Suspect right lower lung patch. Blunting right CP angle. - Tortuous atherosclerotic aorta. - Scoliosis, DJD and osteoporosis of spine. Compression fracture of T12. Old fracture of left ribs. - S / P fixation in L - spine. - S / P tracheostomy and NG tube.']\n",
            "\n",
            "Rouge-2 score on epoch 12: {'Rouge-L-P': 0.24630533797909607, 'Rouge-L-R': 0.24764345805709032, 'Rouge-L-F': 0.24764345805709032, 'Rouge-2-P': 0.1409401641713476, 'Rouge-2-R': 0.13885408725931978, 'Rouge-2-F': 0.13885408725931978}\n"
          ]
        },
        {
          "output_type": "stream",
          "name": "stderr",
          "text": [
            "Training Epoch [14 / 30]: 100%|██████████| 89/89 [00:20<00:00,  4.34it/s, loss=0.22]\n",
            "Evaluting Epoch: 14:  10%|█         | 1/10 [00:01<00:11,  1.27s/it]"
          ]
        },
        {
          "output_type": "stream",
          "name": "stdout",
          "text": [
            "Names      : ['NLP_CHEST_031']\n",
            "Predictions: [\"Chest AP view showed : 1. Normal heart size with tortuous aorta. 2. R't middle lung and L't lower lung. 3. No mediastinum widening. 4. s / p endotracheal tube and NG intubation. s / p R't jugular CVP.\"]\n",
            "Labels     : ['Chest PA view : Impression : - Increased both lung markings. - Compatible with right lung nodules. - Fibrotic lesion in left upper lung. - Normal heart size. Atherosclerotic aorta. - Suspect right pleural effusion. - Spondylosis. R / O osteoporosis. - Compatible with multiple bony metastases. - S / P NG and endotracheal tube. - S / P Lt subclavian Port - A - cath.']\n",
            "\n"
          ]
        },
        {
          "output_type": "stream",
          "name": "stderr",
          "text": [
            "\rEvaluting Epoch: 14:  20%|██        | 2/10 [00:02<00:10,  1.25s/it]"
          ]
        },
        {
          "output_type": "stream",
          "name": "stdout",
          "text": [
            "Names      : ['NLP_CHEST_011']\n",
            "Predictions: [\"Chest AP view showed : 1. Normal heart size with tortuous aorta. 2. R't middle lung and L't lower lung reticulonodular infiltrations. 4. No mediastinum widening. 4. s / p R't jugular CVP. 4. s / p R't jugular CVP.\"]\n",
            "Labels     : [\"Chest AP view showed : 1. s / p sternotomy and CABG. Enlarged heart size with tortuous aorta. 2. R't middle and lower lung faint patches. L't lower lung consolidation. L't pleural effusion. 3. No mediastinum widening. 4. s / p endotracheal tube and NG intubation.\"]\n",
            "\n"
          ]
        },
        {
          "output_type": "stream",
          "name": "stderr",
          "text": [
            "\rEvaluting Epoch: 14:  30%|███       | 3/10 [00:04<00:10,  1.43s/it]"
          ]
        },
        {
          "output_type": "stream",
          "name": "stdout",
          "text": [
            "Names      : ['NLP_CHEST_015']\n",
            "Predictions: ['Chest plain film shows : Impression : - Increased infiltrations in both lungs. - Blunting bilateral CP angles. - Tortuous atherosclerotic dilated aorta. - Normal heart size. - DJD of spine.']\n",
            "Labels     : ['Chest X ray : - No obvious lung mass nor consolidation patch. - Normal heart size. - No pleural effusion.']\n",
            "\n"
          ]
        },
        {
          "output_type": "stream",
          "name": "stderr",
          "text": [
            "\rEvaluting Epoch: 14:  40%|████      | 4/10 [00:05<00:09,  1.57s/it]"
          ]
        },
        {
          "output_type": "stream",
          "name": "stdout",
          "text": [
            "Names      : ['NLP_CHEST_002']\n",
            "Predictions: ['Chest plain film shows : Impression : - Suspicious right upper lung patch. - Normal heart size. - The heart shadow is not widened. - Normal heart size. - S / P repair of left ribs. - S / P NG tube insertion.']\n",
            "Labels     : ['Chest PA view shows : Partial atelectasis at left lower lung field. Left pleural effusion. Borderline heart size. Atherosclerotic change of aortic knob. S / P port - A implantation via left subclavian vein. Intraperitoneal port catheter. Surgical clips at RUQ of abdomen.']\n",
            "\n"
          ]
        },
        {
          "output_type": "stream",
          "name": "stderr",
          "text": [
            "\rEvaluting Epoch: 14:  50%|█████     | 5/10 [00:07<00:07,  1.45s/it]"
          ]
        },
        {
          "output_type": "stream",
          "name": "stdout",
          "text": [
            "Names      : ['NLP_CHEST_057']\n",
            "Predictions: ['Chest plain film shows : Impression : - Increased infiltrations in both lungs. - Blunting bilateral CP angles. - Tortuous atherosclerotic dilated aorta. - Tortuous atherosclerotic dilated aorta. - DJD of spine. - S / P Rt jugular CVC insertion.']\n",
            "Labels     : ['Chest plain film shows : Impression : - Increased infiltrations in both lungs. - Tortuous atherosclerotic dilated aorta. - Normal heart size. - DJD of spine. Old fracture of right ribs. - Increased both lung markings. S / P Lt jugular CVC insertion. S / P NG and endotracheal tube. - Susp. Lt pneumothorax. Suspect pneumomediastinum. Subcutaneous emphysema in bilateral neck. - S / P bilateral chest tube insertion.']\n",
            "\n"
          ]
        },
        {
          "output_type": "stream",
          "name": "stderr",
          "text": [
            "\rEvaluting Epoch: 14:  60%|██████    | 6/10 [00:08<00:05,  1.38s/it]"
          ]
        },
        {
          "output_type": "stream",
          "name": "stdout",
          "text": [
            "Names      : ['NLP_CHEST_059']\n",
            "Predictions: ['Chest plain film shows : Impression : - Increased infiltrations in both lungs. - Blunting bilateral CP angles. - Tortuous atherosclerotic dilated aorta. - Cardiomegaly. - Scoliosis, DJD and osteoporosis of spine. - S / P fixation in L - spine.']\n",
            "Labels     : ['Supine chest AP view shows : Pigtail catheter at right lower chest. Decreased amount of right pleural effusion. Air in the right lower pleural space. Poor lung expansion. Mild subcutaneous emphysema at right chest wall. Right pleural thickening. Ill - defined masses at right perihilar region. Normal heart size.']\n",
            "\n"
          ]
        },
        {
          "output_type": "stream",
          "name": "stderr",
          "text": [
            "\rEvaluting Epoch: 14:  70%|███████   | 7/10 [00:09<00:03,  1.33s/it]"
          ]
        },
        {
          "output_type": "stream",
          "name": "stdout",
          "text": [
            "Names      : ['NLP_CHEST_004']\n",
            "Predictions: ['Chest plain film shows : Impression : - Suspicious right upper lung patch. - Increased infiltrations in both lungs. - Blunting bilateral CP angles. - Tortuous atherosclerotic dilated aorta. - Tortuous atherosclerotic dilated aorta. - S / P NG and endotracheal tube.']\n",
            "Labels     : ['Chest PA view show : Impression : - S / P RLL wedge resection. - Bilateral lungs metastasis. - Left lower lung subsegmental atelectasis. - Increased infiltrations in both lungs. - Blunting right CP angle. - Tortuous atherosclerotic aorta. - Scoliosis, DJD and osteoporosis of spine. - Compression fracture of L1.']\n",
            "\n"
          ]
        },
        {
          "output_type": "stream",
          "name": "stderr",
          "text": [
            "\rEvaluting Epoch: 14:  80%|████████  | 8/10 [00:10<00:02,  1.30s/it]"
          ]
        },
        {
          "output_type": "stream",
          "name": "stdout",
          "text": [
            "Names      : ['NLP_CHEST_085']\n",
            "Predictions: ['Chest plain film shows : Impression : - Suspicious right upper lung patch. - Increased infiltrations in both lungs. - Tortuous atherosclerotic dilated aorta. - Tortuous atherosclerotic dilated aorta. - Scoliosis, DJD and osteoporosis of spine. - S / P NG and endotracheal tube.']\n",
            "Labels     : ['Chest X ray : - Right pneumothorax with pleural effusion, status post drainge tube placement. - Extensive subcutaneous emphysema from neck to right side thoracic cage. - Increased right hilar opacity. - Atherosclerosis and tortuous aorta. - Obscured bilateral costophrenic angles. - Spondylosis and mild scoliosis of thoracolumbar spine. - OA of right glenohumeral joint. - Generalized osteopenia.']\n",
            "\n"
          ]
        },
        {
          "output_type": "stream",
          "name": "stderr",
          "text": [
            "\rEvaluting Epoch: 14:  90%|█████████ | 9/10 [00:12<00:01,  1.29s/it]"
          ]
        },
        {
          "output_type": "stream",
          "name": "stdout",
          "text": [
            "Names      : ['NLP_CHEST_027']\n",
            "Predictions: ['Chest plain film shows : Impression : - Suspicious right upper lung patch. - Bilateral apical pleural thickening. - Normal heart size. - DJD of spine. - S / P fixation in C - spine.']\n",
            "Labels     : ['Chest PA View : Impression : > Cardiomegaly with bilateral pulmonary congestion. > Postinflammatory fibrosis in both upper lungs. > Atherosclerosis of aorta. > Old fractures of left 5th and 6th ribs. > R / O osteoporosis. > Spondylosis of thoracolumbar spine. > S / P abdominal operation in RUQ.']\n",
            "\n"
          ]
        },
        {
          "output_type": "stream",
          "name": "stderr",
          "text": [
            "Evaluting Epoch: 14: 100%|██████████| 10/10 [00:13<00:00,  1.34s/it]\n"
          ]
        },
        {
          "output_type": "stream",
          "name": "stdout",
          "text": [
            "Names      : ['NLP_CHEST_071']\n",
            "Predictions: ['Chest plain film shows : Impression : - Suspicious right upper lung patch. - Increased infiltrations in both lungs. - Tortuous atherosclerotic dilated aorta. - Tortuous atherosclerotic dilated aorta. - S / P NG and endotracheal tube. - S / P Rt jugular CVC insertion.']\n",
            "Labels     : ['Chest film shows : Impression : - Bilateral lung infiltrations. - Suspect right lower lung patch. Blunting right CP angle. - Tortuous atherosclerotic aorta. - Scoliosis, DJD and osteoporosis of spine. Compression fracture of T12. Old fracture of left ribs. - S / P fixation in L - spine. - S / P tracheostomy and NG tube.']\n",
            "\n",
            "Rouge-2 score on epoch 13: {'Rouge-L-P': 0.2562972549057606, 'Rouge-L-R': 0.25228232712406423, 'Rouge-L-F': 0.25228232712406423, 'Rouge-2-P': 0.1486288173743462, 'Rouge-2-R': 0.14326108819274763, 'Rouge-2-F': 0.14326108819274763}\n"
          ]
        },
        {
          "output_type": "stream",
          "name": "stderr",
          "text": [
            "Training Epoch [15 / 30]: 100%|██████████| 89/89 [00:20<00:00,  4.31it/s, loss=0.194]\n",
            "Evaluting Epoch: 15:  10%|█         | 1/10 [00:01<00:11,  1.26s/it]"
          ]
        },
        {
          "output_type": "stream",
          "name": "stdout",
          "text": [
            "Names      : ['NLP_CHEST_031']\n",
            "Predictions: [\"Chest AP view showed : 1. Enlarged heart size with tortuous aorta. 2. A L't basal lung small density. 3. No mediastinum widening. 4. s / p endotracheal tube and NG intubation. s / p L't jugular CVP. s / p R't jugular CVP.\"]\n",
            "Labels     : ['Chest PA view : Impression : - Increased both lung markings. - Compatible with right lung nodules. - Fibrotic lesion in left upper lung. - Normal heart size. Atherosclerotic aorta. - Suspect right pleural effusion. - Spondylosis. R / O osteoporosis. - Compatible with multiple bony metastases. - S / P NG and endotracheal tube. - S / P Lt subclavian Port - A - cath.']\n",
            "\n"
          ]
        },
        {
          "output_type": "stream",
          "name": "stderr",
          "text": [
            "\rEvaluting Epoch: 15:  20%|██        | 2/10 [00:02<00:10,  1.25s/it]"
          ]
        },
        {
          "output_type": "stream",
          "name": "stdout",
          "text": [
            "Names      : ['NLP_CHEST_011']\n",
            "Predictions: [\"Chest AP view showed : 1. Enlarged heart size with tortuous aorta. 2. Bilateral lung reticulonodular infiltrations. L't upper lung mass. 3. No mediastinum widening. 4. s / p endotracheal tube and NG intubation. s / p L't jugular CVP.\"]\n",
            "Labels     : [\"Chest AP view showed : 1. s / p sternotomy and CABG. Enlarged heart size with tortuous aorta. 2. R't middle and lower lung faint patches. L't lower lung consolidation. L't pleural effusion. 3. No mediastinum widening. 4. s / p endotracheal tube and NG intubation.\"]\n",
            "\n"
          ]
        },
        {
          "output_type": "stream",
          "name": "stderr",
          "text": [
            "\rEvaluting Epoch: 15:  30%|███       | 3/10 [00:03<00:09,  1.32s/it]"
          ]
        },
        {
          "output_type": "stream",
          "name": "stdout",
          "text": [
            "Names      : ['NLP_CHEST_015']\n",
            "Predictions: ['Chest PA view shows : Impression : - Increased infiltrations in both lungs. - Blunting bilateral CP angles. - Normal heart size. - Atherosclerotic aorta. - Spondylosis of spine. - S / P NG tube insertion.']\n",
            "Labels     : ['Chest X ray : - No obvious lung mass nor consolidation patch. - Normal heart size. - No pleural effusion.']\n",
            "\n"
          ]
        },
        {
          "output_type": "stream",
          "name": "stderr",
          "text": [
            "\rEvaluting Epoch: 15:  40%|████      | 4/10 [00:05<00:09,  1.53s/it]"
          ]
        },
        {
          "output_type": "stream",
          "name": "stdout",
          "text": [
            "Names      : ['NLP_CHEST_002']\n",
            "Predictions: ['Chest PA view shows : Impression : - Increased infiltrations in both lungs. - Blunting bilateral CP angles. - Blunting bilateral CP angles. - Normal heart size. - Atherosclerotic aorta. - Spondylosis of spine. - Spondylosis of spine.']\n",
            "Labels     : ['Chest PA view shows : Partial atelectasis at left lower lung field. Left pleural effusion. Borderline heart size. Atherosclerotic change of aortic knob. S / P port - A implantation via left subclavian vein. Intraperitoneal port catheter. Surgical clips at RUQ of abdomen.']\n",
            "\n"
          ]
        },
        {
          "output_type": "stream",
          "name": "stderr",
          "text": [
            "\rEvaluting Epoch: 15:  50%|█████     | 5/10 [00:07<00:07,  1.44s/it]"
          ]
        },
        {
          "output_type": "stream",
          "name": "stdout",
          "text": [
            "Names      : ['NLP_CHEST_057']\n",
            "Predictions: ['Chest plain film shows : Impression : - Increased infiltrations in both lungs. - Blunting bilateral CP angles. - Tortuous atherosclerotic dilated aorta. - DJD of spine. - S / P fixation in L - spine. S / P Lt subclavian Port - A - cath.']\n",
            "Labels     : ['Chest plain film shows : Impression : - Increased infiltrations in both lungs. - Tortuous atherosclerotic dilated aorta. - Normal heart size. - DJD of spine. Old fracture of right ribs. - Increased both lung markings. S / P Lt jugular CVC insertion. S / P NG and endotracheal tube. - Susp. Lt pneumothorax. Suspect pneumomediastinum. Subcutaneous emphysema in bilateral neck. - S / P bilateral chest tube insertion.']\n",
            "\n"
          ]
        },
        {
          "output_type": "stream",
          "name": "stderr",
          "text": [
            "\rEvaluting Epoch: 15:  60%|██████    | 6/10 [00:08<00:05,  1.36s/it]"
          ]
        },
        {
          "output_type": "stream",
          "name": "stdout",
          "text": [
            "Names      : ['NLP_CHEST_059']\n",
            "Predictions: ['Chest plain film shows : Impression : - Increased infiltrations in both lungs. - Blunting bilateral CP angles. - Tortuous atherosclerotic dilated aorta. - Cardiomegaly. - Scoliosis and DJD of spine. - Spondylosis of spine.']\n",
            "Labels     : ['Supine chest AP view shows : Pigtail catheter at right lower chest. Decreased amount of right pleural effusion. Air in the right lower pleural space. Poor lung expansion. Mild subcutaneous emphysema at right chest wall. Right pleural thickening. Ill - defined masses at right perihilar region. Normal heart size.']\n",
            "\n"
          ]
        },
        {
          "output_type": "stream",
          "name": "stderr",
          "text": [
            "\rEvaluting Epoch: 15:  70%|███████   | 7/10 [00:09<00:03,  1.32s/it]"
          ]
        },
        {
          "output_type": "stream",
          "name": "stdout",
          "text": [
            "Names      : ['NLP_CHEST_004']\n",
            "Predictions: ['Chest plain film shows : Impression : - Suspicious right upper lung patch. - Increased infiltrations in both lungs. - Blunting bilateral CP angles. - Blunting bilateral CP angles. - Tortuous atherosclerotic dilated aorta. - Spondylosis of spine. - S / P NG and endotracheal tube. S / P Lt jugular CVC insertion.']\n",
            "Labels     : ['Chest PA view show : Impression : - S / P RLL wedge resection. - Bilateral lungs metastasis. - Left lower lung subsegmental atelectasis. - Increased infiltrations in both lungs. - Blunting right CP angle. - Tortuous atherosclerotic aorta. - Scoliosis, DJD and osteoporosis of spine. - Compression fracture of L1.']\n",
            "\n"
          ]
        },
        {
          "output_type": "stream",
          "name": "stderr",
          "text": [
            "\rEvaluting Epoch: 15:  80%|████████  | 8/10 [00:10<00:02,  1.30s/it]"
          ]
        },
        {
          "output_type": "stream",
          "name": "stdout",
          "text": [
            "Names      : ['NLP_CHEST_085']\n",
            "Predictions: ['Chest plain film shows : Impression : - Suspicious right upper lung patch. - Increased infiltrations in both lungs. - Blunting bilateral CP angles. - Tortuous atherosclerotic dilated aorta. - DJD of spine. - S / P right ribs.']\n",
            "Labels     : ['Chest X ray : - Right pneumothorax with pleural effusion, status post drainge tube placement. - Extensive subcutaneous emphysema from neck to right side thoracic cage. - Increased right hilar opacity. - Atherosclerosis and tortuous aorta. - Obscured bilateral costophrenic angles. - Spondylosis and mild scoliosis of thoracolumbar spine. - OA of right glenohumeral joint. - Generalized osteopenia.']\n",
            "\n"
          ]
        },
        {
          "output_type": "stream",
          "name": "stderr",
          "text": [
            "\rEvaluting Epoch: 15:  90%|█████████ | 9/10 [00:11<00:01,  1.27s/it]"
          ]
        },
        {
          "output_type": "stream",
          "name": "stdout",
          "text": [
            "Names      : ['NLP_CHEST_027']\n",
            "Predictions: ['Chest plain film shows : Impression : - Suspicious right upper lung patch. - Increased infiltrations in both lungs. - Blunting bilateral CP angles. - Blunting bilateral CP angles. - Atherosclerotic dilated aorta. - DJD of spine. - S / P fixation in L spine. - S / P Lt subclavian Port - A - cath.']\n",
            "Labels     : ['Chest PA View : Impression : > Cardiomegaly with bilateral pulmonary congestion. > Postinflammatory fibrosis in both upper lungs. > Atherosclerosis of aorta. > Old fractures of left 5th and 6th ribs. > R / O osteoporosis. > Spondylosis of thoracolumbar spine. > S / P abdominal operation in RUQ.']\n",
            "\n"
          ]
        },
        {
          "output_type": "stream",
          "name": "stderr",
          "text": [
            "Evaluting Epoch: 15: 100%|██████████| 10/10 [00:13<00:00,  1.32s/it]\n"
          ]
        },
        {
          "output_type": "stream",
          "name": "stdout",
          "text": [
            "Names      : ['NLP_CHEST_071']\n",
            "Predictions: ['Chest plain film shows : Impression : - Suspicious right upper lung patch. - Increased infiltrations in both lungs. - Blunting bilateral CP angles. - Tortuous atherosclerotic dilated aorta. - S / P fixation in L - spine. - S / P Rt jugular CVC insertion.']\n",
            "Labels     : ['Chest film shows : Impression : - Bilateral lung infiltrations. - Suspect right lower lung patch. Blunting right CP angle. - Tortuous atherosclerotic aorta. - Scoliosis, DJD and osteoporosis of spine. Compression fracture of T12. Old fracture of left ribs. - S / P fixation in L - spine. - S / P tracheostomy and NG tube.']\n",
            "\n",
            "Rouge-2 score on epoch 14: {'Rouge-L-P': 0.2650779995903692, 'Rouge-L-R': 0.25826017534923007, 'Rouge-L-F': 0.25826017534923007, 'Rouge-2-P': 0.15594515111486865, 'Rouge-2-R': 0.14891310458506388, 'Rouge-2-F': 0.14891310458506388}\n"
          ]
        },
        {
          "output_type": "stream",
          "name": "stderr",
          "text": [
            "Training Epoch [16 / 30]: 100%|██████████| 89/89 [00:20<00:00,  4.36it/s, loss=0.177]\n",
            "Evaluting Epoch: 16:  10%|█         | 1/10 [00:01<00:11,  1.24s/it]"
          ]
        },
        {
          "output_type": "stream",
          "name": "stdout",
          "text": [
            "Names      : ['NLP_CHEST_031']\n",
            "Predictions: [\"Chest AP view showed : 1. Normal heart size with tortuous aorta. 2. R't middle lung and L't lower lung reticulonodular infiltrations. Mild L't pleural effusion. 3. No mediastinum widening. 4. s / p endotracheal tube and NG intubation. s / p R't jugular CVP.\"]\n",
            "Labels     : ['Chest PA view : Impression : - Increased both lung markings. - Compatible with right lung nodules. - Fibrotic lesion in left upper lung. - Normal heart size. Atherosclerotic aorta. - Suspect right pleural effusion. - Spondylosis. R / O osteoporosis. - Compatible with multiple bony metastases. - S / P NG and endotracheal tube. - S / P Lt subclavian Port - A - cath.']\n",
            "\n"
          ]
        },
        {
          "output_type": "stream",
          "name": "stderr",
          "text": [
            "\rEvaluting Epoch: 16:  20%|██        | 2/10 [00:02<00:09,  1.24s/it]"
          ]
        },
        {
          "output_type": "stream",
          "name": "stdout",
          "text": [
            "Names      : ['NLP_CHEST_011']\n",
            "Predictions: [\"Chest AP view showed : 1. Normal heart size with tortuous aorta. 2. R't middle lung and L't lower lung reticulonodular infiltrations. Mild L't pleural effusion. 3. No mediastinum widening. 4. s / p endotracheal tube and NG intubation. s / p R't jugular CVP.\"]\n",
            "Labels     : [\"Chest AP view showed : 1. s / p sternotomy and CABG. Enlarged heart size with tortuous aorta. 2. R't middle and lower lung faint patches. L't lower lung consolidation. L't pleural effusion. 3. No mediastinum widening. 4. s / p endotracheal tube and NG intubation.\"]\n",
            "\n"
          ]
        },
        {
          "output_type": "stream",
          "name": "stderr",
          "text": [
            "\rEvaluting Epoch: 16:  30%|███       | 3/10 [00:03<00:08,  1.25s/it]"
          ]
        },
        {
          "output_type": "stream",
          "name": "stdout",
          "text": [
            "Names      : ['NLP_CHEST_015']\n",
            "Predictions: ['Chest PA view shows : Impression : - Increased infiltrations in both lungs. - Normal heart size. - Normal heart size. - Atherosclerotic aorta. - Spondylosis of spine.']\n",
            "Labels     : ['Chest X ray : - No obvious lung mass nor consolidation patch. - Normal heart size. - No pleural effusion.']\n",
            "\n"
          ]
        },
        {
          "output_type": "stream",
          "name": "stderr",
          "text": [
            "\rEvaluting Epoch: 16:  40%|████      | 4/10 [00:04<00:07,  1.24s/it]"
          ]
        },
        {
          "output_type": "stream",
          "name": "stdout",
          "text": [
            "Names      : ['NLP_CHEST_002']\n",
            "Predictions: ['Chest PA view shows : Impression : > No obvious lung mass nor consolidation patch. > Normal heart size. > No pleural effusion.']\n",
            "Labels     : ['Chest PA view shows : Partial atelectasis at left lower lung field. Left pleural effusion. Borderline heart size. Atherosclerotic change of aortic knob. S / P port - A implantation via left subclavian vein. Intraperitoneal port catheter. Surgical clips at RUQ of abdomen.']\n",
            "\n"
          ]
        },
        {
          "output_type": "stream",
          "name": "stderr",
          "text": [
            "\rEvaluting Epoch: 16:  50%|█████     | 5/10 [00:06<00:06,  1.24s/it]"
          ]
        },
        {
          "output_type": "stream",
          "name": "stdout",
          "text": [
            "Names      : ['NLP_CHEST_057']\n",
            "Predictions: ['Chest PA view shows : Impression : - Increased infiltrations in both lungs. - Blunting bilateral CP angles. - Normal heart size. - Atherosclerotic aorta. - DJD of spine.']\n",
            "Labels     : ['Chest plain film shows : Impression : - Increased infiltrations in both lungs. - Tortuous atherosclerotic dilated aorta. - Normal heart size. - DJD of spine. Old fracture of right ribs. - Increased both lung markings. S / P Lt jugular CVC insertion. S / P NG and endotracheal tube. - Susp. Lt pneumothorax. Suspect pneumomediastinum. Subcutaneous emphysema in bilateral neck. - S / P bilateral chest tube insertion.']\n",
            "\n"
          ]
        },
        {
          "output_type": "stream",
          "name": "stderr",
          "text": [
            "\rEvaluting Epoch: 16:  60%|██████    | 6/10 [00:07<00:04,  1.24s/it]"
          ]
        },
        {
          "output_type": "stream",
          "name": "stdout",
          "text": [
            "Names      : ['NLP_CHEST_059']\n",
            "Predictions: ['Chest PA view shows : Impression : - Increased infiltrations in both lungs. - Blunting bilateral CP angles. - Atherosclerotic aorta. - Normal heart size. - Atherosclerotic aorta. - Spondylosis of spine.']\n",
            "Labels     : ['Supine chest AP view shows : Pigtail catheter at right lower chest. Decreased amount of right pleural effusion. Air in the right lower pleural space. Poor lung expansion. Mild subcutaneous emphysema at right chest wall. Right pleural thickening. Ill - defined masses at right perihilar region. Normal heart size.']\n",
            "\n"
          ]
        },
        {
          "output_type": "stream",
          "name": "stderr",
          "text": [
            "\rEvaluting Epoch: 16:  70%|███████   | 7/10 [00:08<00:03,  1.27s/it]"
          ]
        },
        {
          "output_type": "stream",
          "name": "stdout",
          "text": [
            "Names      : ['NLP_CHEST_004']\n",
            "Predictions: ['Chest PA view shows : Impression : - Increased infiltrations in both lungs. - Blunting bilateral CP angles. - Normal heart size. - Atherosclerotic aorta. - Spondylosis of spine. - S / P NG and endotracheal tube.']\n",
            "Labels     : ['Chest PA view show : Impression : - S / P RLL wedge resection. - Bilateral lungs metastasis. - Left lower lung subsegmental atelectasis. - Increased infiltrations in both lungs. - Blunting right CP angle. - Tortuous atherosclerotic aorta. - Scoliosis, DJD and osteoporosis of spine. - Compression fracture of L1.']\n",
            "\n"
          ]
        },
        {
          "output_type": "stream",
          "name": "stderr",
          "text": [
            "\rEvaluting Epoch: 16:  80%|████████  | 8/10 [00:10<00:02,  1.42s/it]"
          ]
        },
        {
          "output_type": "stream",
          "name": "stdout",
          "text": [
            "Names      : ['NLP_CHEST_085']\n",
            "Predictions: [\"Chest AP view showed : 1. Normal heart size with tortuous aorta. 2. R't middle lung and L't lower lung reticulonodular infiltrations. Mild L't pleural effusion. 3. No mediastinum widening. 4. s / p endotracheal tube and NG intubation. s / p R't jugular CVP.\"]\n",
            "Labels     : ['Chest X ray : - Right pneumothorax with pleural effusion, status post drainge tube placement. - Extensive subcutaneous emphysema from neck to right side thoracic cage. - Increased right hilar opacity. - Atherosclerosis and tortuous aorta. - Obscured bilateral costophrenic angles. - Spondylosis and mild scoliosis of thoracolumbar spine. - OA of right glenohumeral joint. - Generalized osteopenia.']\n",
            "\n"
          ]
        },
        {
          "output_type": "stream",
          "name": "stderr",
          "text": [
            "\rEvaluting Epoch: 16:  90%|█████████ | 9/10 [00:12<00:01,  1.45s/it]"
          ]
        },
        {
          "output_type": "stream",
          "name": "stdout",
          "text": [
            "Names      : ['NLP_CHEST_027']\n",
            "Predictions: ['Chest plain film shows : Impression : - Suspicious right upper lung patch. Bilateral lung nodules. - Normal heart size. - Atherosclerotic aorta. - S / P fixation in L - spine.']\n",
            "Labels     : ['Chest PA View : Impression : > Cardiomegaly with bilateral pulmonary congestion. > Postinflammatory fibrosis in both upper lungs. > Atherosclerosis of aorta. > Old fractures of left 5th and 6th ribs. > R / O osteoporosis. > Spondylosis of thoracolumbar spine. > S / P abdominal operation in RUQ.']\n",
            "\n"
          ]
        },
        {
          "output_type": "stream",
          "name": "stderr",
          "text": [
            "Evaluting Epoch: 16: 100%|██████████| 10/10 [00:13<00:00,  1.33s/it]\n"
          ]
        },
        {
          "output_type": "stream",
          "name": "stdout",
          "text": [
            "Names      : ['NLP_CHEST_071']\n",
            "Predictions: ['Chest plain film shows : Impression : - Suspicious right upper lung patch. - Increased infiltrations in both lungs. - Tortuous atherosclerotic dilated aorta. - Normal heart size. - DJD of spine.']\n",
            "Labels     : ['Chest film shows : Impression : - Bilateral lung infiltrations. - Suspect right lower lung patch. Blunting right CP angle. - Tortuous atherosclerotic aorta. - Scoliosis, DJD and osteoporosis of spine. Compression fracture of T12. Old fracture of left ribs. - S / P fixation in L - spine. - S / P tracheostomy and NG tube.']\n",
            "\n",
            "Rouge-2 score on epoch 15: {'Rouge-L-P': 0.2744424774033805, 'Rouge-L-R': 0.2607187046842284, 'Rouge-L-F': 0.2607187046842284, 'Rouge-2-P': 0.16466196688760934, 'Rouge-2-R': 0.15280266251237334, 'Rouge-2-F': 0.15280266251237334}\n"
          ]
        },
        {
          "output_type": "stream",
          "name": "stderr",
          "text": [
            "Training Epoch [17 / 30]: 100%|██████████| 89/89 [00:20<00:00,  4.44it/s, loss=0.152]\n",
            "Evaluting Epoch: 17:  10%|█         | 1/10 [00:01<00:11,  1.29s/it]"
          ]
        },
        {
          "output_type": "stream",
          "name": "stdout",
          "text": [
            "Names      : ['NLP_CHEST_031']\n",
            "Predictions: [\"Chest AP view showed : 1. Normal heart size with tortuous aorta. 2. A L't basal lung small density. 3. No mediastinum widening. 4. s / p endotracheal tube and NG intubation. s / p R't jugular CVP. 4. No mediastinum widening. 4. s / p R't jugular CVP.\"]\n",
            "Labels     : ['Chest PA view : Impression : - Increased both lung markings. - Compatible with right lung nodules. - Fibrotic lesion in left upper lung. - Normal heart size. Atherosclerotic aorta. - Suspect right pleural effusion. - Spondylosis. R / O osteoporosis. - Compatible with multiple bony metastases. - S / P NG and endotracheal tube. - S / P Lt subclavian Port - A - cath.']\n",
            "\n"
          ]
        },
        {
          "output_type": "stream",
          "name": "stderr",
          "text": [
            "\rEvaluting Epoch: 17:  20%|██        | 2/10 [00:03<00:12,  1.56s/it]"
          ]
        },
        {
          "output_type": "stream",
          "name": "stdout",
          "text": [
            "Names      : ['NLP_CHEST_011']\n",
            "Predictions: [\"Chest AP view showed : 1. Normal heart size with tortuous aorta. 2. A L't middle lung and L't lower lung reticulonodular infiltrations. 3. No mediastinum widening. 3. No mediastinum widening. 4. s / p endotracheal tube and NG intubation. s / p R't jugular CVP.\"]\n",
            "Labels     : [\"Chest AP view showed : 1. s / p sternotomy and CABG. Enlarged heart size with tortuous aorta. 2. R't middle and lower lung faint patches. L't lower lung consolidation. L't pleural effusion. 3. No mediastinum widening. 4. s / p endotracheal tube and NG intubation.\"]\n",
            "\n"
          ]
        },
        {
          "output_type": "stream",
          "name": "stderr",
          "text": [
            "\rEvaluting Epoch: 17:  30%|███       | 3/10 [00:04<00:11,  1.60s/it]"
          ]
        },
        {
          "output_type": "stream",
          "name": "stdout",
          "text": [
            "Names      : ['NLP_CHEST_015']\n",
            "Predictions: ['Chest plain film shows : Impression : - Suspicious right upper lung patch. - Normal heart size. - Normal heart size. - Atherosclerotic aorta. - S / P repair of spine. - S / P right chest tube insertion.']\n",
            "Labels     : ['Chest X ray : - No obvious lung mass nor consolidation patch. - Normal heart size. - No pleural effusion.']\n",
            "\n"
          ]
        },
        {
          "output_type": "stream",
          "name": "stderr",
          "text": [
            "\rEvaluting Epoch: 17:  40%|████      | 4/10 [00:05<00:08,  1.48s/it]"
          ]
        },
        {
          "output_type": "stream",
          "name": "stdout",
          "text": [
            "Names      : ['NLP_CHEST_002']\n",
            "Predictions: ['Chest plain film shows : Impression : - Suspicious right upper lung mass. - Increased both lung infiltration. - Blunting bilateral CP angles. - Tortuous atherosclerotic dilated aorta. - Normal heart size. - DJD of spine. - S / P Rt jugular CVC insertion.']\n",
            "Labels     : ['Chest PA view shows : Partial atelectasis at left lower lung field. Left pleural effusion. Borderline heart size. Atherosclerotic change of aortic knob. S / P port - A implantation via left subclavian vein. Intraperitoneal port catheter. Surgical clips at RUQ of abdomen.']\n",
            "\n"
          ]
        },
        {
          "output_type": "stream",
          "name": "stderr",
          "text": [
            "\rEvaluting Epoch: 17:  50%|█████     | 5/10 [00:07<00:07,  1.40s/it]"
          ]
        },
        {
          "output_type": "stream",
          "name": "stdout",
          "text": [
            "Names      : ['NLP_CHEST_057']\n",
            "Predictions: ['Chest plain film shows : Impression : - Suspicious right upper lung mass. - Increased infiltrations in both lungs. - Blunting bilateral CP angles. - Tortuous atherosclerotic dilated aorta. - DJD of spine. - S / P Rt jugular CVC insertion. S / P Rt jugular CVC insertion.']\n",
            "Labels     : ['Chest plain film shows : Impression : - Increased infiltrations in both lungs. - Tortuous atherosclerotic dilated aorta. - Normal heart size. - DJD of spine. Old fracture of right ribs. - Increased both lung markings. S / P Lt jugular CVC insertion. S / P NG and endotracheal tube. - Susp. Lt pneumothorax. Suspect pneumomediastinum. Subcutaneous emphysema in bilateral neck. - S / P bilateral chest tube insertion.']\n",
            "\n"
          ]
        },
        {
          "output_type": "stream",
          "name": "stderr",
          "text": [
            "\rEvaluting Epoch: 17:  60%|██████    | 6/10 [00:08<00:05,  1.35s/it]"
          ]
        },
        {
          "output_type": "stream",
          "name": "stdout",
          "text": [
            "Names      : ['NLP_CHEST_059']\n",
            "Predictions: ['Chest plain film shows : Impression : - Increased infiltrations in both lungs. - Blunting bilateral CP angles. - Tortuous atherosclerotic dilated aorta. - Normal heart size. - DJD of spine. - S / P fixation in L - spine.']\n",
            "Labels     : ['Supine chest AP view shows : Pigtail catheter at right lower chest. Decreased amount of right pleural effusion. Air in the right lower pleural space. Poor lung expansion. Mild subcutaneous emphysema at right chest wall. Right pleural thickening. Ill - defined masses at right perihilar region. Normal heart size.']\n",
            "\n"
          ]
        },
        {
          "output_type": "stream",
          "name": "stderr",
          "text": [
            "\rEvaluting Epoch: 17:  70%|███████   | 7/10 [00:09<00:03,  1.31s/it]"
          ]
        },
        {
          "output_type": "stream",
          "name": "stdout",
          "text": [
            "Names      : ['NLP_CHEST_004']\n",
            "Predictions: ['Chest plain film shows : Impression : - Suspicious right upper lung patch. - Increased infiltrations in both lungs. - Blunting bilateral CP angles. - Tortuous atherosclerotic dilated aorta. - Normal heart size. - DJD of spine. - S / P Rt jugular CVC insertion.']\n",
            "Labels     : ['Chest PA view show : Impression : - S / P RLL wedge resection. - Bilateral lungs metastasis. - Left lower lung subsegmental atelectasis. - Increased infiltrations in both lungs. - Blunting right CP angle. - Tortuous atherosclerotic aorta. - Scoliosis, DJD and osteoporosis of spine. - Compression fracture of L1.']\n",
            "\n"
          ]
        },
        {
          "output_type": "stream",
          "name": "stderr",
          "text": [
            "\rEvaluting Epoch: 17:  80%|████████  | 8/10 [00:10<00:02,  1.29s/it]"
          ]
        },
        {
          "output_type": "stream",
          "name": "stdout",
          "text": [
            "Names      : ['NLP_CHEST_085']\n",
            "Predictions: ['Chest plain film shows : Impression : - Suspicious right upper lung patch. - Increased infiltrations in both lungs. - Blunting bilateral CP angles. - Tortuous atherosclerotic dilated aorta. - Normal heart size. - DJD of spine. - S / P Rt jugular CVC insertion.']\n",
            "Labels     : ['Chest X ray : - Right pneumothorax with pleural effusion, status post drainge tube placement. - Extensive subcutaneous emphysema from neck to right side thoracic cage. - Increased right hilar opacity. - Atherosclerosis and tortuous aorta. - Obscured bilateral costophrenic angles. - Spondylosis and mild scoliosis of thoracolumbar spine. - OA of right glenohumeral joint. - Generalized osteopenia.']\n",
            "\n"
          ]
        },
        {
          "output_type": "stream",
          "name": "stderr",
          "text": [
            "\rEvaluting Epoch: 17:  90%|█████████ | 9/10 [00:12<00:01,  1.27s/it]"
          ]
        },
        {
          "output_type": "stream",
          "name": "stdout",
          "text": [
            "Names      : ['NLP_CHEST_027']\n",
            "Predictions: ['Chest plain film shows : Impression : - Suspicious right upper lung patch. - Increased infiltrations in both lungs. - Blunting bilateral CP angles. - Tortuous atherosclerotic dilated aorta. - Scoliosis, DJD and osteoporosis of spine. - S / P fixation in L2. - S / P Rt jugular CVC insertion.']\n",
            "Labels     : ['Chest PA View : Impression : > Cardiomegaly with bilateral pulmonary congestion. > Postinflammatory fibrosis in both upper lungs. > Atherosclerosis of aorta. > Old fractures of left 5th and 6th ribs. > R / O osteoporosis. > Spondylosis of thoracolumbar spine. > S / P abdominal operation in RUQ.']\n",
            "\n"
          ]
        },
        {
          "output_type": "stream",
          "name": "stderr",
          "text": [
            "Evaluting Epoch: 17: 100%|██████████| 10/10 [00:13<00:00,  1.34s/it]\n"
          ]
        },
        {
          "output_type": "stream",
          "name": "stdout",
          "text": [
            "Names      : ['NLP_CHEST_071']\n",
            "Predictions: ['Chest plain film shows : Impression : - Suspicious right upper lung patch. - Increased infiltrations in both lungs. - Blunting bilateral CP angles. - Tortuous atherosclerotic dilated aorta. - DJD of spine. - S / P Rt jugular CVC insertion. S / P Rt jugular CVC insertion.']\n",
            "Labels     : ['Chest film shows : Impression : - Bilateral lung infiltrations. - Suspect right lower lung patch. Blunting right CP angle. - Tortuous atherosclerotic aorta. - Scoliosis, DJD and osteoporosis of spine. Compression fracture of T12. Old fracture of left ribs. - S / P fixation in L - spine. - S / P tracheostomy and NG tube.']\n",
            "\n",
            "Rouge-2 score on epoch 16: {'Rouge-L-P': 0.2810098036466832, 'Rouge-L-R': 0.2666212754570342, 'Rouge-L-F': 0.2666212754570342, 'Rouge-2-P': 0.16972082919968032, 'Rouge-2-R': 0.15751212325050679, 'Rouge-2-F': 0.15751212325050679}\n"
          ]
        },
        {
          "output_type": "stream",
          "name": "stderr",
          "text": [
            "Training Epoch [18 / 30]: 100%|██████████| 89/89 [00:20<00:00,  4.33it/s, loss=0.142]\n",
            "Evaluting Epoch: 18:  10%|█         | 1/10 [00:01<00:11,  1.27s/it]"
          ]
        },
        {
          "output_type": "stream",
          "name": "stdout",
          "text": [
            "Names      : ['NLP_CHEST_031']\n",
            "Predictions: ['Chest PA view shows : Impression : - Increased both lung markings. - Fibrotic lesion in left upper lung. - Fibrotic lesion in left upper lung. - Normal heart size. Atherosclerotic aorta. - S / P NG and endotracheal tube. - S / P NG and endotracheal tube. S / P NG and endotracheal tube. S /']\n",
            "Labels     : ['Chest PA view : Impression : - Increased both lung markings. - Compatible with right lung nodules. - Fibrotic lesion in left upper lung. - Normal heart size. Atherosclerotic aorta. - Suspect right pleural effusion. - Spondylosis. R / O osteoporosis. - Compatible with multiple bony metastases. - S / P NG and endotracheal tube. - S / P Lt subclavian Port - A - cath.']\n",
            "\n"
          ]
        },
        {
          "output_type": "stream",
          "name": "stderr",
          "text": [
            "\rEvaluting Epoch: 18:  20%|██        | 2/10 [00:02<00:10,  1.27s/it]"
          ]
        },
        {
          "output_type": "stream",
          "name": "stdout",
          "text": [
            "Names      : ['NLP_CHEST_011']\n",
            "Predictions: [\"Chest AP view showed : 1. Enlarged heart size with tortuous aorta. 2. Bilateral lung reticulonodular infiltrations. A R't upper lung mass. R't upper lung mass. R't middle and lower lung faint patches. R't lower lung mass. 3. No mediastinum widening.\"]\n",
            "Labels     : [\"Chest AP view showed : 1. s / p sternotomy and CABG. Enlarged heart size with tortuous aorta. 2. R't middle and lower lung faint patches. L't lower lung consolidation. L't pleural effusion. 3. No mediastinum widening. 4. s / p endotracheal tube and NG intubation.\"]\n",
            "\n"
          ]
        },
        {
          "output_type": "stream",
          "name": "stderr",
          "text": [
            "\rEvaluting Epoch: 18:  30%|███       | 3/10 [00:03<00:08,  1.27s/it]"
          ]
        },
        {
          "output_type": "stream",
          "name": "stdout",
          "text": [
            "Names      : ['NLP_CHEST_015']\n",
            "Predictions: ['Chest PA view shows : > No obvious lung mass nor consolidation patch. > Normal heart size. > No pleural effusion.']\n",
            "Labels     : ['Chest X ray : - No obvious lung mass nor consolidation patch. - Normal heart size. - No pleural effusion.']\n",
            "\n"
          ]
        },
        {
          "output_type": "stream",
          "name": "stderr",
          "text": [
            "\rEvaluting Epoch: 18:  40%|████      | 4/10 [00:05<00:07,  1.26s/it]"
          ]
        },
        {
          "output_type": "stream",
          "name": "stdout",
          "text": [
            "Names      : ['NLP_CHEST_002']\n",
            "Predictions: ['Chest PA view shows : Impression : > No obvious lung mass nor consolidation patch. > Normal heart size. > No pleural effusion. > No pleural effusion. > S / P right chest tube insertion. > S / P right chest tube insertion.']\n",
            "Labels     : ['Chest PA view shows : Partial atelectasis at left lower lung field. Left pleural effusion. Borderline heart size. Atherosclerotic change of aortic knob. S / P port - A implantation via left subclavian vein. Intraperitoneal port catheter. Surgical clips at RUQ of abdomen.']\n",
            "\n"
          ]
        },
        {
          "output_type": "stream",
          "name": "stderr",
          "text": [
            "\rEvaluting Epoch: 18:  50%|█████     | 5/10 [00:06<00:06,  1.25s/it]"
          ]
        },
        {
          "output_type": "stream",
          "name": "stdout",
          "text": [
            "Names      : ['NLP_CHEST_057']\n",
            "Predictions: ['Chest PA view shows : Impression : > Increased infiltrations in both lungs. > Bilateral apical pleural thickening. > Normal heart size. > S / P NG and endotracheal tube. > S / P NG and endotracheal tube. > S / P NG and endotracheal tube. S / P Rt jugular CVC insertion.']\n",
            "Labels     : ['Chest plain film shows : Impression : - Increased infiltrations in both lungs. - Tortuous atherosclerotic dilated aorta. - Normal heart size. - DJD of spine. Old fracture of right ribs. - Increased both lung markings. S / P Lt jugular CVC insertion. S / P NG and endotracheal tube. - Susp. Lt pneumothorax. Suspect pneumomediastinum. Subcutaneous emphysema in bilateral neck. - S / P bilateral chest tube insertion.']\n",
            "\n"
          ]
        },
        {
          "output_type": "stream",
          "name": "stderr",
          "text": [
            "\rEvaluting Epoch: 18:  60%|██████    | 6/10 [00:07<00:05,  1.26s/it]"
          ]
        },
        {
          "output_type": "stream",
          "name": "stdout",
          "text": [
            "Names      : ['NLP_CHEST_059']\n",
            "Predictions: ['Chest plain film shows : Impression : - Increased infiltrates in both lungs. - Blunting bilateral CP angles. - Atherosclerosis of aorta. - Atherosclerosis of aorta. - Scoliosis and DJD of spine. - S / P fixation in L - spine.']\n",
            "Labels     : ['Supine chest AP view shows : Pigtail catheter at right lower chest. Decreased amount of right pleural effusion. Air in the right lower pleural space. Poor lung expansion. Mild subcutaneous emphysema at right chest wall. Right pleural thickening. Ill - defined masses at right perihilar region. Normal heart size.']\n",
            "\n"
          ]
        },
        {
          "output_type": "stream",
          "name": "stderr",
          "text": [
            "\rEvaluting Epoch: 18:  70%|███████   | 7/10 [00:08<00:03,  1.26s/it]"
          ]
        },
        {
          "output_type": "stream",
          "name": "stdout",
          "text": [
            "Names      : ['NLP_CHEST_004']\n",
            "Predictions: ['Chest PA view shows : Impression : > Increased bilateral lung markings. > Bilateral lung markings. > Blunting bilateral CP angles. > Atherosclerotic aorta. > Spondylosis. > S / P NG and endotracheal tube. > S / P NG and endotracheal tube. > S / P Rt jugular CVC insertion. > S / P right chest']\n",
            "Labels     : ['Chest PA view show : Impression : - S / P RLL wedge resection. - Bilateral lungs metastasis. - Left lower lung subsegmental atelectasis. - Increased infiltrations in both lungs. - Blunting right CP angle. - Tortuous atherosclerotic aorta. - Scoliosis, DJD and osteoporosis of spine. - Compression fracture of L1.']\n",
            "\n"
          ]
        },
        {
          "output_type": "stream",
          "name": "stderr",
          "text": [
            "\rEvaluting Epoch: 18:  80%|████████  | 8/10 [00:10<00:02,  1.38s/it]"
          ]
        },
        {
          "output_type": "stream",
          "name": "stdout",
          "text": [
            "Names      : ['NLP_CHEST_085']\n",
            "Predictions: ['Chest plain film shows : Impression : - Increased infiltrations in both lungs. - Blunting bilateral CP angles. - Tortuous atherosclerotic dilated aorta. - Normal heart size. - DJD of spine. - S / P right pleural thickening.']\n",
            "Labels     : ['Chest X ray : - Right pneumothorax with pleural effusion, status post drainge tube placement. - Extensive subcutaneous emphysema from neck to right side thoracic cage. - Increased right hilar opacity. - Atherosclerosis and tortuous aorta. - Obscured bilateral costophrenic angles. - Spondylosis and mild scoliosis of thoracolumbar spine. - OA of right glenohumeral joint. - Generalized osteopenia.']\n",
            "\n"
          ]
        },
        {
          "output_type": "stream",
          "name": "stderr",
          "text": [
            "\rEvaluting Epoch: 18:  90%|█████████ | 9/10 [00:12<00:01,  1.50s/it]"
          ]
        },
        {
          "output_type": "stream",
          "name": "stdout",
          "text": [
            "Names      : ['NLP_CHEST_027']\n",
            "Predictions: ['Chest plain film shows : Impression : - Suspicious right upper lung patch. - Increased infiltrations in both lungs. - Blunting bilateral CP angles. - Atherosclerosis of aorta. - Scoliosis and DJD of spine. - S / P NG tube insertion. S / P right pleural thickening.']\n",
            "Labels     : ['Chest PA View : Impression : > Cardiomegaly with bilateral pulmonary congestion. > Postinflammatory fibrosis in both upper lungs. > Atherosclerosis of aorta. > Old fractures of left 5th and 6th ribs. > R / O osteoporosis. > Spondylosis of thoracolumbar spine. > S / P abdominal operation in RUQ.']\n",
            "\n"
          ]
        },
        {
          "output_type": "stream",
          "name": "stderr",
          "text": [
            "Evaluting Epoch: 18: 100%|██████████| 10/10 [00:13<00:00,  1.35s/it]\n"
          ]
        },
        {
          "output_type": "stream",
          "name": "stdout",
          "text": [
            "Names      : ['NLP_CHEST_071']\n",
            "Predictions: ['Chest plain film shows : Impression : - Suspicious right upper lung mass. - Increased both lung markings. - Blunting bilateral CP angles. - Tortuous atherosclerotic dilated aorta. - DJD of spine. - S / P right ribs. S / P right pleural thickening. S / P right pleural pigtail tube. S / P Rt jugular CVC insertion.']\n",
            "Labels     : ['Chest film shows : Impression : - Bilateral lung infiltrations. - Suspect right lower lung patch. Blunting right CP angle. - Tortuous atherosclerotic aorta. - Scoliosis, DJD and osteoporosis of spine. Compression fracture of T12. Old fracture of left ribs. - S / P fixation in L - spine. - S / P tracheostomy and NG tube.']\n",
            "\n",
            "Rouge-2 score on epoch 17: {'Rouge-L-P': 0.2890401323232841, 'Rouge-L-R': 0.2734398313996964, 'Rouge-L-F': 0.2734398313996964, 'Rouge-2-P': 0.17646424454120677, 'Rouge-2-R': 0.16350937204991453, 'Rouge-2-F': 0.16350937204991453}\n"
          ]
        },
        {
          "output_type": "stream",
          "name": "stderr",
          "text": [
            "Training Epoch [19 / 30]: 100%|██████████| 89/89 [00:20<00:00,  4.41it/s, loss=0.129]\n",
            "Evaluting Epoch: 19:  10%|█         | 1/10 [00:01<00:11,  1.28s/it]"
          ]
        },
        {
          "output_type": "stream",
          "name": "stdout",
          "text": [
            "Names      : ['NLP_CHEST_031']\n",
            "Predictions: ['Chest PA view : Impression : - Increased both lung markings. - Fibrotic lesion in both lower lung. - Fibrotic lesion in left upper lung. - Normal heart size. Atherosclerotic aorta. - Spondylosis. - S / P NG and endotracheal tube. - S / P NG and endotracheal tube. S / P Rt jugular C']\n",
            "Labels     : ['Chest PA view : Impression : - Increased both lung markings. - Compatible with right lung nodules. - Fibrotic lesion in left upper lung. - Normal heart size. Atherosclerotic aorta. - Suspect right pleural effusion. - Spondylosis. R / O osteoporosis. - Compatible with multiple bony metastases. - S / P NG and endotracheal tube. - S / P Lt subclavian Port - A - cath.']\n",
            "\n"
          ]
        },
        {
          "output_type": "stream",
          "name": "stderr",
          "text": [
            "\rEvaluting Epoch: 19:  20%|██        | 2/10 [00:02<00:10,  1.26s/it]"
          ]
        },
        {
          "output_type": "stream",
          "name": "stdout",
          "text": [
            "Names      : ['NLP_CHEST_011']\n",
            "Predictions: ['Chest PA view shows : Impression : - Increased both lung markings. - Suspect right upper lung patch. - Blunting bilateral CP angles. - Normal heart size. Atherosclerotic aorta. - DJD of spine. - S / P NG and endotracheal tube. S / P Rt jugular CVC insertion.']\n",
            "Labels     : [\"Chest AP view showed : 1. s / p sternotomy and CABG. Enlarged heart size with tortuous aorta. 2. R't middle and lower lung faint patches. L't lower lung consolidation. L't pleural effusion. 3. No mediastinum widening. 4. s / p endotracheal tube and NG intubation.\"]\n",
            "\n"
          ]
        },
        {
          "output_type": "stream",
          "name": "stderr",
          "text": [
            "\rEvaluting Epoch: 19:  30%|███       | 3/10 [00:03<00:08,  1.25s/it]"
          ]
        },
        {
          "output_type": "stream",
          "name": "stdout",
          "text": [
            "Names      : ['NLP_CHEST_015']\n",
            "Predictions: ['Chest PA view shows : > No obvious lung mass nor consolidation patch. > Normal heart size. > No pleural effusion.']\n",
            "Labels     : ['Chest X ray : - No obvious lung mass nor consolidation patch. - Normal heart size. - No pleural effusion.']\n",
            "\n"
          ]
        },
        {
          "output_type": "stream",
          "name": "stderr",
          "text": [
            "\rEvaluting Epoch: 19:  40%|████      | 4/10 [00:05<00:07,  1.25s/it]"
          ]
        },
        {
          "output_type": "stream",
          "name": "stdout",
          "text": [
            "Names      : ['NLP_CHEST_002']\n",
            "Predictions: ['Chest PA view shows : Impression : > Increased both lung markings. > Borderline cardiomegaly. > Atherosclerotic aorta. > Spondylosis. > S / P NG and endotracheal tube insertion. > S / P right chest tube insertion.']\n",
            "Labels     : ['Chest PA view shows : Partial atelectasis at left lower lung field. Left pleural effusion. Borderline heart size. Atherosclerotic change of aortic knob. S / P port - A implantation via left subclavian vein. Intraperitoneal port catheter. Surgical clips at RUQ of abdomen.']\n",
            "\n"
          ]
        },
        {
          "output_type": "stream",
          "name": "stderr",
          "text": [
            "\rEvaluting Epoch: 19:  50%|█████     | 5/10 [00:06<00:06,  1.33s/it]"
          ]
        },
        {
          "output_type": "stream",
          "name": "stdout",
          "text": [
            "Names      : ['NLP_CHEST_057']\n",
            "Predictions: ['Chest PA view shows : Impression : - Increased both lung markings. - Suspect right upper lung nodules. - Blunting bilateral CP angles. - Normal heart size. - DJD of spine. - S / P fixation in L - spine. - S / P Rt jugular CVC insertion.']\n",
            "Labels     : ['Chest plain film shows : Impression : - Increased infiltrations in both lungs. - Tortuous atherosclerotic dilated aorta. - Normal heart size. - DJD of spine. Old fracture of right ribs. - Increased both lung markings. S / P Lt jugular CVC insertion. S / P NG and endotracheal tube. - Susp. Lt pneumothorax. Suspect pneumomediastinum. Subcutaneous emphysema in bilateral neck. - S / P bilateral chest tube insertion.']\n",
            "\n"
          ]
        },
        {
          "output_type": "stream",
          "name": "stderr",
          "text": [
            "\rEvaluting Epoch: 19:  60%|██████    | 6/10 [00:08<00:05,  1.48s/it]"
          ]
        },
        {
          "output_type": "stream",
          "name": "stdout",
          "text": [
            "Names      : ['NLP_CHEST_059']\n",
            "Predictions: ['Chest PA view shows : Impression : - Increased both lung markings. - Blunting bilateral CP angles. - Blunting bilateral CP angles. - Normal heart size. Atherosclerotic aorta. - Spondylosis of spine. - Spondylosis of spine. - S / P fixation in L - spine.']\n",
            "Labels     : ['Supine chest AP view shows : Pigtail catheter at right lower chest. Decreased amount of right pleural effusion. Air in the right lower pleural space. Poor lung expansion. Mild subcutaneous emphysema at right chest wall. Right pleural thickening. Ill - defined masses at right perihilar region. Normal heart size.']\n",
            "\n"
          ]
        },
        {
          "output_type": "stream",
          "name": "stderr",
          "text": [
            "\rEvaluting Epoch: 19:  70%|███████   | 7/10 [00:09<00:04,  1.47s/it]"
          ]
        },
        {
          "output_type": "stream",
          "name": "stdout",
          "text": [
            "Names      : ['NLP_CHEST_004']\n",
            "Predictions: ['Chest PA view : Impression : - Increased both lung markings. - Suspect bilateral lung markings. - Blunting bilateral CP angles. - Normal heart size. Atherosclerotic aorta. - Spondylosis of spine. - S / P NG and endotracheal tube. S / P Rt jugular CVC insertion.']\n",
            "Labels     : ['Chest PA view show : Impression : - S / P RLL wedge resection. - Bilateral lungs metastasis. - Left lower lung subsegmental atelectasis. - Increased infiltrations in both lungs. - Blunting right CP angle. - Tortuous atherosclerotic aorta. - Scoliosis, DJD and osteoporosis of spine. - Compression fracture of L1.']\n",
            "\n"
          ]
        },
        {
          "output_type": "stream",
          "name": "stderr",
          "text": [
            "\rEvaluting Epoch: 19:  80%|████████  | 8/10 [00:10<00:02,  1.40s/it]"
          ]
        },
        {
          "output_type": "stream",
          "name": "stdout",
          "text": [
            "Names      : ['NLP_CHEST_085']\n",
            "Predictions: ['Chest PA view shows : Impression : > Increased both lung markings. > Suspect left lower lung patch. > Atherosclerotic aorta. > Spondylosis. > S / P NG and endotracheal tube. > S / P NG and endotracheal tube. S / P Rt jugular CVC insertion.']\n",
            "Labels     : ['Chest X ray : - Right pneumothorax with pleural effusion, status post drainge tube placement. - Extensive subcutaneous emphysema from neck to right side thoracic cage. - Increased right hilar opacity. - Atherosclerosis and tortuous aorta. - Obscured bilateral costophrenic angles. - Spondylosis and mild scoliosis of thoracolumbar spine. - OA of right glenohumeral joint. - Generalized osteopenia.']\n",
            "\n"
          ]
        },
        {
          "output_type": "stream",
          "name": "stderr",
          "text": [
            "\rEvaluting Epoch: 19:  90%|█████████ | 9/10 [00:12<00:01,  1.37s/it]"
          ]
        },
        {
          "output_type": "stream",
          "name": "stdout",
          "text": [
            "Names      : ['NLP_CHEST_027']\n",
            "Predictions: ['Chest plain film shows : Impression : - Increased both lung markings. - Blunting bilateral CP angles. - Cardiomegaly. - Atherosclerotic dilated aorta. - Scoliosis and DJD of spine. - S / P fixation in L2. - S / P fixation in L2.']\n",
            "Labels     : ['Chest PA View : Impression : > Cardiomegaly with bilateral pulmonary congestion. > Postinflammatory fibrosis in both upper lungs. > Atherosclerosis of aorta. > Old fractures of left 5th and 6th ribs. > R / O osteoporosis. > Spondylosis of thoracolumbar spine. > S / P abdominal operation in RUQ.']\n",
            "\n"
          ]
        },
        {
          "output_type": "stream",
          "name": "stderr",
          "text": [
            "Evaluting Epoch: 19: 100%|██████████| 10/10 [00:13<00:00,  1.35s/it]\n"
          ]
        },
        {
          "output_type": "stream",
          "name": "stdout",
          "text": [
            "Names      : ['NLP_CHEST_071']\n",
            "Predictions: ['Chest plain film shows : Impression : - Increased both lung markings. - Blunting bilateral CP angles. - Tortuous atherosclerotic dilated aorta. - Normal heart size. - DJD of spine. - S / P fixation in C - spine. - S / P Rt jugular CVC insertion.']\n",
            "Labels     : ['Chest film shows : Impression : - Bilateral lung infiltrations. - Suspect right lower lung patch. Blunting right CP angle. - Tortuous atherosclerotic aorta. - Scoliosis, DJD and osteoporosis of spine. Compression fracture of T12. Old fracture of left ribs. - S / P fixation in L - spine. - S / P tracheostomy and NG tube.']\n",
            "\n",
            "Rouge-2 score on epoch 18: {'Rouge-L-P': 0.29524162578661384, 'Rouge-L-R': 0.2777139157130524, 'Rouge-L-F': 0.2777139157130524, 'Rouge-2-P': 0.18133190531805513, 'Rouge-2-R': 0.16706572193477146, 'Rouge-2-F': 0.16706572193477146}\n"
          ]
        },
        {
          "output_type": "stream",
          "name": "stderr",
          "text": [
            "Training Epoch [20 / 30]: 100%|██████████| 89/89 [00:20<00:00,  4.31it/s, loss=0.12]\n",
            "Evaluting Epoch: 20:  10%|█         | 1/10 [00:01<00:11,  1.33s/it]"
          ]
        },
        {
          "output_type": "stream",
          "name": "stdout",
          "text": [
            "Names      : ['NLP_CHEST_031']\n",
            "Predictions: [\"Chest AP view showed : 1. Enlarged heart size with tortuous aorta. 2. A L't basal lung small density. 3. No mediastinum widening. 4. s / p endotracheal tube and NG intubation. s / p R't jugular CVP.\"]\n",
            "Labels     : ['Chest PA view : Impression : - Increased both lung markings. - Compatible with right lung nodules. - Fibrotic lesion in left upper lung. - Normal heart size. Atherosclerotic aorta. - Suspect right pleural effusion. - Spondylosis. R / O osteoporosis. - Compatible with multiple bony metastases. - S / P NG and endotracheal tube. - S / P Lt subclavian Port - A - cath.']\n",
            "\n"
          ]
        },
        {
          "output_type": "stream",
          "name": "stderr",
          "text": [
            "\rEvaluting Epoch: 20:  20%|██        | 2/10 [00:02<00:10,  1.29s/it]"
          ]
        },
        {
          "output_type": "stream",
          "name": "stdout",
          "text": [
            "Names      : ['NLP_CHEST_011']\n",
            "Predictions: [\"Chest AP view showed : 1. Enlarged heart size with tortuous aorta. 2. A L't basal lung small density. 3. No mediastinum widening. 4. s / p endotracheal tube and NG intubation. s / p R't jugular CVP.\"]\n",
            "Labels     : [\"Chest AP view showed : 1. s / p sternotomy and CABG. Enlarged heart size with tortuous aorta. 2. R't middle and lower lung faint patches. L't lower lung consolidation. L't pleural effusion. 3. No mediastinum widening. 4. s / p endotracheal tube and NG intubation.\"]\n",
            "\n"
          ]
        },
        {
          "output_type": "stream",
          "name": "stderr",
          "text": [
            "\rEvaluting Epoch: 20:  30%|███       | 3/10 [00:03<00:09,  1.29s/it]"
          ]
        },
        {
          "output_type": "stream",
          "name": "stdout",
          "text": [
            "Names      : ['NLP_CHEST_015']\n",
            "Predictions: ['Chest plain film shows : Impression : - Increased both lung markings. - Blunting bilateral CP angles. - Blunting bilateral CP angles. - Atherosclerotic dilated aorta. - Scoliosis and DJD of spine. - S / P right chest tube insertion.']\n",
            "Labels     : ['Chest X ray : - No obvious lung mass nor consolidation patch. - Normal heart size. - No pleural effusion.']\n",
            "\n"
          ]
        },
        {
          "output_type": "stream",
          "name": "stderr",
          "text": [
            "\rEvaluting Epoch: 20:  40%|████      | 4/10 [00:05<00:07,  1.28s/it]"
          ]
        },
        {
          "output_type": "stream",
          "name": "stdout",
          "text": [
            "Names      : ['NLP_CHEST_002']\n",
            "Predictions: ['Chest plain film shows : Impression : - Increased both lung markings. - Blunting bilateral CP angles. - Blunting bilateral CP angles. - Atherosclerotic dilated aorta. - Scoliosis and DJD of spine. - S / P right chest tube insertion.']\n",
            "Labels     : ['Chest PA view shows : Partial atelectasis at left lower lung field. Left pleural effusion. Borderline heart size. Atherosclerotic change of aortic knob. S / P port - A implantation via left subclavian vein. Intraperitoneal port catheter. Surgical clips at RUQ of abdomen.']\n",
            "\n"
          ]
        },
        {
          "output_type": "stream",
          "name": "stderr",
          "text": [
            "\rEvaluting Epoch: 20:  50%|█████     | 5/10 [00:06<00:06,  1.28s/it]"
          ]
        },
        {
          "output_type": "stream",
          "name": "stdout",
          "text": [
            "Names      : ['NLP_CHEST_057']\n",
            "Predictions: ['Chest plain film shows : Impression : - Increased infiltrations in both lungs. - Blunting bilateral CP angles. - Tortuous atherosclerotic dilated aorta. - Normal heart size. - DJD of spine. S / P fixation in L - spine. S / P Rt jugular CVC insertion.']\n",
            "Labels     : ['Chest plain film shows : Impression : - Increased infiltrations in both lungs. - Tortuous atherosclerotic dilated aorta. - Normal heart size. - DJD of spine. Old fracture of right ribs. - Increased both lung markings. S / P Lt jugular CVC insertion. S / P NG and endotracheal tube. - Susp. Lt pneumothorax. Suspect pneumomediastinum. Subcutaneous emphysema in bilateral neck. - S / P bilateral chest tube insertion.']\n",
            "\n"
          ]
        },
        {
          "output_type": "stream",
          "name": "stderr",
          "text": [
            "\rEvaluting Epoch: 20:  60%|██████    | 6/10 [00:07<00:05,  1.28s/it]"
          ]
        },
        {
          "output_type": "stream",
          "name": "stdout",
          "text": [
            "Names      : ['NLP_CHEST_059']\n",
            "Predictions: ['Chest plain film shows : Impression : - Increased infiltrations in both lungs. - Blunting bilateral CP angles. - Tortuous atherosclerotic dilated aorta. - Cardiomegaly. - Scoliosis, DJD and osteoporosis of spine. - S / P fixation in L - spine.']\n",
            "Labels     : ['Supine chest AP view shows : Pigtail catheter at right lower chest. Decreased amount of right pleural effusion. Air in the right lower pleural space. Poor lung expansion. Mild subcutaneous emphysema at right chest wall. Right pleural thickening. Ill - defined masses at right perihilar region. Normal heart size.']\n",
            "\n"
          ]
        },
        {
          "output_type": "stream",
          "name": "stderr",
          "text": [
            "\rEvaluting Epoch: 20:  70%|███████   | 7/10 [00:09<00:04,  1.44s/it]"
          ]
        },
        {
          "output_type": "stream",
          "name": "stdout",
          "text": [
            "Names      : ['NLP_CHEST_004']\n",
            "Predictions: ['Chest plain film shows : Impression : - Increased infiltrates in both lungs. - Blunting bilateral CP angles. - Blunting bilateral CP angles. - Atherosclerotic dilated aorta. - Scoliosis and DJD of spine. - S / P NG and endotracheal tube. S / P Rt jugular CVC insertion.']\n",
            "Labels     : ['Chest PA view show : Impression : - S / P RLL wedge resection. - Bilateral lungs metastasis. - Left lower lung subsegmental atelectasis. - Increased infiltrations in both lungs. - Blunting right CP angle. - Tortuous atherosclerotic aorta. - Scoliosis, DJD and osteoporosis of spine. - Compression fracture of L1.']\n",
            "\n"
          ]
        },
        {
          "output_type": "stream",
          "name": "stderr",
          "text": [
            "\rEvaluting Epoch: 20:  80%|████████  | 8/10 [00:11<00:02,  1.48s/it]"
          ]
        },
        {
          "output_type": "stream",
          "name": "stdout",
          "text": [
            "Names      : ['NLP_CHEST_085']\n",
            "Predictions: ['Chest plain film shows : Impression : - Increased infiltrations in both lungs. - Blunting bilateral CP angles. - Tortuous atherosclerotic dilated aorta. - Cardiomegaly. - Scoliosis, DJD and osteoporosis of spine. - S / P fixation in left upper abdomen. S / P right chest tube insertion.']\n",
            "Labels     : ['Chest X ray : - Right pneumothorax with pleural effusion, status post drainge tube placement. - Extensive subcutaneous emphysema from neck to right side thoracic cage. - Increased right hilar opacity. - Atherosclerosis and tortuous aorta. - Obscured bilateral costophrenic angles. - Spondylosis and mild scoliosis of thoracolumbar spine. - OA of right glenohumeral joint. - Generalized osteopenia.']\n",
            "\n"
          ]
        },
        {
          "output_type": "stream",
          "name": "stderr",
          "text": [
            "\rEvaluting Epoch: 20:  90%|█████████ | 9/10 [00:12<00:01,  1.41s/it]"
          ]
        },
        {
          "output_type": "stream",
          "name": "stdout",
          "text": [
            "Names      : ['NLP_CHEST_027']\n",
            "Predictions: ['Chest plain film shows : Impression : - Bilateral lung markings. - Blunting left CP angle. - Atherosclerotic dilated aorta. - Bilateral apical pleural thickening. - S / P coronary stenting. - S / P right pleural thickening. - S / P right pleural pigtail tube.']\n",
            "Labels     : ['Chest PA View : Impression : > Cardiomegaly with bilateral pulmonary congestion. > Postinflammatory fibrosis in both upper lungs. > Atherosclerosis of aorta. > Old fractures of left 5th and 6th ribs. > R / O osteoporosis. > Spondylosis of thoracolumbar spine. > S / P abdominal operation in RUQ.']\n",
            "\n"
          ]
        },
        {
          "output_type": "stream",
          "name": "stderr",
          "text": [
            "Evaluting Epoch: 20: 100%|██████████| 10/10 [00:13<00:00,  1.36s/it]\n"
          ]
        },
        {
          "output_type": "stream",
          "name": "stdout",
          "text": [
            "Names      : ['NLP_CHEST_071']\n",
            "Predictions: ['Chest plain film shows : Impression : - Suspicious pulmonary edema. - Increased both lung markings. - Blunting bilateral CP angles. - Tortuous atherosclerotic dilated aorta. - S / P right chest wall. - S / P right chest tube insertion. S / P Rt jugular CVC insertion.']\n",
            "Labels     : ['Chest film shows : Impression : - Bilateral lung infiltrations. - Suspect right lower lung patch. Blunting right CP angle. - Tortuous atherosclerotic aorta. - Scoliosis, DJD and osteoporosis of spine. Compression fracture of T12. Old fracture of left ribs. - S / P fixation in L - spine. - S / P tracheostomy and NG tube.']\n",
            "\n",
            "Rouge-2 score on epoch 19: {'Rouge-L-P': 0.29821291806242617, 'Rouge-L-R': 0.2789716850007883, 'Rouge-L-F': 0.2789716850007883, 'Rouge-2-P': 0.18368103613011255, 'Rouge-2-R': 0.16799085255559715, 'Rouge-2-F': 0.16799085255559715}\n"
          ]
        },
        {
          "output_type": "stream",
          "name": "stderr",
          "text": [
            "Training Epoch [21 / 30]: 100%|██████████| 89/89 [00:20<00:00,  4.40it/s, loss=0.105]\n",
            "Evaluting Epoch: 21:  10%|█         | 1/10 [00:01<00:12,  1.35s/it]"
          ]
        },
        {
          "output_type": "stream",
          "name": "stdout",
          "text": [
            "Names      : ['NLP_CHEST_031']\n",
            "Predictions: ['Chest PA view : Impression : - Increased both lung markings. - Compatible with right lung nodules. - Fibrotic lesion in left upper lung. - Normal heart size. Atherosclerotic aorta. - Suspect right pleural effusion. - Spondylosis. R / O osteoporosis. - Compatible with multiple bony metastases. - S / P Lt']\n",
            "Labels     : ['Chest PA view : Impression : - Increased both lung markings. - Compatible with right lung nodules. - Fibrotic lesion in left upper lung. - Normal heart size. Atherosclerotic aorta. - Suspect right pleural effusion. - Spondylosis. R / O osteoporosis. - Compatible with multiple bony metastases. - S / P NG and endotracheal tube. - S / P Lt subclavian Port - A - cath.']\n",
            "\n"
          ]
        },
        {
          "output_type": "stream",
          "name": "stderr",
          "text": [
            "\rEvaluting Epoch: 21:  20%|██        | 2/10 [00:03<00:12,  1.61s/it]"
          ]
        },
        {
          "output_type": "stream",
          "name": "stdout",
          "text": [
            "Names      : ['NLP_CHEST_011']\n",
            "Predictions: [\"Chest AP view showed : 1. Enlarged heart size with tortuous aorta. 2. Bilateral lung reticulonodular infiltrations. A R't upper and middle lung faint patches. A L't upper pleural thickening. L't pleural thickening. 3. No mediastinum widening. 4. s / p endotracheal tube and NG intubation. s /\"]\n",
            "Labels     : [\"Chest AP view showed : 1. s / p sternotomy and CABG. Enlarged heart size with tortuous aorta. 2. R't middle and lower lung faint patches. L't lower lung consolidation. L't pleural effusion. 3. No mediastinum widening. 4. s / p endotracheal tube and NG intubation.\"]\n",
            "\n"
          ]
        },
        {
          "output_type": "stream",
          "name": "stderr",
          "text": [
            "\rEvaluting Epoch: 21:  30%|███       | 3/10 [00:04<00:11,  1.59s/it]"
          ]
        },
        {
          "output_type": "stream",
          "name": "stdout",
          "text": [
            "Names      : ['NLP_CHEST_015']\n",
            "Predictions: ['Chest PA view shows : Impression : - Increased both lung markings. - Blunting bilateral CP angles. - Normal heart size. - Atherosclerotic aorta. - Scoliosis and DJD of spine. - Spondylosis of spine.']\n",
            "Labels     : ['Chest X ray : - No obvious lung mass nor consolidation patch. - Normal heart size. - No pleural effusion.']\n",
            "\n"
          ]
        },
        {
          "output_type": "stream",
          "name": "stderr",
          "text": [
            "\rEvaluting Epoch: 21:  40%|████      | 4/10 [00:05<00:08,  1.45s/it]"
          ]
        },
        {
          "output_type": "stream",
          "name": "stdout",
          "text": [
            "Names      : ['NLP_CHEST_002']\n",
            "Predictions: ['Chest PA view shows : Impression : - Increased both lung markings. - Blunting bilateral CP angles. - Blunting bilateral CP angles. - Normal heart size. Atherosclerotic aorta. - Scoliosis and DJD of spine. - Spondylosis of spine.']\n",
            "Labels     : ['Chest PA view shows : Partial atelectasis at left lower lung field. Left pleural effusion. Borderline heart size. Atherosclerotic change of aortic knob. S / P port - A implantation via left subclavian vein. Intraperitoneal port catheter. Surgical clips at RUQ of abdomen.']\n",
            "\n"
          ]
        },
        {
          "output_type": "stream",
          "name": "stderr",
          "text": [
            "\rEvaluting Epoch: 21:  50%|█████     | 5/10 [00:07<00:06,  1.39s/it]"
          ]
        },
        {
          "output_type": "stream",
          "name": "stdout",
          "text": [
            "Names      : ['NLP_CHEST_057']\n",
            "Predictions: ['Chest PA view showed : Impression : - Increased both lung markings. - Blunting bilateral CP angles. - Blunting bilateral CP angles. - Atherosclerotic aorta. - Spondylosis of spine. - Spondylosis of spine. S / P NG and endotracheal tube. S / P Rt jugular CVC insertion.']\n",
            "Labels     : ['Chest plain film shows : Impression : - Increased infiltrations in both lungs. - Tortuous atherosclerotic dilated aorta. - Normal heart size. - DJD of spine. Old fracture of right ribs. - Increased both lung markings. S / P Lt jugular CVC insertion. S / P NG and endotracheal tube. - Susp. Lt pneumothorax. Suspect pneumomediastinum. Subcutaneous emphysema in bilateral neck. - S / P bilateral chest tube insertion.']\n",
            "\n"
          ]
        },
        {
          "output_type": "stream",
          "name": "stderr",
          "text": [
            "\rEvaluting Epoch: 21:  60%|██████    | 6/10 [00:08<00:05,  1.33s/it]"
          ]
        },
        {
          "output_type": "stream",
          "name": "stdout",
          "text": [
            "Names      : ['NLP_CHEST_059']\n",
            "Predictions: ['Chest PA view shows : Impression : - Increased infiltrations in both lungs. - Blunting bilateral CP angles. - Atherosclerosis of aorta. - Blunting bilateral CP angles. - Atherosclerosis of aorta. - Spondylosis of spine. - S / P fixation in L - spine.']\n",
            "Labels     : ['Supine chest AP view shows : Pigtail catheter at right lower chest. Decreased amount of right pleural effusion. Air in the right lower pleural space. Poor lung expansion. Mild subcutaneous emphysema at right chest wall. Right pleural thickening. Ill - defined masses at right perihilar region. Normal heart size.']\n",
            "\n"
          ]
        },
        {
          "output_type": "stream",
          "name": "stderr",
          "text": [
            "\rEvaluting Epoch: 21:  70%|███████   | 7/10 [00:09<00:03,  1.31s/it]"
          ]
        },
        {
          "output_type": "stream",
          "name": "stdout",
          "text": [
            "Names      : ['NLP_CHEST_004']\n",
            "Predictions: ['Chest PA view showed : Impression : - Increased both lung markings. - Blunting bilateral CP angles. - Blunting bilateral CP angles. - Atherosclerotic aorta. - Spondylosis of spine. - Spondylosis of spine. - Spondylosis of spine. S / P Rt jugular CVC insertion.']\n",
            "Labels     : ['Chest PA view show : Impression : - S / P RLL wedge resection. - Bilateral lungs metastasis. - Left lower lung subsegmental atelectasis. - Increased infiltrations in both lungs. - Blunting right CP angle. - Tortuous atherosclerotic aorta. - Scoliosis, DJD and osteoporosis of spine. - Compression fracture of L1.']\n",
            "\n"
          ]
        },
        {
          "output_type": "stream",
          "name": "stderr",
          "text": [
            "\rEvaluting Epoch: 21:  80%|████████  | 8/10 [00:10<00:02,  1.29s/it]"
          ]
        },
        {
          "output_type": "stream",
          "name": "stdout",
          "text": [
            "Names      : ['NLP_CHEST_085']\n",
            "Predictions: ['Chest PA view showed : Impression : - Increased both lung markings. - Blunting bilateral CP angles. - Blunting bilateral CP angles. - Atherosclerotic aorta. - Scoliosis and DJD of spine. - Spondylosis of spine. - S / P Rt jugular CVC insertion.']\n",
            "Labels     : ['Chest X ray : - Right pneumothorax with pleural effusion, status post drainge tube placement. - Extensive subcutaneous emphysema from neck to right side thoracic cage. - Increased right hilar opacity. - Atherosclerosis and tortuous aorta. - Obscured bilateral costophrenic angles. - Spondylosis and mild scoliosis of thoracolumbar spine. - OA of right glenohumeral joint. - Generalized osteopenia.']\n",
            "\n"
          ]
        },
        {
          "output_type": "stream",
          "name": "stderr",
          "text": [
            "\rEvaluting Epoch: 21:  90%|█████████ | 9/10 [00:12<00:01,  1.29s/it]"
          ]
        },
        {
          "output_type": "stream",
          "name": "stdout",
          "text": [
            "Names      : ['NLP_CHEST_027']\n",
            "Predictions: ['Chest plain film shows : Impression : - Increased both lung markings. - Blunting bilateral CP angles. - Bilateral lung patches. - Atherosclerotic aorta. - Scoliosis and DJD of spine. - S / P fixation in T - L spine. - S / P Rt jugular CVC insertion.']\n",
            "Labels     : ['Chest PA View : Impression : > Cardiomegaly with bilateral pulmonary congestion. > Postinflammatory fibrosis in both upper lungs. > Atherosclerosis of aorta. > Old fractures of left 5th and 6th ribs. > R / O osteoporosis. > Spondylosis of thoracolumbar spine. > S / P abdominal operation in RUQ.']\n",
            "\n"
          ]
        },
        {
          "output_type": "stream",
          "name": "stderr",
          "text": [
            "Evaluting Epoch: 21: 100%|██████████| 10/10 [00:13<00:00,  1.35s/it]\n"
          ]
        },
        {
          "output_type": "stream",
          "name": "stdout",
          "text": [
            "Names      : ['NLP_CHEST_071']\n",
            "Predictions: ['Chest PA view shows : Impression : - Increased both lung markings. - Blunting bilateral CP angles. - Blunting bilateral CP angles. - Tortuous atherosclerotic dilated aorta. - Spondylosis of spine. - S / P NG and endotracheal tube. S / P Rt jugular CVC insertion.']\n",
            "Labels     : ['Chest film shows : Impression : - Bilateral lung infiltrations. - Suspect right lower lung patch. Blunting right CP angle. - Tortuous atherosclerotic aorta. - Scoliosis, DJD and osteoporosis of spine. Compression fracture of T12. Old fracture of left ribs. - S / P fixation in L - spine. - S / P tracheostomy and NG tube.']\n",
            "\n",
            "Rouge-2 score on epoch 20: {'Rouge-L-P': 0.3054840099570491, 'Rouge-L-R': 0.2849186352269107, 'Rouge-L-F': 0.2849186352269107, 'Rouge-2-P': 0.19000977207315656, 'Rouge-2-R': 0.17327035797932058, 'Rouge-2-F': 0.17327035797932058}\n"
          ]
        },
        {
          "output_type": "stream",
          "name": "stderr",
          "text": [
            "Training Epoch [22 / 30]: 100%|██████████| 89/89 [00:20<00:00,  4.35it/s, loss=0.093]\n",
            "Evaluting Epoch: 22:  10%|█         | 1/10 [00:01<00:11,  1.27s/it]"
          ]
        },
        {
          "output_type": "stream",
          "name": "stdout",
          "text": [
            "Names      : ['NLP_CHEST_031']\n",
            "Predictions: [\"Chest AP view showed : 1. Normal heart size with tortuous aorta. 2. R't middle lung and L't lower lung reticulonodular infiltrations. Mild L't pleural effusion. 3. No mediastinum widening. 4. s / p endotracheal tube and NG intubation. s / p R't jugular CVP.\"]\n",
            "Labels     : ['Chest PA view : Impression : - Increased both lung markings. - Compatible with right lung nodules. - Fibrotic lesion in left upper lung. - Normal heart size. Atherosclerotic aorta. - Suspect right pleural effusion. - Spondylosis. R / O osteoporosis. - Compatible with multiple bony metastases. - S / P NG and endotracheal tube. - S / P Lt subclavian Port - A - cath.']\n",
            "\n"
          ]
        },
        {
          "output_type": "stream",
          "name": "stderr",
          "text": [
            "\rEvaluting Epoch: 22:  20%|██        | 2/10 [00:02<00:10,  1.26s/it]"
          ]
        },
        {
          "output_type": "stream",
          "name": "stdout",
          "text": [
            "Names      : ['NLP_CHEST_011']\n",
            "Predictions: [\"Chest AP view showed : 1. Normal heart size with tortuous aorta. 2. R't middle lung and L't lower lung reticulonodular infiltrations. Mild L't pleural effusion. 3. No mediastinum widening. 4. s / p endotracheal tube and NG intubation. s / p R't jugular CVP.\"]\n",
            "Labels     : [\"Chest AP view showed : 1. s / p sternotomy and CABG. Enlarged heart size with tortuous aorta. 2. R't middle and lower lung faint patches. L't lower lung consolidation. L't pleural effusion. 3. No mediastinum widening. 4. s / p endotracheal tube and NG intubation.\"]\n",
            "\n"
          ]
        },
        {
          "output_type": "stream",
          "name": "stderr",
          "text": [
            "\rEvaluting Epoch: 22:  30%|███       | 3/10 [00:03<00:08,  1.25s/it]"
          ]
        },
        {
          "output_type": "stream",
          "name": "stdout",
          "text": [
            "Names      : ['NLP_CHEST_015']\n",
            "Predictions: ['Chest PA view shows : Impression : - Increased both lung markings. - Blunting bilateral CP angles. - Normal heart size. - Atherosclerotic aorta. - Scoliosis and DJD of spine.']\n",
            "Labels     : ['Chest X ray : - No obvious lung mass nor consolidation patch. - Normal heart size. - No pleural effusion.']\n",
            "\n"
          ]
        },
        {
          "output_type": "stream",
          "name": "stderr",
          "text": [
            "\rEvaluting Epoch: 22:  40%|████      | 4/10 [00:05<00:08,  1.37s/it]"
          ]
        },
        {
          "output_type": "stream",
          "name": "stdout",
          "text": [
            "Names      : ['NLP_CHEST_002']\n",
            "Predictions: ['Chest plain film view showed : Impression : - Sutures in right upper chest. Susp. Rt pneumothorax. - Normal heart size. - DJD of spine. - S / P repair for left chest wall.']\n",
            "Labels     : ['Chest PA view shows : Partial atelectasis at left lower lung field. Left pleural effusion. Borderline heart size. Atherosclerotic change of aortic knob. S / P port - A implantation via left subclavian vein. Intraperitoneal port catheter. Surgical clips at RUQ of abdomen.']\n",
            "\n"
          ]
        },
        {
          "output_type": "stream",
          "name": "stderr",
          "text": [
            "\rEvaluting Epoch: 22:  50%|█████     | 5/10 [00:07<00:07,  1.50s/it]"
          ]
        },
        {
          "output_type": "stream",
          "name": "stdout",
          "text": [
            "Names      : ['NLP_CHEST_057']\n",
            "Predictions: ['Chest plain film shows : Impression : - Increased both lung markings. - Suspect right upper lung nodules. - Blunting bilateral CP angles. - Normal heart size. - DJD of spine. - S / P fixation in L - spine.']\n",
            "Labels     : ['Chest plain film shows : Impression : - Increased infiltrations in both lungs. - Tortuous atherosclerotic dilated aorta. - Normal heart size. - DJD of spine. Old fracture of right ribs. - Increased both lung markings. S / P Lt jugular CVC insertion. S / P NG and endotracheal tube. - Susp. Lt pneumothorax. Suspect pneumomediastinum. Subcutaneous emphysema in bilateral neck. - S / P bilateral chest tube insertion.']\n",
            "\n"
          ]
        },
        {
          "output_type": "stream",
          "name": "stderr",
          "text": [
            "\rEvaluting Epoch: 22:  60%|██████    | 6/10 [00:08<00:05,  1.41s/it]"
          ]
        },
        {
          "output_type": "stream",
          "name": "stdout",
          "text": [
            "Names      : ['NLP_CHEST_059']\n",
            "Predictions: ['Chest plain film shows : Impression : - Increased both lung markings. - Suspect right upper lung patch. - Blunting bilateral CP angles. - Normal heart size. - Atherosclerotic aorta. - DJD of spine.']\n",
            "Labels     : ['Supine chest AP view shows : Pigtail catheter at right lower chest. Decreased amount of right pleural effusion. Air in the right lower pleural space. Poor lung expansion. Mild subcutaneous emphysema at right chest wall. Right pleural thickening. Ill - defined masses at right perihilar region. Normal heart size.']\n",
            "\n"
          ]
        },
        {
          "output_type": "stream",
          "name": "stderr",
          "text": [
            "\rEvaluting Epoch: 22:  70%|███████   | 7/10 [00:09<00:04,  1.36s/it]"
          ]
        },
        {
          "output_type": "stream",
          "name": "stdout",
          "text": [
            "Names      : ['NLP_CHEST_004']\n",
            "Predictions: ['Chest plain film shows : Impression : - Suspicious right upper lung patch. - Increased both lung markings. - Blunting bilateral CP angles. - Tortuous atherosclerotic dilated aorta. - Normal heart size. - DJD of spine. S / P NG and endotracheal tube. S / P Rt jugular CVC insertion.']\n",
            "Labels     : ['Chest PA view show : Impression : - S / P RLL wedge resection. - Bilateral lungs metastasis. - Left lower lung subsegmental atelectasis. - Increased infiltrations in both lungs. - Blunting right CP angle. - Tortuous atherosclerotic aorta. - Scoliosis, DJD and osteoporosis of spine. - Compression fracture of L1.']\n",
            "\n"
          ]
        },
        {
          "output_type": "stream",
          "name": "stderr",
          "text": [
            "\rEvaluting Epoch: 22:  80%|████████  | 8/10 [00:10<00:02,  1.32s/it]"
          ]
        },
        {
          "output_type": "stream",
          "name": "stdout",
          "text": [
            "Names      : ['NLP_CHEST_085']\n",
            "Predictions: ['Chest plain film view showed : Impression : - Suspicious right upper lung nodule. - Increased both lung markings. - Blunting bilateral CP angles. - Tortuous atherosclerotic dilated aorta. - Normal heart size. - DJD of spine.']\n",
            "Labels     : ['Chest X ray : - Right pneumothorax with pleural effusion, status post drainge tube placement. - Extensive subcutaneous emphysema from neck to right side thoracic cage. - Increased right hilar opacity. - Atherosclerosis and tortuous aorta. - Obscured bilateral costophrenic angles. - Spondylosis and mild scoliosis of thoracolumbar spine. - OA of right glenohumeral joint. - Generalized osteopenia.']\n",
            "\n"
          ]
        },
        {
          "output_type": "stream",
          "name": "stderr",
          "text": [
            "\rEvaluting Epoch: 22:  90%|█████████ | 9/10 [00:11<00:01,  1.29s/it]"
          ]
        },
        {
          "output_type": "stream",
          "name": "stdout",
          "text": [
            "Names      : ['NLP_CHEST_027']\n",
            "Predictions: ['Chest plain film shows : Impression : - Suspicious right upper lung patch. - Increased infiltrations in both lungs. - Blunting bilateral CP angles. - Tortuous atherosclerotic dilated aorta. - Scoliosis, DJD and osteoporosis of spine. - S / P fixation in L spine.']\n",
            "Labels     : ['Chest PA View : Impression : > Cardiomegaly with bilateral pulmonary congestion. > Postinflammatory fibrosis in both upper lungs. > Atherosclerosis of aorta. > Old fractures of left 5th and 6th ribs. > R / O osteoporosis. > Spondylosis of thoracolumbar spine. > S / P abdominal operation in RUQ.']\n",
            "\n"
          ]
        },
        {
          "output_type": "stream",
          "name": "stderr",
          "text": [
            "Evaluting Epoch: 22: 100%|██████████| 10/10 [00:13<00:00,  1.32s/it]\n"
          ]
        },
        {
          "output_type": "stream",
          "name": "stdout",
          "text": [
            "Names      : ['NLP_CHEST_071']\n",
            "Predictions: ['Chest plain film shows : Impression : - Suspicious right upper lung patch. - Increased infiltrations in both lungs. - Blunting bilateral CP angles. - Tortuous atherosclerotic dilated aorta. - DJD of spine. - S / P endotracheal tube. S / P Rt subclavian CVC insertion.']\n",
            "Labels     : ['Chest film shows : Impression : - Bilateral lung infiltrations. - Suspect right lower lung patch. Blunting right CP angle. - Tortuous atherosclerotic aorta. - Scoliosis, DJD and osteoporosis of spine. Compression fracture of T12. Old fracture of left ribs. - S / P fixation in L - spine. - S / P tracheostomy and NG tube.']\n",
            "\n",
            "Rouge-2 score on epoch 21: {'Rouge-L-P': 0.3102647445120852, 'Rouge-L-R': 0.2878163200469686, 'Rouge-L-F': 0.2878163200469686, 'Rouge-2-P': 0.19250991445953877, 'Rouge-2-R': 0.17495579014331786, 'Rouge-2-F': 0.17495579014331786}\n"
          ]
        },
        {
          "output_type": "stream",
          "name": "stderr",
          "text": [
            "Training Epoch [23 / 30]: 100%|██████████| 89/89 [00:20<00:00,  4.42it/s, loss=0.0844]\n",
            "Evaluting Epoch: 23:  10%|█         | 1/10 [00:01<00:11,  1.29s/it]"
          ]
        },
        {
          "output_type": "stream",
          "name": "stdout",
          "text": [
            "Names      : ['NLP_CHEST_031']\n",
            "Predictions: ['Chest PA view : Impression : - Increased both lung markings. - Fibrotic lesion in left upper lung. - Suspect right lower lung patch. - Normal heart size. - S / P NG and endotracheal tube. - S / P Lt subclavian Port - A - cath. - S / P NG and endotracheal tube.']\n",
            "Labels     : ['Chest PA view : Impression : - Increased both lung markings. - Compatible with right lung nodules. - Fibrotic lesion in left upper lung. - Normal heart size. Atherosclerotic aorta. - Suspect right pleural effusion. - Spondylosis. R / O osteoporosis. - Compatible with multiple bony metastases. - S / P NG and endotracheal tube. - S / P Lt subclavian Port - A - cath.']\n",
            "\n"
          ]
        },
        {
          "output_type": "stream",
          "name": "stderr",
          "text": [
            "\rEvaluting Epoch: 23:  20%|██        | 2/10 [00:02<00:10,  1.28s/it]"
          ]
        },
        {
          "output_type": "stream",
          "name": "stdout",
          "text": [
            "Names      : ['NLP_CHEST_011']\n",
            "Predictions: [\"Chest AP view showed : 1. Enlarged heart size with tortuous aorta. 2. A L't basal lung small density. 3. No mediastinum widening. 4. s / p endotracheal tube and NG intubation. s / p R't jugular CVP.\"]\n",
            "Labels     : [\"Chest AP view showed : 1. s / p sternotomy and CABG. Enlarged heart size with tortuous aorta. 2. R't middle and lower lung faint patches. L't lower lung consolidation. L't pleural effusion. 3. No mediastinum widening. 4. s / p endotracheal tube and NG intubation.\"]\n",
            "\n"
          ]
        },
        {
          "output_type": "stream",
          "name": "stderr",
          "text": [
            "\rEvaluting Epoch: 23:  30%|███       | 3/10 [00:03<00:08,  1.26s/it]"
          ]
        },
        {
          "output_type": "stream",
          "name": "stdout",
          "text": [
            "Names      : ['NLP_CHEST_015']\n",
            "Predictions: ['Chest PA view shows : Large mass occupying right upper chest. Normal heart size. > S / P repair for left chest wall.']\n",
            "Labels     : ['Chest X ray : - No obvious lung mass nor consolidation patch. - Normal heart size. - No pleural effusion.']\n",
            "\n"
          ]
        },
        {
          "output_type": "stream",
          "name": "stderr",
          "text": [
            "\rEvaluting Epoch: 23:  40%|████      | 4/10 [00:05<00:08,  1.37s/it]"
          ]
        },
        {
          "output_type": "stream",
          "name": "stdout",
          "text": [
            "Names      : ['NLP_CHEST_002']\n",
            "Predictions: ['Chest PA view shows : Impression : - Increased both lung markings. - Blunting left CP angle. - The mediastinum is not widened. - Normal heart size. - Atherosclerotic aorta. - Scoliosis and DJD of spine. - Spondylosis of spine.']\n",
            "Labels     : ['Chest PA view shows : Partial atelectasis at left lower lung field. Left pleural effusion. Borderline heart size. Atherosclerotic change of aortic knob. S / P port - A implantation via left subclavian vein. Intraperitoneal port catheter. Surgical clips at RUQ of abdomen.']\n",
            "\n"
          ]
        },
        {
          "output_type": "stream",
          "name": "stderr",
          "text": [
            "\rEvaluting Epoch: 23:  50%|█████     | 5/10 [00:07<00:07,  1.57s/it]"
          ]
        },
        {
          "output_type": "stream",
          "name": "stdout",
          "text": [
            "Names      : ['NLP_CHEST_057']\n",
            "Predictions: ['Chest PA view shows : Impression : - Increased both lung markings. - Suspect right upper lung nodules. - Suspect right lower lung patch. - Normal heart size. - DJD of spine. - S / P fixation in L - spine.']\n",
            "Labels     : ['Chest plain film shows : Impression : - Increased infiltrations in both lungs. - Tortuous atherosclerotic dilated aorta. - Normal heart size. - DJD of spine. Old fracture of right ribs. - Increased both lung markings. S / P Lt jugular CVC insertion. S / P NG and endotracheal tube. - Susp. Lt pneumothorax. Suspect pneumomediastinum. Subcutaneous emphysema in bilateral neck. - S / P bilateral chest tube insertion.']\n",
            "\n"
          ]
        },
        {
          "output_type": "stream",
          "name": "stderr",
          "text": [
            "\rEvaluting Epoch: 23:  60%|██████    | 6/10 [00:08<00:06,  1.62s/it]"
          ]
        },
        {
          "output_type": "stream",
          "name": "stdout",
          "text": [
            "Names      : ['NLP_CHEST_059']\n",
            "Predictions: ['Chest PA view shows : Impression : - Increased infiltrations in both lungs. - Blunting bilateral CP angles. - Atherosclerosis of aorta. - Normal heart size. - Suspect bilateral lower lung patches. - Spondylosis of spine. - S / P NG tube insertion.']\n",
            "Labels     : ['Supine chest AP view shows : Pigtail catheter at right lower chest. Decreased amount of right pleural effusion. Air in the right lower pleural space. Poor lung expansion. Mild subcutaneous emphysema at right chest wall. Right pleural thickening. Ill - defined masses at right perihilar region. Normal heart size.']\n",
            "\n"
          ]
        },
        {
          "output_type": "stream",
          "name": "stderr",
          "text": [
            "\rEvaluting Epoch: 23:  70%|███████   | 7/10 [00:10<00:04,  1.62s/it]"
          ]
        },
        {
          "output_type": "stream",
          "name": "stdout",
          "text": [
            "Names      : ['NLP_CHEST_004']\n",
            "Predictions: ['Chest PA view shows : Impression : - Increased infiltrations in both lungs. - Blunting bilateral CP angles. - Suspect bilateral lower lung patch. - Normal heart size. - Atherosclerotic aorta. - Spondylosis of spine. - Spondylosis of spine. S / P NG and endotracheal tube. S / P Rt jugular CVC insertion.']\n",
            "Labels     : ['Chest PA view show : Impression : - S / P RLL wedge resection. - Bilateral lungs metastasis. - Left lower lung subsegmental atelectasis. - Increased infiltrations in both lungs. - Blunting right CP angle. - Tortuous atherosclerotic aorta. - Scoliosis, DJD and osteoporosis of spine. - Compression fracture of L1.']\n",
            "\n"
          ]
        },
        {
          "output_type": "stream",
          "name": "stderr",
          "text": [
            "\rEvaluting Epoch: 23:  80%|████████  | 8/10 [00:11<00:03,  1.50s/it]"
          ]
        },
        {
          "output_type": "stream",
          "name": "stdout",
          "text": [
            "Names      : ['NLP_CHEST_085']\n",
            "Predictions: ['Chest PA view shows : Impression : - Increased infiltrations in both lungs. - Blunting left CP angle. - The mediastinum is not widened. - Normal heart size. - Atherosclerotic aorta. - DJD of spine. - Spondylosis of spine. - S / P fixation in T - spine.']\n",
            "Labels     : ['Chest X ray : - Right pneumothorax with pleural effusion, status post drainge tube placement. - Extensive subcutaneous emphysema from neck to right side thoracic cage. - Increased right hilar opacity. - Atherosclerosis and tortuous aorta. - Obscured bilateral costophrenic angles. - Spondylosis and mild scoliosis of thoracolumbar spine. - OA of right glenohumeral joint. - Generalized osteopenia.']\n",
            "\n"
          ]
        },
        {
          "output_type": "stream",
          "name": "stderr",
          "text": [
            "\rEvaluting Epoch: 23:  90%|█████████ | 9/10 [00:13<00:01,  1.42s/it]"
          ]
        },
        {
          "output_type": "stream",
          "name": "stdout",
          "text": [
            "Names      : ['NLP_CHEST_027']\n",
            "Predictions: ['Chest plain film shows : Impression : - Increased infiltrations in both lungs. - Blunting bilateral CP angles. - Cardiomegaly. - Atherosclerosis of aorta. - Scoliosis and DJD of spine. - Bilateral apical pleural thickening. - S / P Rt jugular CVC insertion.']\n",
            "Labels     : ['Chest PA View : Impression : > Cardiomegaly with bilateral pulmonary congestion. > Postinflammatory fibrosis in both upper lungs. > Atherosclerosis of aorta. > Old fractures of left 5th and 6th ribs. > R / O osteoporosis. > Spondylosis of thoracolumbar spine. > S / P abdominal operation in RUQ.']\n",
            "\n"
          ]
        },
        {
          "output_type": "stream",
          "name": "stderr",
          "text": [
            "Evaluting Epoch: 23: 100%|██████████| 10/10 [00:14<00:00,  1.44s/it]\n"
          ]
        },
        {
          "output_type": "stream",
          "name": "stdout",
          "text": [
            "Names      : ['NLP_CHEST_071']\n",
            "Predictions: ['Chest plain film shows : Impression : - Suspicious right upper lung patch. - Increased infiltrations in both lungs. - Blunting bilateral CP angles. - Tortuous atherosclerotic dilated aorta. - Cardiomegaly. - Scoliosis, DJD and osteoporosis of spine. - S / P Rt jugular CVC insertion.']\n",
            "Labels     : ['Chest film shows : Impression : - Bilateral lung infiltrations. - Suspect right lower lung patch. Blunting right CP angle. - Tortuous atherosclerotic aorta. - Scoliosis, DJD and osteoporosis of spine. Compression fracture of T12. Old fracture of left ribs. - S / P fixation in L - spine. - S / P tracheostomy and NG tube.']\n",
            "\n",
            "Rouge-2 score on epoch 22: {'Rouge-L-P': 0.3161488812228787, 'Rouge-L-R': 0.2917026202630762, 'Rouge-L-F': 0.2917026202630762, 'Rouge-2-P': 0.198229974539791, 'Rouge-2-R': 0.17903830767770362, 'Rouge-2-F': 0.17903830767770362}\n"
          ]
        },
        {
          "output_type": "stream",
          "name": "stderr",
          "text": [
            "Training Epoch [24 / 30]: 100%|██████████| 89/89 [00:20<00:00,  4.42it/s, loss=0.0744]\n",
            "Evaluting Epoch: 24:  10%|█         | 1/10 [00:01<00:11,  1.27s/it]"
          ]
        },
        {
          "output_type": "stream",
          "name": "stdout",
          "text": [
            "Names      : ['NLP_CHEST_031']\n",
            "Predictions: ['Chest PA view : Impression : - Increased both lung markings. - Fibrotic lesion in left upper lung. - Fibrotic lesion in left upper lung. - Normal heart size. Atherosclerotic aorta. - Suspect right pleural effusion. - Spondylosis. R / O osteoporosis. - S / P NG and endotracheal tube. - S /']\n",
            "Labels     : ['Chest PA view : Impression : - Increased both lung markings. - Compatible with right lung nodules. - Fibrotic lesion in left upper lung. - Normal heart size. Atherosclerotic aorta. - Suspect right pleural effusion. - Spondylosis. R / O osteoporosis. - Compatible with multiple bony metastases. - S / P NG and endotracheal tube. - S / P Lt subclavian Port - A - cath.']\n",
            "\n"
          ]
        },
        {
          "output_type": "stream",
          "name": "stderr",
          "text": [
            "\rEvaluting Epoch: 24:  20%|██        | 2/10 [00:02<00:11,  1.39s/it]"
          ]
        },
        {
          "output_type": "stream",
          "name": "stdout",
          "text": [
            "Names      : ['NLP_CHEST_011']\n",
            "Predictions: [\"Chest AP view showed : 1. Normal heart size with tortuous aorta. 2. R't middle lung and L't lower lung reticulonodular infiltrations. Mild L't pleural effusion. 3. No mediastinum widening. 4. s / p endotracheal tube and NG intubation. s / p R't jugular CVP.\"]\n",
            "Labels     : [\"Chest AP view showed : 1. s / p sternotomy and CABG. Enlarged heart size with tortuous aorta. 2. R't middle and lower lung faint patches. L't lower lung consolidation. L't pleural effusion. 3. No mediastinum widening. 4. s / p endotracheal tube and NG intubation.\"]\n",
            "\n"
          ]
        },
        {
          "output_type": "stream",
          "name": "stderr",
          "text": [
            "\rEvaluting Epoch: 24:  30%|███       | 3/10 [00:04<00:11,  1.59s/it]"
          ]
        },
        {
          "output_type": "stream",
          "name": "stdout",
          "text": [
            "Names      : ['NLP_CHEST_015']\n",
            "Predictions: ['Chest PA view shows : Impression : > No obvious lung mass nor consolidation patch. > Normal heart size. > No pleural effusion.']\n",
            "Labels     : ['Chest X ray : - No obvious lung mass nor consolidation patch. - Normal heart size. - No pleural effusion.']\n",
            "\n"
          ]
        },
        {
          "output_type": "stream",
          "name": "stderr",
          "text": [
            "\rEvaluting Epoch: 24:  40%|████      | 4/10 [00:05<00:08,  1.50s/it]"
          ]
        },
        {
          "output_type": "stream",
          "name": "stdout",
          "text": [
            "Names      : ['NLP_CHEST_002']\n",
            "Predictions: ['Chest PA view shows : Impression : - Increased both lung markings. - Blunting bilateral CP angles. - Left lower lung patch. - Normal heart size. - Atherosclerotic aorta. - DJD of spine. - S / P biliary scoliosis of spine.']\n",
            "Labels     : ['Chest PA view shows : Partial atelectasis at left lower lung field. Left pleural effusion. Borderline heart size. Atherosclerotic change of aortic knob. S / P port - A implantation via left subclavian vein. Intraperitoneal port catheter. Surgical clips at RUQ of abdomen.']\n",
            "\n"
          ]
        },
        {
          "output_type": "stream",
          "name": "stderr",
          "text": [
            "\rEvaluting Epoch: 24:  50%|█████     | 5/10 [00:07<00:07,  1.41s/it]"
          ]
        },
        {
          "output_type": "stream",
          "name": "stdout",
          "text": [
            "Names      : ['NLP_CHEST_057']\n",
            "Predictions: ['Chest PA view shows : Impression : - Increased both lung markings. - Suspect right upper lung nodules. - Blunting bilateral CP angles. - Normal heart size. Atherosclerotic aorta. - DJD of spine. - S / P NG and endotracheal tube. S / P Rt jugular CVC insertion.']\n",
            "Labels     : ['Chest plain film shows : Impression : - Increased infiltrations in both lungs. - Tortuous atherosclerotic dilated aorta. - Normal heart size. - DJD of spine. Old fracture of right ribs. - Increased both lung markings. S / P Lt jugular CVC insertion. S / P NG and endotracheal tube. - Susp. Lt pneumothorax. Suspect pneumomediastinum. Subcutaneous emphysema in bilateral neck. - S / P bilateral chest tube insertion.']\n",
            "\n"
          ]
        },
        {
          "output_type": "stream",
          "name": "stderr",
          "text": [
            "\rEvaluting Epoch: 24:  60%|██████    | 6/10 [00:08<00:05,  1.36s/it]"
          ]
        },
        {
          "output_type": "stream",
          "name": "stdout",
          "text": [
            "Names      : ['NLP_CHEST_059']\n",
            "Predictions: ['Chest PA view shows : Impression : - Increased infiltrations in both lungs. - Blunting bilateral CP angles. - Atherosclerotic aorta. - Normal heart size. - DJD of spine. - S / P fixation in C - spine.']\n",
            "Labels     : ['Supine chest AP view shows : Pigtail catheter at right lower chest. Decreased amount of right pleural effusion. Air in the right lower pleural space. Poor lung expansion. Mild subcutaneous emphysema at right chest wall. Right pleural thickening. Ill - defined masses at right perihilar region. Normal heart size.']\n",
            "\n"
          ]
        },
        {
          "output_type": "stream",
          "name": "stderr",
          "text": [
            "\rEvaluting Epoch: 24:  70%|███████   | 7/10 [00:09<00:03,  1.33s/it]"
          ]
        },
        {
          "output_type": "stream",
          "name": "stdout",
          "text": [
            "Names      : ['NLP_CHEST_004']\n",
            "Predictions: ['Chest PA view shows : Impression : - Suspicious right upper lung mass. - Increased bilateral lung markings. - Blunting bilateral CP angles. - Normal heart size. - Atherosclerotic aorta. - DJD of spine. - Spondylosis of spine. - S / P NG and endotracheal tube. S / P Rt jugular CVC insertion.']\n",
            "Labels     : ['Chest PA view show : Impression : - S / P RLL wedge resection. - Bilateral lungs metastasis. - Left lower lung subsegmental atelectasis. - Increased infiltrations in both lungs. - Blunting right CP angle. - Tortuous atherosclerotic aorta. - Scoliosis, DJD and osteoporosis of spine. - Compression fracture of L1.']\n",
            "\n"
          ]
        },
        {
          "output_type": "stream",
          "name": "stderr",
          "text": [
            "\rEvaluting Epoch: 24:  80%|████████  | 8/10 [00:10<00:02,  1.31s/it]"
          ]
        },
        {
          "output_type": "stream",
          "name": "stdout",
          "text": [
            "Names      : ['NLP_CHEST_085']\n",
            "Predictions: ['Chest PA view shows : Impression : - Increased infiltrations in both lungs. - Blunting left CP angle. - Tortuous atherosclerotic dilated aorta. - Normal heart size. - DJD of spine. - S / P NG and endotracheal tube. S / P Rt jugular CVC insertion.']\n",
            "Labels     : ['Chest X ray : - Right pneumothorax with pleural effusion, status post drainge tube placement. - Extensive subcutaneous emphysema from neck to right side thoracic cage. - Increased right hilar opacity. - Atherosclerosis and tortuous aorta. - Obscured bilateral costophrenic angles. - Spondylosis and mild scoliosis of thoracolumbar spine. - OA of right glenohumeral joint. - Generalized osteopenia.']\n",
            "\n"
          ]
        },
        {
          "output_type": "stream",
          "name": "stderr",
          "text": [
            "\rEvaluting Epoch: 24:  90%|█████████ | 9/10 [00:12<00:01,  1.29s/it]"
          ]
        },
        {
          "output_type": "stream",
          "name": "stdout",
          "text": [
            "Names      : ['NLP_CHEST_027']\n",
            "Predictions: ['Chest plain film shows : Impression : - Suspicious right upper lung patch. - Increased infiltrations in both lungs. - Blunting bilateral CP angles. - Atherosclerotic dilated aorta. - DJD of spine. - S / P NG tube insertion. - S / P fixation in L - spine.']\n",
            "Labels     : ['Chest PA View : Impression : > Cardiomegaly with bilateral pulmonary congestion. > Postinflammatory fibrosis in both upper lungs. > Atherosclerosis of aorta. > Old fractures of left 5th and 6th ribs. > R / O osteoporosis. > Spondylosis of thoracolumbar spine. > S / P abdominal operation in RUQ.']\n",
            "\n"
          ]
        },
        {
          "output_type": "stream",
          "name": "stderr",
          "text": [
            "Evaluting Epoch: 24: 100%|██████████| 10/10 [00:13<00:00,  1.35s/it]\n"
          ]
        },
        {
          "output_type": "stream",
          "name": "stdout",
          "text": [
            "Names      : ['NLP_CHEST_071']\n",
            "Predictions: ['Chest plain film shows : Impression : - Suspicious right upper lung patch. - Increased infiltrations in both lungs. - Blunting bilateral CP angles. - Tortuous atherosclerotic dilated aorta. - Normal heart size. - DJD of spine. S / P Rt jugular CVC insertion.']\n",
            "Labels     : ['Chest film shows : Impression : - Bilateral lung infiltrations. - Suspect right lower lung patch. Blunting right CP angle. - Tortuous atherosclerotic aorta. - Scoliosis, DJD and osteoporosis of spine. Compression fracture of T12. Old fracture of left ribs. - S / P fixation in L - spine. - S / P tracheostomy and NG tube.']\n",
            "\n",
            "Rouge-2 score on epoch 23: {'Rouge-L-P': 0.323496091803979, 'Rouge-L-R': 0.29795906386722737, 'Rouge-L-F': 0.29795906386722737, 'Rouge-2-P': 0.20501254542146422, 'Rouge-2-R': 0.18495411487807012, 'Rouge-2-F': 0.18495411487807012}\n"
          ]
        },
        {
          "output_type": "stream",
          "name": "stderr",
          "text": [
            "Training Epoch [25 / 30]: 100%|██████████| 89/89 [00:20<00:00,  4.42it/s, loss=0.0702]\n",
            "Evaluting Epoch: 25:  10%|█         | 1/10 [00:01<00:11,  1.27s/it]"
          ]
        },
        {
          "output_type": "stream",
          "name": "stdout",
          "text": [
            "Names      : ['NLP_CHEST_031']\n",
            "Predictions: ['Chest PA view : Impression : - Increased both lung markings. - Compatible with right lung nodules. - Fibrotic lesion in left upper lung. - Normal heart size. Atherosclerotic aorta. - Suspect right pleural effusion. - Spondylosis. R / O osteoporosis. - Compatible with multiple bony metastases. - S / P N']\n",
            "Labels     : ['Chest PA view : Impression : - Increased both lung markings. - Compatible with right lung nodules. - Fibrotic lesion in left upper lung. - Normal heart size. Atherosclerotic aorta. - Suspect right pleural effusion. - Spondylosis. R / O osteoporosis. - Compatible with multiple bony metastases. - S / P NG and endotracheal tube. - S / P Lt subclavian Port - A - cath.']\n",
            "\n"
          ]
        },
        {
          "output_type": "stream",
          "name": "stderr",
          "text": [
            "\rEvaluting Epoch: 25:  20%|██        | 2/10 [00:02<00:10,  1.25s/it]"
          ]
        },
        {
          "output_type": "stream",
          "name": "stdout",
          "text": [
            "Names      : ['NLP_CHEST_011']\n",
            "Predictions: ['Chest PA view showed : Impression : - Suspicious pulmonary edema. Superimposed pneumonia cannot be excluded. - Blunting bilateral CP angles. - Normal heart size. Atherosclerosis of aorta. - DJD of spine. S / P NG and endotracheal tube. S / P Rt jugular CVC insertion.']\n",
            "Labels     : [\"Chest AP view showed : 1. s / p sternotomy and CABG. Enlarged heart size with tortuous aorta. 2. R't middle and lower lung faint patches. L't lower lung consolidation. L't pleural effusion. 3. No mediastinum widening. 4. s / p endotracheal tube and NG intubation.\"]\n",
            "\n"
          ]
        },
        {
          "output_type": "stream",
          "name": "stderr",
          "text": [
            "\rEvaluting Epoch: 25:  30%|███       | 3/10 [00:03<00:08,  1.25s/it]"
          ]
        },
        {
          "output_type": "stream",
          "name": "stdout",
          "text": [
            "Names      : ['NLP_CHEST_015']\n",
            "Predictions: ['Chest PA view shows : Large mass occupying right upper chest. Normal heart size.']\n",
            "Labels     : ['Chest X ray : - No obvious lung mass nor consolidation patch. - Normal heart size. - No pleural effusion.']\n",
            "\n"
          ]
        },
        {
          "output_type": "stream",
          "name": "stderr",
          "text": [
            "\rEvaluting Epoch: 25:  40%|████      | 4/10 [00:04<00:07,  1.24s/it]"
          ]
        },
        {
          "output_type": "stream",
          "name": "stdout",
          "text": [
            "Names      : ['NLP_CHEST_002']\n",
            "Predictions: ['Chest PA view shows : Impression : > No obvious lung mass nor consolidation patch. > No pleural effusion. > The heart shadow is not widened. > Atherosclerosis of aorta. > Spondylosis of spine. > S / P NG and endotracheal tube.']\n",
            "Labels     : ['Chest PA view shows : Partial atelectasis at left lower lung field. Left pleural effusion. Borderline heart size. Atherosclerotic change of aortic knob. S / P port - A implantation via left subclavian vein. Intraperitoneal port catheter. Surgical clips at RUQ of abdomen.']\n",
            "\n"
          ]
        },
        {
          "output_type": "stream",
          "name": "stderr",
          "text": [
            "\rEvaluting Epoch: 25:  50%|█████     | 5/10 [00:06<00:06,  1.24s/it]"
          ]
        },
        {
          "output_type": "stream",
          "name": "stdout",
          "text": [
            "Names      : ['NLP_CHEST_057']\n",
            "Predictions: ['Chest PA view shows : Impression : - Increased infiltrations in both lungs. - Suspect bilateral lung markings. - Suspect bilateral lower lung patch. - Normal heart size. Atherosclerosis of aorta. - DJD of spine. S / P NG and endotracheal tube. S / P Rt jugular CVC insertion.']\n",
            "Labels     : ['Chest plain film shows : Impression : - Increased infiltrations in both lungs. - Tortuous atherosclerotic dilated aorta. - Normal heart size. - DJD of spine. Old fracture of right ribs. - Increased both lung markings. S / P Lt jugular CVC insertion. S / P NG and endotracheal tube. - Susp. Lt pneumothorax. Suspect pneumomediastinum. Subcutaneous emphysema in bilateral neck. - S / P bilateral chest tube insertion.']\n",
            "\n"
          ]
        },
        {
          "output_type": "stream",
          "name": "stderr",
          "text": [
            "\rEvaluting Epoch: 25:  60%|██████    | 6/10 [00:07<00:05,  1.41s/it]"
          ]
        },
        {
          "output_type": "stream",
          "name": "stdout",
          "text": [
            "Names      : ['NLP_CHEST_059']\n",
            "Predictions: ['Chest plain film shows : Impression : - Increased infiltrations in both lungs. - Blunting bilateral CP angles. - Atherosclerosis of aorta. - Suspect bilateral lower lung patches. - Scoliosis and DJD of spine. - S / P fixation in L - spine.']\n",
            "Labels     : ['Supine chest AP view shows : Pigtail catheter at right lower chest. Decreased amount of right pleural effusion. Air in the right lower pleural space. Poor lung expansion. Mild subcutaneous emphysema at right chest wall. Right pleural thickening. Ill - defined masses at right perihilar region. Normal heart size.']\n",
            "\n"
          ]
        },
        {
          "output_type": "stream",
          "name": "stderr",
          "text": [
            "\rEvaluting Epoch: 25:  70%|███████   | 7/10 [00:09<00:04,  1.50s/it]"
          ]
        },
        {
          "output_type": "stream",
          "name": "stdout",
          "text": [
            "Names      : ['NLP_CHEST_004']\n",
            "Predictions: ['Chest PA View : Impression : - Increased bilateral lung markings. - Suspect pulmonary fibrosis. - Blunting bilateral CP angles. - Normal heart size. Atherosclerotic aorta. - Suspect bilateral lower lung patches. - Spondylosis of spine. - S / P NG and endotracheal tube. S / P Rt jugular CVC insertion.']\n",
            "Labels     : ['Chest PA view show : Impression : - S / P RLL wedge resection. - Bilateral lungs metastasis. - Left lower lung subsegmental atelectasis. - Increased infiltrations in both lungs. - Blunting right CP angle. - Tortuous atherosclerotic aorta. - Scoliosis, DJD and osteoporosis of spine. - Compression fracture of L1.']\n",
            "\n"
          ]
        },
        {
          "output_type": "stream",
          "name": "stderr",
          "text": [
            "\rEvaluting Epoch: 25:  80%|████████  | 8/10 [00:10<00:02,  1.42s/it]"
          ]
        },
        {
          "output_type": "stream",
          "name": "stdout",
          "text": [
            "Names      : ['NLP_CHEST_085']\n",
            "Predictions: ['Chest plain film view showed : Impression : - Suspicious pulmonary edema. Superimposed pneumonia cannot be excluded. - The mediastinum is not widened. - Normal heart size. - DJD of spine. - S / P right chest tube insertion.']\n",
            "Labels     : ['Chest X ray : - Right pneumothorax with pleural effusion, status post drainge tube placement. - Extensive subcutaneous emphysema from neck to right side thoracic cage. - Increased right hilar opacity. - Atherosclerosis and tortuous aorta. - Obscured bilateral costophrenic angles. - Spondylosis and mild scoliosis of thoracolumbar spine. - OA of right glenohumeral joint. - Generalized osteopenia.']\n",
            "\n"
          ]
        },
        {
          "output_type": "stream",
          "name": "stderr",
          "text": [
            "\rEvaluting Epoch: 25:  90%|█████████ | 9/10 [00:12<00:01,  1.37s/it]"
          ]
        },
        {
          "output_type": "stream",
          "name": "stdout",
          "text": [
            "Names      : ['NLP_CHEST_027']\n",
            "Predictions: ['Chest plain film shows : Impression : - Suspicious right upper lung patch. - Increased infiltrations in both lungs. - Blunting bilateral CP angles. - Atherosclerosis of aorta. - Scoliosis and DJD of spine. - Bilateral apical pleural thickening. - S / P NG tube insertion.']\n",
            "Labels     : ['Chest PA View : Impression : > Cardiomegaly with bilateral pulmonary congestion. > Postinflammatory fibrosis in both upper lungs. > Atherosclerosis of aorta. > Old fractures of left 5th and 6th ribs. > R / O osteoporosis. > Spondylosis of thoracolumbar spine. > S / P abdominal operation in RUQ.']\n",
            "\n"
          ]
        },
        {
          "output_type": "stream",
          "name": "stderr",
          "text": [
            "Evaluting Epoch: 25: 100%|██████████| 10/10 [00:13<00:00,  1.34s/it]\n"
          ]
        },
        {
          "output_type": "stream",
          "name": "stdout",
          "text": [
            "Names      : ['NLP_CHEST_071']\n",
            "Predictions: ['Chest plain film shows : Impression : - Suspicious right upper lung patch. - Increased infiltrations in both lungs. - Tortuous atherosclerotic dilated aorta. - Cardiomegaly. - DJD of spine. S / P right ribs. S / P right chest tube insertion.']\n",
            "Labels     : ['Chest film shows : Impression : - Bilateral lung infiltrations. - Suspect right lower lung patch. Blunting right CP angle. - Tortuous atherosclerotic aorta. - Scoliosis, DJD and osteoporosis of spine. Compression fracture of T12. Old fracture of left ribs. - S / P fixation in L - spine. - S / P tracheostomy and NG tube.']\n",
            "\n",
            "Rouge-2 score on epoch 24: {'Rouge-L-P': 0.3272521029534871, 'Rouge-L-R': 0.29951066130264736, 'Rouge-L-F': 0.29951066130264736, 'Rouge-2-P': 0.20787687507960703, 'Rouge-2-R': 0.1863805420413781, 'Rouge-2-F': 0.1863805420413781}\n"
          ]
        },
        {
          "output_type": "stream",
          "name": "stderr",
          "text": [
            "Training Epoch [26 / 30]: 100%|██████████| 89/89 [00:19<00:00,  4.51it/s, loss=0.0699]\n",
            "Evaluting Epoch: 26:  10%|█         | 1/10 [00:01<00:12,  1.42s/it]"
          ]
        },
        {
          "output_type": "stream",
          "name": "stdout",
          "text": [
            "Names      : ['NLP_CHEST_031']\n",
            "Predictions: ['Chest PA view : Impression : - Increased both lung markings. - Compatible with right lung nodules. - Compatible with right lung nodules. - Fibrotic lesion in left upper lung. - Normal heart size. Atherosclerotic aorta. - Suspect right pleural thickening. - Spondylosis. R / O osteoporosis. - Compatible with multiple']\n",
            "Labels     : ['Chest PA view : Impression : - Increased both lung markings. - Compatible with right lung nodules. - Fibrotic lesion in left upper lung. - Normal heart size. Atherosclerotic aorta. - Suspect right pleural effusion. - Spondylosis. R / O osteoporosis. - Compatible with multiple bony metastases. - S / P NG and endotracheal tube. - S / P Lt subclavian Port - A - cath.']\n",
            "\n"
          ]
        },
        {
          "output_type": "stream",
          "name": "stderr",
          "text": [
            "\rEvaluting Epoch: 26:  20%|██        | 2/10 [00:03<00:13,  1.65s/it]"
          ]
        },
        {
          "output_type": "stream",
          "name": "stdout",
          "text": [
            "Names      : ['NLP_CHEST_011']\n",
            "Predictions: [\"Chest AP view showed : 1. Normal heart size with tortuous aorta. 2. R't middle lung and L't lower lung reticulonodular infiltrations. Mild L't pleural effusion. 3. No mediastinum widening. 4. s / p endotracheal tube and NG intubation. s / p R't jugular CVP.\"]\n",
            "Labels     : [\"Chest AP view showed : 1. s / p sternotomy and CABG. Enlarged heart size with tortuous aorta. 2. R't middle and lower lung faint patches. L't lower lung consolidation. L't pleural effusion. 3. No mediastinum widening. 4. s / p endotracheal tube and NG intubation.\"]\n",
            "\n"
          ]
        },
        {
          "output_type": "stream",
          "name": "stderr",
          "text": [
            "\rEvaluting Epoch: 26:  30%|███       | 3/10 [00:04<00:10,  1.56s/it]"
          ]
        },
        {
          "output_type": "stream",
          "name": "stdout",
          "text": [
            "Names      : ['NLP_CHEST_015']\n",
            "Predictions: ['Chest PA view shows : > No obvious lung mass nor consolidation patch. > Normal heart size. > No pleural effusion.']\n",
            "Labels     : ['Chest X ray : - No obvious lung mass nor consolidation patch. - Normal heart size. - No pleural effusion.']\n",
            "\n"
          ]
        },
        {
          "output_type": "stream",
          "name": "stderr",
          "text": [
            "\rEvaluting Epoch: 26:  40%|████      | 4/10 [00:05<00:08,  1.43s/it]"
          ]
        },
        {
          "output_type": "stream",
          "name": "stdout",
          "text": [
            "Names      : ['NLP_CHEST_002']\n",
            "Predictions: ['Chest PA view shows : Impression : - Suspicious right upper lung nodule. - Increased both lung markings. - Blunting bilateral CP angles. - The mediastinum is not widened. - Normal heart size. - Atherosclerotic aorta. - DJD of spine. - S / P biliary scoliosis of spine.']\n",
            "Labels     : ['Chest PA view shows : Partial atelectasis at left lower lung field. Left pleural effusion. Borderline heart size. Atherosclerotic change of aortic knob. S / P port - A implantation via left subclavian vein. Intraperitoneal port catheter. Surgical clips at RUQ of abdomen.']\n",
            "\n"
          ]
        },
        {
          "output_type": "stream",
          "name": "stderr",
          "text": [
            "\rEvaluting Epoch: 26:  50%|█████     | 5/10 [00:07<00:06,  1.38s/it]"
          ]
        },
        {
          "output_type": "stream",
          "name": "stdout",
          "text": [
            "Names      : ['NLP_CHEST_057']\n",
            "Predictions: ['Chest PA view shows : Impression : - Suspicious pulmonary edema. Superimposed pneumonia cannot be excluded. - Blunting bilateral CP angles. - Normal heart size. Atherosclerotic aorta. - DJD of spine. - S / P NG and endotracheal tube. S / P Rt jugular CVC insertion.']\n",
            "Labels     : ['Chest plain film shows : Impression : - Increased infiltrations in both lungs. - Tortuous atherosclerotic dilated aorta. - Normal heart size. - DJD of spine. Old fracture of right ribs. - Increased both lung markings. S / P Lt jugular CVC insertion. S / P NG and endotracheal tube. - Susp. Lt pneumothorax. Suspect pneumomediastinum. Subcutaneous emphysema in bilateral neck. - S / P bilateral chest tube insertion.']\n",
            "\n"
          ]
        },
        {
          "output_type": "stream",
          "name": "stderr",
          "text": [
            "\rEvaluting Epoch: 26:  60%|██████    | 6/10 [00:08<00:05,  1.33s/it]"
          ]
        },
        {
          "output_type": "stream",
          "name": "stdout",
          "text": [
            "Names      : ['NLP_CHEST_059']\n",
            "Predictions: [\"Chest AP view showed : 1. Normal heart size with tortuous aorta. 2. No mediastinum widening. 4. s / p endotracheal tube and NG intubation. s / p R't jugular CVP.\"]\n",
            "Labels     : ['Supine chest AP view shows : Pigtail catheter at right lower chest. Decreased amount of right pleural effusion. Air in the right lower pleural space. Poor lung expansion. Mild subcutaneous emphysema at right chest wall. Right pleural thickening. Ill - defined masses at right perihilar region. Normal heart size.']\n",
            "\n"
          ]
        },
        {
          "output_type": "stream",
          "name": "stderr",
          "text": [
            "\rEvaluting Epoch: 26:  70%|███████   | 7/10 [00:09<00:03,  1.30s/it]"
          ]
        },
        {
          "output_type": "stream",
          "name": "stdout",
          "text": [
            "Names      : ['NLP_CHEST_004']\n",
            "Predictions: ['Chest PA View : Impression : - Suspicious pulmonary edema. Superimposed pneumonia cannot be excluded. - Blunting bilateral CP angles. - Normal heart size. Atherosclerotic aorta. - DJD of spine. - S / P NG and endotracheal tube. S / P Rt jugular CVC insertion.']\n",
            "Labels     : ['Chest PA view show : Impression : - S / P RLL wedge resection. - Bilateral lungs metastasis. - Left lower lung subsegmental atelectasis. - Increased infiltrations in both lungs. - Blunting right CP angle. - Tortuous atherosclerotic aorta. - Scoliosis, DJD and osteoporosis of spine. - Compression fracture of L1.']\n",
            "\n"
          ]
        },
        {
          "output_type": "stream",
          "name": "stderr",
          "text": [
            "\rEvaluting Epoch: 26:  80%|████████  | 8/10 [00:10<00:02,  1.28s/it]"
          ]
        },
        {
          "output_type": "stream",
          "name": "stdout",
          "text": [
            "Names      : ['NLP_CHEST_085']\n",
            "Predictions: [\"Chest AP view showed : 1. Normal heart size with tortuous aorta. 2. R't middle lung and L't lower lung reticulonodular infiltrations. Mild L't lower lung reticulonodular infiltrations. Mild L't pleural pigtail drainage. 3. No mediastinum widening. 4. s / p endotracheal tube and NG intubation\"]\n",
            "Labels     : ['Chest X ray : - Right pneumothorax with pleural effusion, status post drainge tube placement. - Extensive subcutaneous emphysema from neck to right side thoracic cage. - Increased right hilar opacity. - Atherosclerosis and tortuous aorta. - Obscured bilateral costophrenic angles. - Spondylosis and mild scoliosis of thoracolumbar spine. - OA of right glenohumeral joint. - Generalized osteopenia.']\n",
            "\n"
          ]
        },
        {
          "output_type": "stream",
          "name": "stderr",
          "text": [
            "\rEvaluting Epoch: 26:  90%|█████████ | 9/10 [00:12<00:01,  1.27s/it]"
          ]
        },
        {
          "output_type": "stream",
          "name": "stdout",
          "text": [
            "Names      : ['NLP_CHEST_027']\n",
            "Predictions: ['Chest plain film shows : Impression : - Suspicious right upper lung nodule. Bilateral lung nodules. - Increased infiltrations in both lungs. - Blunting bilateral CP angles. - Atherosclerotic aorta. - Scoliosis, DJD and osteoporosis of spine. - Bilateral apical pleural thickening.']\n",
            "Labels     : ['Chest PA View : Impression : > Cardiomegaly with bilateral pulmonary congestion. > Postinflammatory fibrosis in both upper lungs. > Atherosclerosis of aorta. > Old fractures of left 5th and 6th ribs. > R / O osteoporosis. > Spondylosis of thoracolumbar spine. > S / P abdominal operation in RUQ.']\n",
            "\n"
          ]
        },
        {
          "output_type": "stream",
          "name": "stderr",
          "text": [
            "Evaluting Epoch: 26: 100%|██████████| 10/10 [00:13<00:00,  1.34s/it]\n"
          ]
        },
        {
          "output_type": "stream",
          "name": "stdout",
          "text": [
            "Names      : ['NLP_CHEST_071']\n",
            "Predictions: ['Chest plain film shows : Impression : - Suspicious right upper lung patch. - Increased infiltrations in both lungs. - Blunting bilateral CP angles. - Tortuous atherosclerotic dilated aorta. - Normal heart size. - DJD of spine. S / P Rt jugular CVC insertion.']\n",
            "Labels     : ['Chest film shows : Impression : - Bilateral lung infiltrations. - Suspect right lower lung patch. Blunting right CP angle. - Tortuous atherosclerotic aorta. - Scoliosis, DJD and osteoporosis of spine. Compression fracture of T12. Old fracture of left ribs. - S / P fixation in L - spine. - S / P tracheostomy and NG tube.']\n",
            "\n",
            "Rouge-2 score on epoch 25: {'Rouge-L-P': 0.33252364611551916, 'Rouge-L-R': 0.30343489047923283, 'Rouge-L-F': 0.30343489047923283, 'Rouge-2-P': 0.21285661027533437, 'Rouge-2-R': 0.19039004170649898, 'Rouge-2-F': 0.19039004170649898}\n"
          ]
        },
        {
          "output_type": "stream",
          "name": "stderr",
          "text": [
            "Training Epoch [27 / 30]: 100%|██████████| 89/89 [00:20<00:00,  4.44it/s, loss=0.0595]\n",
            "Evaluting Epoch: 27:  10%|█         | 1/10 [00:01<00:11,  1.29s/it]"
          ]
        },
        {
          "output_type": "stream",
          "name": "stdout",
          "text": [
            "Names      : ['NLP_CHEST_031']\n",
            "Predictions: ['Chest PA view : Impression : - Increased both lung markings. - Compatible with right lung nodules. - Fibrotic lesion in left upper lung. - Normal heart size. Atherosclerotic aorta. - Suspect right pleural effusion. - Spondylosis. R / O osteoporosis. - Compatible with multiple bony metastases. - S / P N']\n",
            "Labels     : ['Chest PA view : Impression : - Increased both lung markings. - Compatible with right lung nodules. - Fibrotic lesion in left upper lung. - Normal heart size. Atherosclerotic aorta. - Suspect right pleural effusion. - Spondylosis. R / O osteoporosis. - Compatible with multiple bony metastases. - S / P NG and endotracheal tube. - S / P Lt subclavian Port - A - cath.']\n",
            "\n"
          ]
        },
        {
          "output_type": "stream",
          "name": "stderr",
          "text": [
            "\rEvaluting Epoch: 27:  20%|██        | 2/10 [00:02<00:10,  1.35s/it]"
          ]
        },
        {
          "output_type": "stream",
          "name": "stdout",
          "text": [
            "Names      : ['NLP_CHEST_011']\n",
            "Predictions: [\"Chest AP view showed : 1. Enlarged heart size with tortuous aorta. 2. Bilateral lung reticulonodular infiltrations. A R't upper lung mass. R't upper lung mass. 3. No mediastinum widening. 4. s / p endotracheal tube and NG intubation. s / p R't jugular CVP.\"]\n",
            "Labels     : [\"Chest AP view showed : 1. s / p sternotomy and CABG. Enlarged heart size with tortuous aorta. 2. R't middle and lower lung faint patches. L't lower lung consolidation. L't pleural effusion. 3. No mediastinum widening. 4. s / p endotracheal tube and NG intubation.\"]\n",
            "\n"
          ]
        },
        {
          "output_type": "stream",
          "name": "stderr",
          "text": [
            "\rEvaluting Epoch: 27:  30%|███       | 3/10 [00:04<00:10,  1.56s/it]"
          ]
        },
        {
          "output_type": "stream",
          "name": "stdout",
          "text": [
            "Names      : ['NLP_CHEST_015']\n",
            "Predictions: ['Chest PA view shows : > No obvious lung mass nor consolidation patch. > Normal heart size. > No pleural effusion.']\n",
            "Labels     : ['Chest X ray : - No obvious lung mass nor consolidation patch. - Normal heart size. - No pleural effusion.']\n",
            "\n"
          ]
        },
        {
          "output_type": "stream",
          "name": "stderr",
          "text": [
            "\rEvaluting Epoch: 27:  40%|████      | 4/10 [00:05<00:09,  1.54s/it]"
          ]
        },
        {
          "output_type": "stream",
          "name": "stdout",
          "text": [
            "Names      : ['NLP_CHEST_002']\n",
            "Predictions: ['Chest PA view shows : Impression : > Increased bilateral lung markings. > Suspect pulmonary fibrosis. > Cardiomegaly. > Atherosclerotic aorta. > Scoliosis and DJD of spine. > S / P right chest tube insertion. > S / P right chest tube insertion.']\n",
            "Labels     : ['Chest PA view shows : Partial atelectasis at left lower lung field. Left pleural effusion. Borderline heart size. Atherosclerotic change of aortic knob. S / P port - A implantation via left subclavian vein. Intraperitoneal port catheter. Surgical clips at RUQ of abdomen.']\n",
            "\n"
          ]
        },
        {
          "output_type": "stream",
          "name": "stderr",
          "text": [
            "\rEvaluting Epoch: 27:  50%|█████     | 5/10 [00:07<00:07,  1.44s/it]"
          ]
        },
        {
          "output_type": "stream",
          "name": "stdout",
          "text": [
            "Names      : ['NLP_CHEST_057']\n",
            "Predictions: ['Chest PA view shows : Impression : - Increased bilateral lung markings. - Suspect pulmonary fibrosis. - Suspect right lower lung patch. Blunting bilateral CP angles. - Normal heart size. Atherosclerotic aorta. - DJD of spine. - S / P NG and endotracheal tube. S / P Rt jugular CVC insertion.']\n",
            "Labels     : ['Chest plain film shows : Impression : - Increased infiltrations in both lungs. - Tortuous atherosclerotic dilated aorta. - Normal heart size. - DJD of spine. Old fracture of right ribs. - Increased both lung markings. S / P Lt jugular CVC insertion. S / P NG and endotracheal tube. - Susp. Lt pneumothorax. Suspect pneumomediastinum. Subcutaneous emphysema in bilateral neck. - S / P bilateral chest tube insertion.']\n",
            "\n"
          ]
        },
        {
          "output_type": "stream",
          "name": "stderr",
          "text": [
            "\rEvaluting Epoch: 27:  60%|██████    | 6/10 [00:08<00:05,  1.37s/it]"
          ]
        },
        {
          "output_type": "stream",
          "name": "stdout",
          "text": [
            "Names      : ['NLP_CHEST_059']\n",
            "Predictions: ['Chest PA view shows : Impression : - Increased bilateral lung markings. - Suspect pulmonary hilar enlargement. - Blunting bilateral CP angles. - Atherosclerotic aorta. - Normal heart size. - DJD of spine. - Atherosclerosis of aorta. - S / P fixation in L - spine.']\n",
            "Labels     : ['Supine chest AP view shows : Pigtail catheter at right lower chest. Decreased amount of right pleural effusion. Air in the right lower pleural space. Poor lung expansion. Mild subcutaneous emphysema at right chest wall. Right pleural thickening. Ill - defined masses at right perihilar region. Normal heart size.']\n",
            "\n"
          ]
        },
        {
          "output_type": "stream",
          "name": "stderr",
          "text": [
            "\rEvaluting Epoch: 27:  70%|███████   | 7/10 [00:09<00:03,  1.33s/it]"
          ]
        },
        {
          "output_type": "stream",
          "name": "stdout",
          "text": [
            "Names      : ['NLP_CHEST_004']\n",
            "Predictions: ['Chest PA view showed : Impression : - Increased bilateral lung markings. - Suspicious pulmonary edema. - Blunting bilateral CP angles. - Normal heart size. Atherosclerotic aorta. - DJD of spine. - S / P NG and endotracheal tube. S / P Rt jugular CVC insertion.']\n",
            "Labels     : ['Chest PA view show : Impression : - S / P RLL wedge resection. - Bilateral lungs metastasis. - Left lower lung subsegmental atelectasis. - Increased infiltrations in both lungs. - Blunting right CP angle. - Tortuous atherosclerotic aorta. - Scoliosis, DJD and osteoporosis of spine. - Compression fracture of L1.']\n",
            "\n"
          ]
        },
        {
          "output_type": "stream",
          "name": "stderr",
          "text": [
            "\rEvaluting Epoch: 27:  80%|████████  | 8/10 [00:10<00:02,  1.30s/it]"
          ]
        },
        {
          "output_type": "stream",
          "name": "stdout",
          "text": [
            "Names      : ['NLP_CHEST_085']\n",
            "Predictions: ['Chest plain film view showed : Impression : - Suspicious pulmonary edema. Superimposed pneumonia cannot be excluded. - The mediastinum is not widened. - Normal heart size. - DJD of spine. - S / P right chest tube insertion. - Atherosclerotic aorta. - S / P right chest tube insertion.']\n",
            "Labels     : ['Chest X ray : - Right pneumothorax with pleural effusion, status post drainge tube placement. - Extensive subcutaneous emphysema from neck to right side thoracic cage. - Increased right hilar opacity. - Atherosclerosis and tortuous aorta. - Obscured bilateral costophrenic angles. - Spondylosis and mild scoliosis of thoracolumbar spine. - OA of right glenohumeral joint. - Generalized osteopenia.']\n",
            "\n"
          ]
        },
        {
          "output_type": "stream",
          "name": "stderr",
          "text": [
            "\rEvaluting Epoch: 27:  90%|█████████ | 9/10 [00:12<00:01,  1.28s/it]"
          ]
        },
        {
          "output_type": "stream",
          "name": "stdout",
          "text": [
            "Names      : ['NLP_CHEST_027']\n",
            "Predictions: ['Chest plain film shows : Impression : - Suspicious pulmonary edema. Superimposed pneumonia cannot be excluded. - Blunting bilateral CP angles. - Atherosclerotic aorta. - Scoliosis and DJD of spine. - Bilateral apical pleural thickening. - Bilateral apical pleural thickening. - Atherosclerosis of aorta. - Scoliosis, DJD']\n",
            "Labels     : ['Chest PA View : Impression : > Cardiomegaly with bilateral pulmonary congestion. > Postinflammatory fibrosis in both upper lungs. > Atherosclerosis of aorta. > Old fractures of left 5th and 6th ribs. > R / O osteoporosis. > Spondylosis of thoracolumbar spine. > S / P abdominal operation in RUQ.']\n",
            "\n"
          ]
        },
        {
          "output_type": "stream",
          "name": "stderr",
          "text": [
            "Evaluting Epoch: 27: 100%|██████████| 10/10 [00:13<00:00,  1.35s/it]\n"
          ]
        },
        {
          "output_type": "stream",
          "name": "stdout",
          "text": [
            "Names      : ['NLP_CHEST_071']\n",
            "Predictions: ['Chest plain film shows : Impression : - Suspicious right upper lung patch. - Increased infiltrations in both lungs. - Blunting right CP angle. - Tortuous atherosclerotic dilated aorta. - Cardiomegaly. - DJD of spine. S / P Rt jugular CVC insertion.']\n",
            "Labels     : ['Chest film shows : Impression : - Bilateral lung infiltrations. - Suspect right lower lung patch. Blunting right CP angle. - Tortuous atherosclerotic aorta. - Scoliosis, DJD and osteoporosis of spine. Compression fracture of T12. Old fracture of left ribs. - S / P fixation in L - spine. - S / P tracheostomy and NG tube.']\n",
            "\n",
            "Rouge-2 score on epoch 26: {'Rouge-L-P': 0.33775616636868605, 'Rouge-L-R': 0.3075996689786901, 'Rouge-L-F': 0.3075996689786901, 'Rouge-2-P': 0.21826056474533517, 'Rouge-2-R': 0.19485786343827294, 'Rouge-2-F': 0.19485786343827294}\n"
          ]
        },
        {
          "output_type": "stream",
          "name": "stderr",
          "text": [
            "Training Epoch [28 / 30]: 100%|██████████| 89/89 [00:20<00:00,  4.41it/s, loss=0.0535]\n",
            "Evaluting Epoch: 28:  10%|█         | 1/10 [00:01<00:11,  1.28s/it]"
          ]
        },
        {
          "output_type": "stream",
          "name": "stdout",
          "text": [
            "Names      : ['NLP_CHEST_031']\n",
            "Predictions: ['Chest PA view : Impression : - Increased both lung markings. - Fibrotic lesion in left upper lung. - Fibrotic lesion in left upper lung. - Normal heart size. Atherosclerotic aorta. - Suspect right pleural effusion. - Spondylosis. R / O osteoporosis. - Compatible with multiple bony metastases. - S / P Lt']\n",
            "Labels     : ['Chest PA view : Impression : - Increased both lung markings. - Compatible with right lung nodules. - Fibrotic lesion in left upper lung. - Normal heart size. Atherosclerotic aorta. - Suspect right pleural effusion. - Spondylosis. R / O osteoporosis. - Compatible with multiple bony metastases. - S / P NG and endotracheal tube. - S / P Lt subclavian Port - A - cath.']\n",
            "\n"
          ]
        },
        {
          "output_type": "stream",
          "name": "stderr",
          "text": [
            "\rEvaluting Epoch: 28:  20%|██        | 2/10 [00:02<00:10,  1.26s/it]"
          ]
        },
        {
          "output_type": "stream",
          "name": "stdout",
          "text": [
            "Names      : ['NLP_CHEST_011']\n",
            "Predictions: ['Chest plain film shows : Impression : - Suspicious pulmonary edema. Superimposed pneumonia cannot be excluded. - Blunting bilateral CP angles. - Tortuous atherosclerotic dilated aorta. - Cardiomegaly. - Scoliosis, DJD and osteoporosis of spine. - S / P Lt jugular CVC insertion.']\n",
            "Labels     : [\"Chest AP view showed : 1. s / p sternotomy and CABG. Enlarged heart size with tortuous aorta. 2. R't middle and lower lung faint patches. L't lower lung consolidation. L't pleural effusion. 3. No mediastinum widening. 4. s / p endotracheal tube and NG intubation.\"]\n",
            "\n"
          ]
        },
        {
          "output_type": "stream",
          "name": "stderr",
          "text": [
            "\rEvaluting Epoch: 28:  30%|███       | 3/10 [00:03<00:08,  1.26s/it]"
          ]
        },
        {
          "output_type": "stream",
          "name": "stdout",
          "text": [
            "Names      : ['NLP_CHEST_015']\n",
            "Predictions: ['Chest PA view shows : > No obvious lung mass nor consolidation patch. > Normal heart size. > No pleural effusion.']\n",
            "Labels     : ['Chest X ray : - No obvious lung mass nor consolidation patch. - Normal heart size. - No pleural effusion.']\n",
            "\n"
          ]
        },
        {
          "output_type": "stream",
          "name": "stderr",
          "text": [
            "\rEvaluting Epoch: 28:  40%|████      | 4/10 [00:05<00:08,  1.42s/it]"
          ]
        },
        {
          "output_type": "stream",
          "name": "stdout",
          "text": [
            "Names      : ['NLP_CHEST_002']\n",
            "Predictions: ['Chest PA view shows : Impression : > Bilateral lung markings increased. > No pleural effusion. > The heart shadow is not widened. > The aortic shadow is atherosclerotic and tortuous. > S / P right chest tube insertion. > S / P right chest tube insertion.']\n",
            "Labels     : ['Chest PA view shows : Partial atelectasis at left lower lung field. Left pleural effusion. Borderline heart size. Atherosclerotic change of aortic knob. S / P port - A implantation via left subclavian vein. Intraperitoneal port catheter. Surgical clips at RUQ of abdomen.']\n",
            "\n"
          ]
        },
        {
          "output_type": "stream",
          "name": "stderr",
          "text": [
            "\rEvaluting Epoch: 28:  50%|█████     | 5/10 [00:07<00:07,  1.52s/it]"
          ]
        },
        {
          "output_type": "stream",
          "name": "stdout",
          "text": [
            "Names      : ['NLP_CHEST_057']\n",
            "Predictions: ['Chest plain film shows : Impression : - Increased infiltrations in both lungs. - Blunting bilateral CP angles. - Tortuous atherosclerotic dilated aorta. - Normal heart size. - DJD of spine. S / P Rt jugular CVC insertion.']\n",
            "Labels     : ['Chest plain film shows : Impression : - Increased infiltrations in both lungs. - Tortuous atherosclerotic dilated aorta. - Normal heart size. - DJD of spine. Old fracture of right ribs. - Increased both lung markings. S / P Lt jugular CVC insertion. S / P NG and endotracheal tube. - Susp. Lt pneumothorax. Suspect pneumomediastinum. Subcutaneous emphysema in bilateral neck. - S / P bilateral chest tube insertion.']\n",
            "\n"
          ]
        },
        {
          "output_type": "stream",
          "name": "stderr",
          "text": [
            "\rEvaluting Epoch: 28:  60%|██████    | 6/10 [00:08<00:05,  1.43s/it]"
          ]
        },
        {
          "output_type": "stream",
          "name": "stdout",
          "text": [
            "Names      : ['NLP_CHEST_059']\n",
            "Predictions: ['Chest plain film shows : Impression : - Increased infiltrations in both lungs. - Blunting bilateral CP angles. - Cardiomegaly. - Atherosclerotic aorta. - Scoliosis and DJD of spine. - Bilateral apical pleural thickening.']\n",
            "Labels     : ['Supine chest AP view shows : Pigtail catheter at right lower chest. Decreased amount of right pleural effusion. Air in the right lower pleural space. Poor lung expansion. Mild subcutaneous emphysema at right chest wall. Right pleural thickening. Ill - defined masses at right perihilar region. Normal heart size.']\n",
            "\n"
          ]
        },
        {
          "output_type": "stream",
          "name": "stderr",
          "text": [
            "\rEvaluting Epoch: 28:  70%|███████   | 7/10 [00:09<00:04,  1.37s/it]"
          ]
        },
        {
          "output_type": "stream",
          "name": "stdout",
          "text": [
            "Names      : ['NLP_CHEST_004']\n",
            "Predictions: ['Chest plain film shows : Impression : - Increased infiltrations in both lungs. - Blunting bilateral CP angles. - Cardiomegaly. - Atherosclerotic aorta. - Scoliosis and DJD of spine. - S / P NG and endotracheal tube. S / P Rt jugular CVC insertion.']\n",
            "Labels     : ['Chest PA view show : Impression : - S / P RLL wedge resection. - Bilateral lungs metastasis. - Left lower lung subsegmental atelectasis. - Increased infiltrations in both lungs. - Blunting right CP angle. - Tortuous atherosclerotic aorta. - Scoliosis, DJD and osteoporosis of spine. - Compression fracture of L1.']\n",
            "\n"
          ]
        },
        {
          "output_type": "stream",
          "name": "stderr",
          "text": [
            "\rEvaluting Epoch: 28:  80%|████████  | 8/10 [00:10<00:02,  1.32s/it]"
          ]
        },
        {
          "output_type": "stream",
          "name": "stdout",
          "text": [
            "Names      : ['NLP_CHEST_085']\n",
            "Predictions: ['Chest plain film view showed : Impression : - Suspicious right upper lung nodule. - Increased both lung markings. - Blunting bilateral CP angles. - Tortuous atherosclerotic dilated aorta. - Normal heart size. - DJD of spine. - S / P left pleural pigtail tube insertion.']\n",
            "Labels     : ['Chest X ray : - Right pneumothorax with pleural effusion, status post drainge tube placement. - Extensive subcutaneous emphysema from neck to right side thoracic cage. - Increased right hilar opacity. - Atherosclerosis and tortuous aorta. - Obscured bilateral costophrenic angles. - Spondylosis and mild scoliosis of thoracolumbar spine. - OA of right glenohumeral joint. - Generalized osteopenia.']\n",
            "\n"
          ]
        },
        {
          "output_type": "stream",
          "name": "stderr",
          "text": [
            "\rEvaluting Epoch: 28:  90%|█████████ | 9/10 [00:12<00:01,  1.30s/it]"
          ]
        },
        {
          "output_type": "stream",
          "name": "stdout",
          "text": [
            "Names      : ['NLP_CHEST_027']\n",
            "Predictions: ['Chest plain film shows : Impression : - Suspicious right upper lung patch. - Increased infiltrations in both lungs. - Blunting bilateral CP angles. - Atherosclerotic aorta. - Scoliosis and DJD of spine. - Bilateral apical pleural thickening. - Bilateral apical pleural thickening. - S / P Rt jugular CVC insertion.']\n",
            "Labels     : ['Chest PA View : Impression : > Cardiomegaly with bilateral pulmonary congestion. > Postinflammatory fibrosis in both upper lungs. > Atherosclerosis of aorta. > Old fractures of left 5th and 6th ribs. > R / O osteoporosis. > Spondylosis of thoracolumbar spine. > S / P abdominal operation in RUQ.']\n",
            "\n"
          ]
        },
        {
          "output_type": "stream",
          "name": "stderr",
          "text": [
            "Evaluting Epoch: 28: 100%|██████████| 10/10 [00:13<00:00,  1.34s/it]\n"
          ]
        },
        {
          "output_type": "stream",
          "name": "stdout",
          "text": [
            "Names      : ['NLP_CHEST_071']\n",
            "Predictions: ['Chest plain film shows : Impression : - Suspicious right upper lung patch. - Increased infiltrations in both lungs. - Tortuous atherosclerotic dilated aorta. - Normal heart size. - DJD of spine. - S / P Rt jugular CVC insertion.']\n",
            "Labels     : ['Chest film shows : Impression : - Bilateral lung infiltrations. - Suspect right lower lung patch. Blunting right CP angle. - Tortuous atherosclerotic aorta. - Scoliosis, DJD and osteoporosis of spine. Compression fracture of T12. Old fracture of left ribs. - S / P fixation in L - spine. - S / P tracheostomy and NG tube.']\n",
            "\n",
            "Rouge-2 score on epoch 27: {'Rouge-L-P': 0.341924806935414, 'Rouge-L-R': 0.30990400610094876, 'Rouge-L-F': 0.30990400610094876, 'Rouge-2-P': 0.2222659976692847, 'Rouge-2-R': 0.19723146659377086, 'Rouge-2-F': 0.19723146659377086}\n"
          ]
        },
        {
          "output_type": "stream",
          "name": "stderr",
          "text": [
            "Training Epoch [29 / 30]: 100%|██████████| 89/89 [00:20<00:00,  4.42it/s, loss=0.0476]\n",
            "Evaluting Epoch: 29:  10%|█         | 1/10 [00:01<00:12,  1.36s/it]"
          ]
        },
        {
          "output_type": "stream",
          "name": "stdout",
          "text": [
            "Names      : ['NLP_CHEST_031']\n",
            "Predictions: ['Chest PA view : Impression : - Increased both lung markings. - Fibrotic lesion in left upper lung. - Fibrotic lesion in left upper lung. - Normal heart size. Atherosclerotic aorta. - Suspect right pleural effusion. - Spondylosis. R / O osteoporosis. - Compatible with multiple bony metastases. - S / P N']\n",
            "Labels     : ['Chest PA view : Impression : - Increased both lung markings. - Compatible with right lung nodules. - Fibrotic lesion in left upper lung. - Normal heart size. Atherosclerotic aorta. - Suspect right pleural effusion. - Spondylosis. R / O osteoporosis. - Compatible with multiple bony metastases. - S / P NG and endotracheal tube. - S / P Lt subclavian Port - A - cath.']\n",
            "\n"
          ]
        },
        {
          "output_type": "stream",
          "name": "stderr",
          "text": [
            "\rEvaluting Epoch: 29:  20%|██        | 2/10 [00:02<00:10,  1.31s/it]"
          ]
        },
        {
          "output_type": "stream",
          "name": "stdout",
          "text": [
            "Names      : ['NLP_CHEST_011']\n",
            "Predictions: [\"Chest AP view showed : 1. Enlarged heart size with tortuous aorta. 2. Bilateral lung reticulonodular infiltrations. A R't upper lung mass. R't middle and lower lung faint patches. 3. No mediastinum widening. 4. s / p endotracheal tube and NG intubation. s / p R't jugular CVP.\"]\n",
            "Labels     : [\"Chest AP view showed : 1. s / p sternotomy and CABG. Enlarged heart size with tortuous aorta. 2. R't middle and lower lung faint patches. L't lower lung consolidation. L't pleural effusion. 3. No mediastinum widening. 4. s / p endotracheal tube and NG intubation.\"]\n",
            "\n"
          ]
        },
        {
          "output_type": "stream",
          "name": "stderr",
          "text": [
            "\rEvaluting Epoch: 29:  30%|███       | 3/10 [00:03<00:09,  1.29s/it]"
          ]
        },
        {
          "output_type": "stream",
          "name": "stdout",
          "text": [
            "Names      : ['NLP_CHEST_015']\n",
            "Predictions: ['Chest PA view shows : > No obvious lung mass nor consolidation patch. > Normal heart size. > No pleural effusion.']\n",
            "Labels     : ['Chest X ray : - No obvious lung mass nor consolidation patch. - Normal heart size. - No pleural effusion.']\n",
            "\n"
          ]
        },
        {
          "output_type": "stream",
          "name": "stderr",
          "text": [
            "\rEvaluting Epoch: 29:  40%|████      | 4/10 [00:05<00:07,  1.27s/it]"
          ]
        },
        {
          "output_type": "stream",
          "name": "stdout",
          "text": [
            "Names      : ['NLP_CHEST_002']\n",
            "Predictions: ['Chest PA view shows : Impression : > Increased bilateral lung markings. > Cardiomegaly. > Atherosclerotic aorta. > Spondylosis. > Spondylosis of spine. > S / P NG and endotracheal tube.']\n",
            "Labels     : ['Chest PA view shows : Partial atelectasis at left lower lung field. Left pleural effusion. Borderline heart size. Atherosclerotic change of aortic knob. S / P port - A implantation via left subclavian vein. Intraperitoneal port catheter. Surgical clips at RUQ of abdomen.']\n",
            "\n"
          ]
        },
        {
          "output_type": "stream",
          "name": "stderr",
          "text": [
            "\rEvaluting Epoch: 29:  50%|█████     | 5/10 [00:06<00:06,  1.27s/it]"
          ]
        },
        {
          "output_type": "stream",
          "name": "stdout",
          "text": [
            "Names      : ['NLP_CHEST_057']\n",
            "Predictions: ['Chest PA view shows : Impression : - Increased both lung markings. - Suspect pulmonary fibrosis. - Blunting bilateral CP angles. - Normal heart size. Atherosclerotic aorta. - DJD of spine. - S / P NG and endotracheal tube. S / P Rt jugular CVC insertion.']\n",
            "Labels     : ['Chest plain film shows : Impression : - Increased infiltrations in both lungs. - Tortuous atherosclerotic dilated aorta. - Normal heart size. - DJD of spine. Old fracture of right ribs. - Increased both lung markings. S / P Lt jugular CVC insertion. S / P NG and endotracheal tube. - Susp. Lt pneumothorax. Suspect pneumomediastinum. Subcutaneous emphysema in bilateral neck. - S / P bilateral chest tube insertion.']\n",
            "\n"
          ]
        },
        {
          "output_type": "stream",
          "name": "stderr",
          "text": [
            "\rEvaluting Epoch: 29:  60%|██████    | 6/10 [00:07<00:05,  1.26s/it]"
          ]
        },
        {
          "output_type": "stream",
          "name": "stdout",
          "text": [
            "Names      : ['NLP_CHEST_059']\n",
            "Predictions: ['Chest plain film shows : Impression : - Increased both lung markings. - Suspect bilateral lower lung patch. - Blunting bilateral CP angles. - Atherosclerotic aorta. - Scoliosis and DJD of spine. - Bilateral apical pleural thickening.']\n",
            "Labels     : ['Supine chest AP view shows : Pigtail catheter at right lower chest. Decreased amount of right pleural effusion. Air in the right lower pleural space. Poor lung expansion. Mild subcutaneous emphysema at right chest wall. Right pleural thickening. Ill - defined masses at right perihilar region. Normal heart size.']\n",
            "\n"
          ]
        },
        {
          "output_type": "stream",
          "name": "stderr",
          "text": [
            "\rEvaluting Epoch: 29:  70%|███████   | 7/10 [00:08<00:03,  1.26s/it]"
          ]
        },
        {
          "output_type": "stream",
          "name": "stdout",
          "text": [
            "Names      : ['NLP_CHEST_004']\n",
            "Predictions: ['Chest PA view shows : Impression : - Increased bilateral lung markings. - Suspect atelectasis in both lower lung fields. - Blunting bilateral CP angles. - Atherosclerotic aorta. - Scoliosis and DJD of spine. - Spondylosis of spine. S / P Rt jugular CVC insertion.']\n",
            "Labels     : ['Chest PA view show : Impression : - S / P RLL wedge resection. - Bilateral lungs metastasis. - Left lower lung subsegmental atelectasis. - Increased infiltrations in both lungs. - Blunting right CP angle. - Tortuous atherosclerotic aorta. - Scoliosis, DJD and osteoporosis of spine. - Compression fracture of L1.']\n",
            "\n"
          ]
        },
        {
          "output_type": "stream",
          "name": "stderr",
          "text": [
            "\rEvaluting Epoch: 29:  80%|████████  | 8/10 [00:10<00:02,  1.25s/it]"
          ]
        },
        {
          "output_type": "stream",
          "name": "stdout",
          "text": [
            "Names      : ['NLP_CHEST_085']\n",
            "Predictions: ['Chest plain film view showed : Impression : - Suspicious right upper lung mass. Bilateral lung nodules. - Increased both lung markings. - Tortuous atherosclerotic dilated aorta. - Cardiomegaly. - Scoliosis, DJD and osteoporosis of spine. - S / P fixation in L2.']\n",
            "Labels     : ['Chest X ray : - Right pneumothorax with pleural effusion, status post drainge tube placement. - Extensive subcutaneous emphysema from neck to right side thoracic cage. - Increased right hilar opacity. - Atherosclerosis and tortuous aorta. - Obscured bilateral costophrenic angles. - Spondylosis and mild scoliosis of thoracolumbar spine. - OA of right glenohumeral joint. - Generalized osteopenia.']\n",
            "\n"
          ]
        },
        {
          "output_type": "stream",
          "name": "stderr",
          "text": [
            "\rEvaluting Epoch: 29:  90%|█████████ | 9/10 [00:11<00:01,  1.40s/it]"
          ]
        },
        {
          "output_type": "stream",
          "name": "stdout",
          "text": [
            "Names      : ['NLP_CHEST_027']\n",
            "Predictions: ['Chest plain film shows : Impression : - Increased both lung markings. - Suspect right lower lung patch. - Cardiomegaly. - Atherosclerotic aorta. - Scoliosis and DJD of spine. - Bilateral apical pleural thickening. - Bilateral apical pleural thickening. - Spondylosis of spine.']\n",
            "Labels     : ['Chest PA View : Impression : > Cardiomegaly with bilateral pulmonary congestion. > Postinflammatory fibrosis in both upper lungs. > Atherosclerosis of aorta. > Old fractures of left 5th and 6th ribs. > R / O osteoporosis. > Spondylosis of thoracolumbar spine. > S / P abdominal operation in RUQ.']\n",
            "\n"
          ]
        },
        {
          "output_type": "stream",
          "name": "stderr",
          "text": [
            "Evaluting Epoch: 29: 100%|██████████| 10/10 [00:13<00:00,  1.38s/it]\n"
          ]
        },
        {
          "output_type": "stream",
          "name": "stdout",
          "text": [
            "Names      : ['NLP_CHEST_071']\n",
            "Predictions: ['Chest plain film shows : Impression : - Suspicious right upper lung patch. - Increased both lung markings. - Blunting bilateral CP angles. - Tortuous atherosclerotic dilated aorta. - Normal heart size. - DJD of spine. - S / P Rt jugular CVC insertion.']\n",
            "Labels     : ['Chest film shows : Impression : - Bilateral lung infiltrations. - Suspect right lower lung patch. Blunting right CP angle. - Tortuous atherosclerotic aorta. - Scoliosis, DJD and osteoporosis of spine. Compression fracture of T12. Old fracture of left ribs. - S / P fixation in L - spine. - S / P tracheostomy and NG tube.']\n",
            "\n",
            "Rouge-2 score on epoch 28: {'Rouge-L-P': 0.34740887864889297, 'Rouge-L-R': 0.3138959999609629, 'Rouge-L-F': 0.3138959999609629, 'Rouge-2-P': 0.22718610646610113, 'Rouge-2-R': 0.20119039682977305, 'Rouge-2-F': 0.20119039682977305}\n"
          ]
        },
        {
          "output_type": "stream",
          "name": "stderr",
          "text": [
            "Training Epoch [30 / 30]: 100%|██████████| 89/89 [00:20<00:00,  4.43it/s, loss=0.0414]\n",
            "Evaluting Epoch: 30:  10%|█         | 1/10 [00:01<00:12,  1.40s/it]"
          ]
        },
        {
          "output_type": "stream",
          "name": "stdout",
          "text": [
            "Names      : ['NLP_CHEST_031']\n",
            "Predictions: ['Chest PA view : Impression : - Increased both lung markings. - Compatible with right lung nodules. - Fibrotic lesion in left upper lung. - Normal heart size. Atherosclerotic aorta. - Suspect right pleural effusion. - Spondylosis. R / O osteoporosis. - Compatible with multiple bony metastases. - S / P N']\n",
            "Labels     : ['Chest PA view : Impression : - Increased both lung markings. - Compatible with right lung nodules. - Fibrotic lesion in left upper lung. - Normal heart size. Atherosclerotic aorta. - Suspect right pleural effusion. - Spondylosis. R / O osteoporosis. - Compatible with multiple bony metastases. - S / P NG and endotracheal tube. - S / P Lt subclavian Port - A - cath.']\n",
            "\n"
          ]
        },
        {
          "output_type": "stream",
          "name": "stderr",
          "text": [
            "\rEvaluting Epoch: 30:  20%|██        | 2/10 [00:03<00:13,  1.64s/it]"
          ]
        },
        {
          "output_type": "stream",
          "name": "stdout",
          "text": [
            "Names      : ['NLP_CHEST_011']\n",
            "Predictions: [\"Chest AP view showed : 1. Normal heart size with tortuous aorta. 2. R't middle lung and L't lower lung reticulonodular infiltrations. Mild L't pleural effusion. 3. No mediastinum widening. 4. s / p endotracheal tube and NG intubation. s / p R't jugular CVP.\"]\n",
            "Labels     : [\"Chest AP view showed : 1. s / p sternotomy and CABG. Enlarged heart size with tortuous aorta. 2. R't middle and lower lung faint patches. L't lower lung consolidation. L't pleural effusion. 3. No mediastinum widening. 4. s / p endotracheal tube and NG intubation.\"]\n",
            "\n"
          ]
        },
        {
          "output_type": "stream",
          "name": "stderr",
          "text": [
            "\rEvaluting Epoch: 30:  30%|███       | 3/10 [00:04<00:10,  1.53s/it]"
          ]
        },
        {
          "output_type": "stream",
          "name": "stdout",
          "text": [
            "Names      : ['NLP_CHEST_015']\n",
            "Predictions: ['Chest PA view shows : Large mass occupying right upper chest. Normal heart size.']\n",
            "Labels     : ['Chest X ray : - No obvious lung mass nor consolidation patch. - Normal heart size. - No pleural effusion.']\n",
            "\n"
          ]
        },
        {
          "output_type": "stream",
          "name": "stderr",
          "text": [
            "\rEvaluting Epoch: 30:  40%|████      | 4/10 [00:05<00:08,  1.42s/it]"
          ]
        },
        {
          "output_type": "stream",
          "name": "stdout",
          "text": [
            "Names      : ['NLP_CHEST_002']\n",
            "Predictions: ['Chest PA view shows : Impression : > No obvious lung mass nor consolidation patch. > Normal heart size. > No pleural effusion.']\n",
            "Labels     : ['Chest PA view shows : Partial atelectasis at left lower lung field. Left pleural effusion. Borderline heart size. Atherosclerotic change of aortic knob. S / P port - A implantation via left subclavian vein. Intraperitoneal port catheter. Surgical clips at RUQ of abdomen.']\n",
            "\n"
          ]
        },
        {
          "output_type": "stream",
          "name": "stderr",
          "text": [
            "\rEvaluting Epoch: 30:  50%|█████     | 5/10 [00:07<00:06,  1.36s/it]"
          ]
        },
        {
          "output_type": "stream",
          "name": "stdout",
          "text": [
            "Names      : ['NLP_CHEST_057']\n",
            "Predictions: ['Chest PA view shows : Impression : - Increased infiltrations in both lungs. - Blunting bilateral CP angles. - Normal heart size. - Atherosclerotic aorta. - DJD of spine. - S / P NG and endotracheal tube. S / P Rt jugular CVC insertion.']\n",
            "Labels     : ['Chest plain film shows : Impression : - Increased infiltrations in both lungs. - Tortuous atherosclerotic dilated aorta. - Normal heart size. - DJD of spine. Old fracture of right ribs. - Increased both lung markings. S / P Lt jugular CVC insertion. S / P NG and endotracheal tube. - Susp. Lt pneumothorax. Suspect pneumomediastinum. Subcutaneous emphysema in bilateral neck. - S / P bilateral chest tube insertion.']\n",
            "\n"
          ]
        },
        {
          "output_type": "stream",
          "name": "stderr",
          "text": [
            "\rEvaluting Epoch: 30:  60%|██████    | 6/10 [00:08<00:05,  1.32s/it]"
          ]
        },
        {
          "output_type": "stream",
          "name": "stdout",
          "text": [
            "Names      : ['NLP_CHEST_059']\n",
            "Predictions: ['Chest plain film shows : Impression : - Increased infiltrations in both lungs. - Blunting bilateral CP angles. - Atherosclerotic aorta. - Normal heart size. - DJD of spine. - S / P fixation in C - spine.']\n",
            "Labels     : ['Supine chest AP view shows : Pigtail catheter at right lower chest. Decreased amount of right pleural effusion. Air in the right lower pleural space. Poor lung expansion. Mild subcutaneous emphysema at right chest wall. Right pleural thickening. Ill - defined masses at right perihilar region. Normal heart size.']\n",
            "\n"
          ]
        },
        {
          "output_type": "stream",
          "name": "stderr",
          "text": [
            "\rEvaluting Epoch: 30:  70%|███████   | 7/10 [00:09<00:03,  1.31s/it]"
          ]
        },
        {
          "output_type": "stream",
          "name": "stdout",
          "text": [
            "Names      : ['NLP_CHEST_004']\n",
            "Predictions: ['Chest plain film shows : Impression : - Increased infiltrations in both lungs. - Blunting bilateral CP angles. - Cardiomegaly. - Atherosclerotic aorta. - Scoliosis and DJD of spine. - S / P NG and endotracheal tube. S / P Rt jugular CVC insertion.']\n",
            "Labels     : ['Chest PA view show : Impression : - S / P RLL wedge resection. - Bilateral lungs metastasis. - Left lower lung subsegmental atelectasis. - Increased infiltrations in both lungs. - Blunting right CP angle. - Tortuous atherosclerotic aorta. - Scoliosis, DJD and osteoporosis of spine. - Compression fracture of L1.']\n",
            "\n"
          ]
        },
        {
          "output_type": "stream",
          "name": "stderr",
          "text": [
            "\rEvaluting Epoch: 30:  80%|████████  | 8/10 [00:10<00:02,  1.29s/it]"
          ]
        },
        {
          "output_type": "stream",
          "name": "stdout",
          "text": [
            "Names      : ['NLP_CHEST_085']\n",
            "Predictions: ['Chest plain film view showed : Impression : - Increased infiltrations in both lungs. - Blunting left CP angle. - Normal heart size. - Atherosclerotic aorta. - DJD of spine. - S / P NG and endotracheal tube. S / P Rt jugular CVC insertion.']\n",
            "Labels     : ['Chest X ray : - Right pneumothorax with pleural effusion, status post drainge tube placement. - Extensive subcutaneous emphysema from neck to right side thoracic cage. - Increased right hilar opacity. - Atherosclerosis and tortuous aorta. - Obscured bilateral costophrenic angles. - Spondylosis and mild scoliosis of thoracolumbar spine. - OA of right glenohumeral joint. - Generalized osteopenia.']\n",
            "\n"
          ]
        },
        {
          "output_type": "stream",
          "name": "stderr",
          "text": [
            "\rEvaluting Epoch: 30:  90%|█████████ | 9/10 [00:12<00:01,  1.27s/it]"
          ]
        },
        {
          "output_type": "stream",
          "name": "stdout",
          "text": [
            "Names      : ['NLP_CHEST_027']\n",
            "Predictions: ['Chest plain film shows : Impression : - Suspicious right upper lung patch. - Increased infiltrations in both lungs. - Blunting bilateral CP angles. - Atherosclerotic aorta. - Scoliosis and DJD of spine. - Bilateral apical pleural thickening. - S / P NG and endotracheal tube.']\n",
            "Labels     : ['Chest PA View : Impression : > Cardiomegaly with bilateral pulmonary congestion. > Postinflammatory fibrosis in both upper lungs. > Atherosclerosis of aorta. > Old fractures of left 5th and 6th ribs. > R / O osteoporosis. > Spondylosis of thoracolumbar spine. > S / P abdominal operation in RUQ.']\n",
            "\n"
          ]
        },
        {
          "output_type": "stream",
          "name": "stderr",
          "text": [
            "Evaluting Epoch: 30: 100%|██████████| 10/10 [00:13<00:00,  1.34s/it]"
          ]
        },
        {
          "output_type": "stream",
          "name": "stdout",
          "text": [
            "Names      : ['NLP_CHEST_071']\n",
            "Predictions: ['Chest plain film shows : Impression : - Increased infiltrations in both lungs. - Blunting bilateral CP angles. - Tortuous atherosclerotic dilated aorta. - Cardiomegaly. - DJD of spine. - S / P NG and endotracheal tube. S / P Rt jugular CVC insertion.']\n",
            "Labels     : ['Chest film shows : Impression : - Bilateral lung infiltrations. - Suspect right lower lung patch. Blunting right CP angle. - Tortuous atherosclerotic aorta. - Scoliosis, DJD and osteoporosis of spine. Compression fracture of T12. Old fracture of left ribs. - S / P fixation in L - spine. - S / P tracheostomy and NG tube.']\n",
            "\n",
            "Rouge-2 score on epoch 29: {'Rouge-L-P': 0.3524809996895963, 'Rouge-L-R': 0.31644925997667717, 'Rouge-L-F': 0.31644925997667717, 'Rouge-2-P': 0.23224644011153853, 'Rouge-2-R': 0.2043349967517373, 'Rouge-2-F': 0.2043349967517373}\n"
          ]
        },
        {
          "output_type": "stream",
          "name": "stderr",
          "text": [
            "\n"
          ]
        }
      ],
      "source": [
        "min_loss = float(\"inf\")\n",
        "rouge_result = []\n",
        "for epoch in range(epochs):\n",
        "    model.train()\n",
        "\n",
        "    pbar = tqdm(train_dataloader)\n",
        "    pbar.set_description(f\"Training Epoch [{epoch + 1} / {epochs}]\")\n",
        "\n",
        "    lost_list = []\n",
        "    average_loss = 0\n",
        "\n",
        "    for _, pixel_values, label_ids in pbar:\n",
        "        optimizer.zero_grad()\n",
        "\n",
        "        loss = model(\n",
        "            pixel_values=pixel_values,\n",
        "            labels=label_ids\n",
        "        ).loss\n",
        "\n",
        "        lost_list.append(loss.item())\n",
        "        average_loss = np.mean(np.array(lost_list))\n",
        "        loss.backward()\n",
        "        optimizer.step()\n",
        "\n",
        "        pbar.set_postfix(loss=average_loss)\n",
        "\n",
        "    if average_loss < min_loss:\n",
        "        min_loss = average_loss\n",
        "        torch.save(model.state_dict(), f\"/content/outputs/best_checkpoint.pth\")\n",
        "    result = evaluate(model=model, epoch=epoch)\n",
        "    rouge_result.append(result)\n",
        "    print(f\"Rouge-2 score on epoch {epoch}:\", result)"
      ]
    },
    {
      "cell_type": "code",
      "execution_count": 40,
      "metadata": {
        "colab": {
          "base_uri": "https://localhost:8080/",
          "height": 990
        },
        "id": "AFa-n46FVL5T",
        "outputId": "387ded8b-9570-4814-927d-6c0c82f570ec"
      },
      "outputs": [
        {
          "output_type": "execute_result",
          "data": {
            "text/plain": [
              "    Rouge-L-P  Rouge-L-R  Rouge-L-F  Rouge-2-P  Rouge-2-R  Rouge-2-F\n",
              "0    0.000000   0.000000   0.000000   0.000000   0.000000   0.000000\n",
              "1    0.000000   0.000000   0.000000   0.000000   0.000000   0.000000\n",
              "2    0.076471   0.084384   0.084384   0.036980   0.038188   0.038188\n",
              "3    0.116153   0.137362   0.137362   0.060555   0.069650   0.069650\n",
              "4    0.146011   0.167390   0.167390   0.075101   0.083861   0.083861\n",
              "5    0.165988   0.183030   0.183030   0.083622   0.089256   0.089256\n",
              "6    0.190250   0.199816   0.199816   0.100797   0.100932   0.100932\n",
              "7    0.202408   0.207379   0.207379   0.108528   0.105012   0.105012\n",
              "8    0.210945   0.217672   0.217672   0.113037   0.112265   0.112265\n",
              "9    0.220641   0.224434   0.224434   0.121851   0.119165   0.119165\n",
              "10   0.234633   0.235443   0.235443   0.132964   0.128838   0.128838\n",
              "11   0.239264   0.241311   0.241311   0.135815   0.133587   0.133587\n",
              "12   0.246305   0.247643   0.247643   0.140940   0.138854   0.138854\n",
              "13   0.256297   0.252282   0.252282   0.148629   0.143261   0.143261\n",
              "14   0.265078   0.258260   0.258260   0.155945   0.148913   0.148913\n",
              "15   0.274442   0.260719   0.260719   0.164662   0.152803   0.152803\n",
              "16   0.281010   0.266621   0.266621   0.169721   0.157512   0.157512\n",
              "17   0.289040   0.273440   0.273440   0.176464   0.163509   0.163509\n",
              "18   0.295242   0.277714   0.277714   0.181332   0.167066   0.167066\n",
              "19   0.298213   0.278972   0.278972   0.183681   0.167991   0.167991\n",
              "20   0.305484   0.284919   0.284919   0.190010   0.173270   0.173270\n",
              "21   0.310265   0.287816   0.287816   0.192510   0.174956   0.174956\n",
              "22   0.316149   0.291703   0.291703   0.198230   0.179038   0.179038\n",
              "23   0.323496   0.297959   0.297959   0.205013   0.184954   0.184954\n",
              "24   0.327252   0.299511   0.299511   0.207877   0.186381   0.186381\n",
              "25   0.332524   0.303435   0.303435   0.212857   0.190390   0.190390\n",
              "26   0.337756   0.307600   0.307600   0.218261   0.194858   0.194858\n",
              "27   0.341925   0.309904   0.309904   0.222266   0.197231   0.197231\n",
              "28   0.347409   0.313896   0.313896   0.227186   0.201190   0.201190\n",
              "29   0.352481   0.316449   0.316449   0.232246   0.204335   0.204335"
            ],
            "text/html": [
              "\n",
              "  <div id=\"df-92326349-2818-4e17-bf7e-88f67de53f88\" class=\"colab-df-container\">\n",
              "    <div>\n",
              "<style scoped>\n",
              "    .dataframe tbody tr th:only-of-type {\n",
              "        vertical-align: middle;\n",
              "    }\n",
              "\n",
              "    .dataframe tbody tr th {\n",
              "        vertical-align: top;\n",
              "    }\n",
              "\n",
              "    .dataframe thead th {\n",
              "        text-align: right;\n",
              "    }\n",
              "</style>\n",
              "<table border=\"1\" class=\"dataframe\">\n",
              "  <thead>\n",
              "    <tr style=\"text-align: right;\">\n",
              "      <th></th>\n",
              "      <th>Rouge-L-P</th>\n",
              "      <th>Rouge-L-R</th>\n",
              "      <th>Rouge-L-F</th>\n",
              "      <th>Rouge-2-P</th>\n",
              "      <th>Rouge-2-R</th>\n",
              "      <th>Rouge-2-F</th>\n",
              "    </tr>\n",
              "  </thead>\n",
              "  <tbody>\n",
              "    <tr>\n",
              "      <th>0</th>\n",
              "      <td>0.000000</td>\n",
              "      <td>0.000000</td>\n",
              "      <td>0.000000</td>\n",
              "      <td>0.000000</td>\n",
              "      <td>0.000000</td>\n",
              "      <td>0.000000</td>\n",
              "    </tr>\n",
              "    <tr>\n",
              "      <th>1</th>\n",
              "      <td>0.000000</td>\n",
              "      <td>0.000000</td>\n",
              "      <td>0.000000</td>\n",
              "      <td>0.000000</td>\n",
              "      <td>0.000000</td>\n",
              "      <td>0.000000</td>\n",
              "    </tr>\n",
              "    <tr>\n",
              "      <th>2</th>\n",
              "      <td>0.076471</td>\n",
              "      <td>0.084384</td>\n",
              "      <td>0.084384</td>\n",
              "      <td>0.036980</td>\n",
              "      <td>0.038188</td>\n",
              "      <td>0.038188</td>\n",
              "    </tr>\n",
              "    <tr>\n",
              "      <th>3</th>\n",
              "      <td>0.116153</td>\n",
              "      <td>0.137362</td>\n",
              "      <td>0.137362</td>\n",
              "      <td>0.060555</td>\n",
              "      <td>0.069650</td>\n",
              "      <td>0.069650</td>\n",
              "    </tr>\n",
              "    <tr>\n",
              "      <th>4</th>\n",
              "      <td>0.146011</td>\n",
              "      <td>0.167390</td>\n",
              "      <td>0.167390</td>\n",
              "      <td>0.075101</td>\n",
              "      <td>0.083861</td>\n",
              "      <td>0.083861</td>\n",
              "    </tr>\n",
              "    <tr>\n",
              "      <th>5</th>\n",
              "      <td>0.165988</td>\n",
              "      <td>0.183030</td>\n",
              "      <td>0.183030</td>\n",
              "      <td>0.083622</td>\n",
              "      <td>0.089256</td>\n",
              "      <td>0.089256</td>\n",
              "    </tr>\n",
              "    <tr>\n",
              "      <th>6</th>\n",
              "      <td>0.190250</td>\n",
              "      <td>0.199816</td>\n",
              "      <td>0.199816</td>\n",
              "      <td>0.100797</td>\n",
              "      <td>0.100932</td>\n",
              "      <td>0.100932</td>\n",
              "    </tr>\n",
              "    <tr>\n",
              "      <th>7</th>\n",
              "      <td>0.202408</td>\n",
              "      <td>0.207379</td>\n",
              "      <td>0.207379</td>\n",
              "      <td>0.108528</td>\n",
              "      <td>0.105012</td>\n",
              "      <td>0.105012</td>\n",
              "    </tr>\n",
              "    <tr>\n",
              "      <th>8</th>\n",
              "      <td>0.210945</td>\n",
              "      <td>0.217672</td>\n",
              "      <td>0.217672</td>\n",
              "      <td>0.113037</td>\n",
              "      <td>0.112265</td>\n",
              "      <td>0.112265</td>\n",
              "    </tr>\n",
              "    <tr>\n",
              "      <th>9</th>\n",
              "      <td>0.220641</td>\n",
              "      <td>0.224434</td>\n",
              "      <td>0.224434</td>\n",
              "      <td>0.121851</td>\n",
              "      <td>0.119165</td>\n",
              "      <td>0.119165</td>\n",
              "    </tr>\n",
              "    <tr>\n",
              "      <th>10</th>\n",
              "      <td>0.234633</td>\n",
              "      <td>0.235443</td>\n",
              "      <td>0.235443</td>\n",
              "      <td>0.132964</td>\n",
              "      <td>0.128838</td>\n",
              "      <td>0.128838</td>\n",
              "    </tr>\n",
              "    <tr>\n",
              "      <th>11</th>\n",
              "      <td>0.239264</td>\n",
              "      <td>0.241311</td>\n",
              "      <td>0.241311</td>\n",
              "      <td>0.135815</td>\n",
              "      <td>0.133587</td>\n",
              "      <td>0.133587</td>\n",
              "    </tr>\n",
              "    <tr>\n",
              "      <th>12</th>\n",
              "      <td>0.246305</td>\n",
              "      <td>0.247643</td>\n",
              "      <td>0.247643</td>\n",
              "      <td>0.140940</td>\n",
              "      <td>0.138854</td>\n",
              "      <td>0.138854</td>\n",
              "    </tr>\n",
              "    <tr>\n",
              "      <th>13</th>\n",
              "      <td>0.256297</td>\n",
              "      <td>0.252282</td>\n",
              "      <td>0.252282</td>\n",
              "      <td>0.148629</td>\n",
              "      <td>0.143261</td>\n",
              "      <td>0.143261</td>\n",
              "    </tr>\n",
              "    <tr>\n",
              "      <th>14</th>\n",
              "      <td>0.265078</td>\n",
              "      <td>0.258260</td>\n",
              "      <td>0.258260</td>\n",
              "      <td>0.155945</td>\n",
              "      <td>0.148913</td>\n",
              "      <td>0.148913</td>\n",
              "    </tr>\n",
              "    <tr>\n",
              "      <th>15</th>\n",
              "      <td>0.274442</td>\n",
              "      <td>0.260719</td>\n",
              "      <td>0.260719</td>\n",
              "      <td>0.164662</td>\n",
              "      <td>0.152803</td>\n",
              "      <td>0.152803</td>\n",
              "    </tr>\n",
              "    <tr>\n",
              "      <th>16</th>\n",
              "      <td>0.281010</td>\n",
              "      <td>0.266621</td>\n",
              "      <td>0.266621</td>\n",
              "      <td>0.169721</td>\n",
              "      <td>0.157512</td>\n",
              "      <td>0.157512</td>\n",
              "    </tr>\n",
              "    <tr>\n",
              "      <th>17</th>\n",
              "      <td>0.289040</td>\n",
              "      <td>0.273440</td>\n",
              "      <td>0.273440</td>\n",
              "      <td>0.176464</td>\n",
              "      <td>0.163509</td>\n",
              "      <td>0.163509</td>\n",
              "    </tr>\n",
              "    <tr>\n",
              "      <th>18</th>\n",
              "      <td>0.295242</td>\n",
              "      <td>0.277714</td>\n",
              "      <td>0.277714</td>\n",
              "      <td>0.181332</td>\n",
              "      <td>0.167066</td>\n",
              "      <td>0.167066</td>\n",
              "    </tr>\n",
              "    <tr>\n",
              "      <th>19</th>\n",
              "      <td>0.298213</td>\n",
              "      <td>0.278972</td>\n",
              "      <td>0.278972</td>\n",
              "      <td>0.183681</td>\n",
              "      <td>0.167991</td>\n",
              "      <td>0.167991</td>\n",
              "    </tr>\n",
              "    <tr>\n",
              "      <th>20</th>\n",
              "      <td>0.305484</td>\n",
              "      <td>0.284919</td>\n",
              "      <td>0.284919</td>\n",
              "      <td>0.190010</td>\n",
              "      <td>0.173270</td>\n",
              "      <td>0.173270</td>\n",
              "    </tr>\n",
              "    <tr>\n",
              "      <th>21</th>\n",
              "      <td>0.310265</td>\n",
              "      <td>0.287816</td>\n",
              "      <td>0.287816</td>\n",
              "      <td>0.192510</td>\n",
              "      <td>0.174956</td>\n",
              "      <td>0.174956</td>\n",
              "    </tr>\n",
              "    <tr>\n",
              "      <th>22</th>\n",
              "      <td>0.316149</td>\n",
              "      <td>0.291703</td>\n",
              "      <td>0.291703</td>\n",
              "      <td>0.198230</td>\n",
              "      <td>0.179038</td>\n",
              "      <td>0.179038</td>\n",
              "    </tr>\n",
              "    <tr>\n",
              "      <th>23</th>\n",
              "      <td>0.323496</td>\n",
              "      <td>0.297959</td>\n",
              "      <td>0.297959</td>\n",
              "      <td>0.205013</td>\n",
              "      <td>0.184954</td>\n",
              "      <td>0.184954</td>\n",
              "    </tr>\n",
              "    <tr>\n",
              "      <th>24</th>\n",
              "      <td>0.327252</td>\n",
              "      <td>0.299511</td>\n",
              "      <td>0.299511</td>\n",
              "      <td>0.207877</td>\n",
              "      <td>0.186381</td>\n",
              "      <td>0.186381</td>\n",
              "    </tr>\n",
              "    <tr>\n",
              "      <th>25</th>\n",
              "      <td>0.332524</td>\n",
              "      <td>0.303435</td>\n",
              "      <td>0.303435</td>\n",
              "      <td>0.212857</td>\n",
              "      <td>0.190390</td>\n",
              "      <td>0.190390</td>\n",
              "    </tr>\n",
              "    <tr>\n",
              "      <th>26</th>\n",
              "      <td>0.337756</td>\n",
              "      <td>0.307600</td>\n",
              "      <td>0.307600</td>\n",
              "      <td>0.218261</td>\n",
              "      <td>0.194858</td>\n",
              "      <td>0.194858</td>\n",
              "    </tr>\n",
              "    <tr>\n",
              "      <th>27</th>\n",
              "      <td>0.341925</td>\n",
              "      <td>0.309904</td>\n",
              "      <td>0.309904</td>\n",
              "      <td>0.222266</td>\n",
              "      <td>0.197231</td>\n",
              "      <td>0.197231</td>\n",
              "    </tr>\n",
              "    <tr>\n",
              "      <th>28</th>\n",
              "      <td>0.347409</td>\n",
              "      <td>0.313896</td>\n",
              "      <td>0.313896</td>\n",
              "      <td>0.227186</td>\n",
              "      <td>0.201190</td>\n",
              "      <td>0.201190</td>\n",
              "    </tr>\n",
              "    <tr>\n",
              "      <th>29</th>\n",
              "      <td>0.352481</td>\n",
              "      <td>0.316449</td>\n",
              "      <td>0.316449</td>\n",
              "      <td>0.232246</td>\n",
              "      <td>0.204335</td>\n",
              "      <td>0.204335</td>\n",
              "    </tr>\n",
              "  </tbody>\n",
              "</table>\n",
              "</div>\n",
              "    <div class=\"colab-df-buttons\">\n",
              "\n",
              "  <div class=\"colab-df-container\">\n",
              "    <button class=\"colab-df-convert\" onclick=\"convertToInteractive('df-92326349-2818-4e17-bf7e-88f67de53f88')\"\n",
              "            title=\"Convert this dataframe to an interactive table.\"\n",
              "            style=\"display:none;\">\n",
              "\n",
              "  <svg xmlns=\"http://www.w3.org/2000/svg\" height=\"24px\" viewBox=\"0 -960 960 960\">\n",
              "    <path d=\"M120-120v-720h720v720H120Zm60-500h600v-160H180v160Zm220 220h160v-160H400v160Zm0 220h160v-160H400v160ZM180-400h160v-160H180v160Zm440 0h160v-160H620v160ZM180-180h160v-160H180v160Zm440 0h160v-160H620v160Z\"/>\n",
              "  </svg>\n",
              "    </button>\n",
              "\n",
              "  <style>\n",
              "    .colab-df-container {\n",
              "      display:flex;\n",
              "      gap: 12px;\n",
              "    }\n",
              "\n",
              "    .colab-df-convert {\n",
              "      background-color: #E8F0FE;\n",
              "      border: none;\n",
              "      border-radius: 50%;\n",
              "      cursor: pointer;\n",
              "      display: none;\n",
              "      fill: #1967D2;\n",
              "      height: 32px;\n",
              "      padding: 0 0 0 0;\n",
              "      width: 32px;\n",
              "    }\n",
              "\n",
              "    .colab-df-convert:hover {\n",
              "      background-color: #E2EBFA;\n",
              "      box-shadow: 0px 1px 2px rgba(60, 64, 67, 0.3), 0px 1px 3px 1px rgba(60, 64, 67, 0.15);\n",
              "      fill: #174EA6;\n",
              "    }\n",
              "\n",
              "    .colab-df-buttons div {\n",
              "      margin-bottom: 4px;\n",
              "    }\n",
              "\n",
              "    [theme=dark] .colab-df-convert {\n",
              "      background-color: #3B4455;\n",
              "      fill: #D2E3FC;\n",
              "    }\n",
              "\n",
              "    [theme=dark] .colab-df-convert:hover {\n",
              "      background-color: #434B5C;\n",
              "      box-shadow: 0px 1px 3px 1px rgba(0, 0, 0, 0.15);\n",
              "      filter: drop-shadow(0px 1px 2px rgba(0, 0, 0, 0.3));\n",
              "      fill: #FFFFFF;\n",
              "    }\n",
              "  </style>\n",
              "\n",
              "    <script>\n",
              "      const buttonEl =\n",
              "        document.querySelector('#df-92326349-2818-4e17-bf7e-88f67de53f88 button.colab-df-convert');\n",
              "      buttonEl.style.display =\n",
              "        google.colab.kernel.accessAllowed ? 'block' : 'none';\n",
              "\n",
              "      async function convertToInteractive(key) {\n",
              "        const element = document.querySelector('#df-92326349-2818-4e17-bf7e-88f67de53f88');\n",
              "        const dataTable =\n",
              "          await google.colab.kernel.invokeFunction('convertToInteractive',\n",
              "                                                    [key], {});\n",
              "        if (!dataTable) return;\n",
              "\n",
              "        const docLinkHtml = 'Like what you see? Visit the ' +\n",
              "          '<a target=\"_blank\" href=https://colab.research.google.com/notebooks/data_table.ipynb>data table notebook</a>'\n",
              "          + ' to learn more about interactive tables.';\n",
              "        element.innerHTML = '';\n",
              "        dataTable['output_type'] = 'display_data';\n",
              "        await google.colab.output.renderOutput(dataTable, element);\n",
              "        const docLink = document.createElement('div');\n",
              "        docLink.innerHTML = docLinkHtml;\n",
              "        element.appendChild(docLink);\n",
              "      }\n",
              "    </script>\n",
              "  </div>\n",
              "\n",
              "\n",
              "<div id=\"df-c100c5b3-d9e5-4e0c-89f1-93d508774e0a\">\n",
              "  <button class=\"colab-df-quickchart\" onclick=\"quickchart('df-c100c5b3-d9e5-4e0c-89f1-93d508774e0a')\"\n",
              "            title=\"Suggest charts\"\n",
              "            style=\"display:none;\">\n",
              "\n",
              "<svg xmlns=\"http://www.w3.org/2000/svg\" height=\"24px\"viewBox=\"0 0 24 24\"\n",
              "     width=\"24px\">\n",
              "    <g>\n",
              "        <path d=\"M19 3H5c-1.1 0-2 .9-2 2v14c0 1.1.9 2 2 2h14c1.1 0 2-.9 2-2V5c0-1.1-.9-2-2-2zM9 17H7v-7h2v7zm4 0h-2V7h2v10zm4 0h-2v-4h2v4z\"/>\n",
              "    </g>\n",
              "</svg>\n",
              "  </button>\n",
              "\n",
              "<style>\n",
              "  .colab-df-quickchart {\n",
              "      --bg-color: #E8F0FE;\n",
              "      --fill-color: #1967D2;\n",
              "      --hover-bg-color: #E2EBFA;\n",
              "      --hover-fill-color: #174EA6;\n",
              "      --disabled-fill-color: #AAA;\n",
              "      --disabled-bg-color: #DDD;\n",
              "  }\n",
              "\n",
              "  [theme=dark] .colab-df-quickchart {\n",
              "      --bg-color: #3B4455;\n",
              "      --fill-color: #D2E3FC;\n",
              "      --hover-bg-color: #434B5C;\n",
              "      --hover-fill-color: #FFFFFF;\n",
              "      --disabled-bg-color: #3B4455;\n",
              "      --disabled-fill-color: #666;\n",
              "  }\n",
              "\n",
              "  .colab-df-quickchart {\n",
              "    background-color: var(--bg-color);\n",
              "    border: none;\n",
              "    border-radius: 50%;\n",
              "    cursor: pointer;\n",
              "    display: none;\n",
              "    fill: var(--fill-color);\n",
              "    height: 32px;\n",
              "    padding: 0;\n",
              "    width: 32px;\n",
              "  }\n",
              "\n",
              "  .colab-df-quickchart:hover {\n",
              "    background-color: var(--hover-bg-color);\n",
              "    box-shadow: 0 1px 2px rgba(60, 64, 67, 0.3), 0 1px 3px 1px rgba(60, 64, 67, 0.15);\n",
              "    fill: var(--button-hover-fill-color);\n",
              "  }\n",
              "\n",
              "  .colab-df-quickchart-complete:disabled,\n",
              "  .colab-df-quickchart-complete:disabled:hover {\n",
              "    background-color: var(--disabled-bg-color);\n",
              "    fill: var(--disabled-fill-color);\n",
              "    box-shadow: none;\n",
              "  }\n",
              "\n",
              "  .colab-df-spinner {\n",
              "    border: 2px solid var(--fill-color);\n",
              "    border-color: transparent;\n",
              "    border-bottom-color: var(--fill-color);\n",
              "    animation:\n",
              "      spin 1s steps(1) infinite;\n",
              "  }\n",
              "\n",
              "  @keyframes spin {\n",
              "    0% {\n",
              "      border-color: transparent;\n",
              "      border-bottom-color: var(--fill-color);\n",
              "      border-left-color: var(--fill-color);\n",
              "    }\n",
              "    20% {\n",
              "      border-color: transparent;\n",
              "      border-left-color: var(--fill-color);\n",
              "      border-top-color: var(--fill-color);\n",
              "    }\n",
              "    30% {\n",
              "      border-color: transparent;\n",
              "      border-left-color: var(--fill-color);\n",
              "      border-top-color: var(--fill-color);\n",
              "      border-right-color: var(--fill-color);\n",
              "    }\n",
              "    40% {\n",
              "      border-color: transparent;\n",
              "      border-right-color: var(--fill-color);\n",
              "      border-top-color: var(--fill-color);\n",
              "    }\n",
              "    60% {\n",
              "      border-color: transparent;\n",
              "      border-right-color: var(--fill-color);\n",
              "    }\n",
              "    80% {\n",
              "      border-color: transparent;\n",
              "      border-right-color: var(--fill-color);\n",
              "      border-bottom-color: var(--fill-color);\n",
              "    }\n",
              "    90% {\n",
              "      border-color: transparent;\n",
              "      border-bottom-color: var(--fill-color);\n",
              "    }\n",
              "  }\n",
              "</style>\n",
              "\n",
              "  <script>\n",
              "    async function quickchart(key) {\n",
              "      const quickchartButtonEl =\n",
              "        document.querySelector('#' + key + ' button');\n",
              "      quickchartButtonEl.disabled = true;  // To prevent multiple clicks.\n",
              "      quickchartButtonEl.classList.add('colab-df-spinner');\n",
              "      try {\n",
              "        const charts = await google.colab.kernel.invokeFunction(\n",
              "            'suggestCharts', [key], {});\n",
              "      } catch (error) {\n",
              "        console.error('Error during call to suggestCharts:', error);\n",
              "      }\n",
              "      quickchartButtonEl.classList.remove('colab-df-spinner');\n",
              "      quickchartButtonEl.classList.add('colab-df-quickchart-complete');\n",
              "    }\n",
              "    (() => {\n",
              "      let quickchartButtonEl =\n",
              "        document.querySelector('#df-c100c5b3-d9e5-4e0c-89f1-93d508774e0a button');\n",
              "      quickchartButtonEl.style.display =\n",
              "        google.colab.kernel.accessAllowed ? 'block' : 'none';\n",
              "    })();\n",
              "  </script>\n",
              "</div>\n",
              "\n",
              "  <div id=\"id_8081387f-bf6d-49ab-9373-207f739adf4d\">\n",
              "    <style>\n",
              "      .colab-df-generate {\n",
              "        background-color: #E8F0FE;\n",
              "        border: none;\n",
              "        border-radius: 50%;\n",
              "        cursor: pointer;\n",
              "        display: none;\n",
              "        fill: #1967D2;\n",
              "        height: 32px;\n",
              "        padding: 0 0 0 0;\n",
              "        width: 32px;\n",
              "      }\n",
              "\n",
              "      .colab-df-generate:hover {\n",
              "        background-color: #E2EBFA;\n",
              "        box-shadow: 0px 1px 2px rgba(60, 64, 67, 0.3), 0px 1px 3px 1px rgba(60, 64, 67, 0.15);\n",
              "        fill: #174EA6;\n",
              "      }\n",
              "\n",
              "      [theme=dark] .colab-df-generate {\n",
              "        background-color: #3B4455;\n",
              "        fill: #D2E3FC;\n",
              "      }\n",
              "\n",
              "      [theme=dark] .colab-df-generate:hover {\n",
              "        background-color: #434B5C;\n",
              "        box-shadow: 0px 1px 3px 1px rgba(0, 0, 0, 0.15);\n",
              "        filter: drop-shadow(0px 1px 2px rgba(0, 0, 0, 0.3));\n",
              "        fill: #FFFFFF;\n",
              "      }\n",
              "    </style>\n",
              "    <button class=\"colab-df-generate\" onclick=\"generateWithVariable('results')\"\n",
              "            title=\"Generate code using this dataframe.\"\n",
              "            style=\"display:none;\">\n",
              "\n",
              "  <svg xmlns=\"http://www.w3.org/2000/svg\" height=\"24px\"viewBox=\"0 0 24 24\"\n",
              "       width=\"24px\">\n",
              "    <path d=\"M7,19H8.4L18.45,9,17,7.55,7,17.6ZM5,21V16.75L18.45,3.32a2,2,0,0,1,2.83,0l1.4,1.43a1.91,1.91,0,0,1,.58,1.4,1.91,1.91,0,0,1-.58,1.4L9.25,21ZM18.45,9,17,7.55Zm-12,3A5.31,5.31,0,0,0,4.9,8.1,5.31,5.31,0,0,0,1,6.5,5.31,5.31,0,0,0,4.9,4.9,5.31,5.31,0,0,0,6.5,1,5.31,5.31,0,0,0,8.1,4.9,5.31,5.31,0,0,0,12,6.5,5.46,5.46,0,0,0,6.5,12Z\"/>\n",
              "  </svg>\n",
              "    </button>\n",
              "    <script>\n",
              "      (() => {\n",
              "      const buttonEl =\n",
              "        document.querySelector('#id_8081387f-bf6d-49ab-9373-207f739adf4d button.colab-df-generate');\n",
              "      buttonEl.style.display =\n",
              "        google.colab.kernel.accessAllowed ? 'block' : 'none';\n",
              "\n",
              "      buttonEl.onclick = () => {\n",
              "        google.colab.notebook.generateWithVariable('results');\n",
              "      }\n",
              "      })();\n",
              "    </script>\n",
              "  </div>\n",
              "\n",
              "    </div>\n",
              "  </div>\n"
            ],
            "application/vnd.google.colaboratory.intrinsic+json": {
              "type": "dataframe",
              "variable_name": "results",
              "summary": "{\n  \"name\": \"results\",\n  \"rows\": 30,\n  \"fields\": [\n    {\n      \"column\": \"Rouge-L-P\",\n      \"properties\": {\n        \"dtype\": \"number\",\n        \"std\": 0.09672638437427084,\n        \"min\": 0.0,\n        \"max\": 0.3524809996895963,\n        \"num_unique_values\": 29,\n        \"samples\": [\n          0.34740887864889297,\n          0.2890401323232841,\n          0.2562972549057606\n        ],\n        \"semantic_type\": \"\",\n        \"description\": \"\"\n      }\n    },\n    {\n      \"column\": \"Rouge-L-R\",\n      \"properties\": {\n        \"dtype\": \"number\",\n        \"std\": 0.08414222877691847,\n        \"min\": 0.0,\n        \"max\": 0.31644925997667717,\n        \"num_unique_values\": 29,\n        \"samples\": [\n          0.3138959999609629,\n          0.2734398313996964,\n          0.25228232712406423\n        ],\n        \"semantic_type\": \"\",\n        \"description\": \"\"\n      }\n    },\n    {\n      \"column\": \"Rouge-L-F\",\n      \"properties\": {\n        \"dtype\": \"number\",\n        \"std\": 0.08414222877691847,\n        \"min\": 0.0,\n        \"max\": 0.31644925997667717,\n        \"num_unique_values\": 29,\n        \"samples\": [\n          0.3138959999609629,\n          0.2734398313996964,\n          0.25228232712406423\n        ],\n        \"semantic_type\": \"\",\n        \"description\": \"\"\n      }\n    },\n    {\n      \"column\": \"Rouge-2-P\",\n      \"properties\": {\n        \"dtype\": \"number\",\n        \"std\": 0.06550400616302153,\n        \"min\": 0.0,\n        \"max\": 0.23224644011153853,\n        \"num_unique_values\": 29,\n        \"samples\": [\n          0.22718610646610113,\n          0.17646424454120677,\n          0.1486288173743462\n        ],\n        \"semantic_type\": \"\",\n        \"description\": \"\"\n      }\n    },\n    {\n      \"column\": \"Rouge-2-R\",\n      \"properties\": {\n        \"dtype\": \"number\",\n        \"std\": 0.05615156102129679,\n        \"min\": 0.0,\n        \"max\": 0.2043349967517373,\n        \"num_unique_values\": 29,\n        \"samples\": [\n          0.20119039682977305,\n          0.16350937204991453,\n          0.14326108819274763\n        ],\n        \"semantic_type\": \"\",\n        \"description\": \"\"\n      }\n    },\n    {\n      \"column\": \"Rouge-2-F\",\n      \"properties\": {\n        \"dtype\": \"number\",\n        \"std\": 0.05615156102129679,\n        \"min\": 0.0,\n        \"max\": 0.2043349967517373,\n        \"num_unique_values\": 29,\n        \"samples\": [\n          0.20119039682977305,\n          0.16350937204991453,\n          0.14326108819274763\n        ],\n        \"semantic_type\": \"\",\n        \"description\": \"\"\n      }\n    }\n  ]\n}"
            }
          },
          "metadata": {},
          "execution_count": 40
        }
      ],
      "source": [
        "import pandas as pd\n",
        "results = pd.DataFrame(rouge_result)\n",
        "results"
      ]
    },
    {
      "cell_type": "code",
      "execution_count": null,
      "metadata": {
        "id": "aK0xWMmyVL5U"
      },
      "outputs": [],
      "source": [
        "#model = VisionEncoderDecoderModel.from_encoder_decoder_pretrained(\"nickmuchi/vit-finetuned-chest-xray-pneumonia\", \"bert-base-cased\").to(device)\n",
        "#model.load_state_dict(torch.load('outputs/best_checkpoint.pth'))"
      ]
    },
    {
      "cell_type": "code",
      "execution_count": 43,
      "metadata": {
        "colab": {
          "base_uri": "https://localhost:8080/"
        },
        "id": "N2mGwcqEVL5U",
        "outputId": "c2c8f688-4e35-48a9-9b96-8dd1b2287529"
      },
      "outputs": [
        {
          "output_type": "stream",
          "name": "stderr",
          "text": [
            "Evaluting Epoch: 30: 100%|██████████| 10/10 [00:16<00:00,  1.61s/it]\n"
          ]
        }
      ],
      "source": [
        "results = []\n",
        "model.eval()\n",
        "\n",
        "pbar = tqdm(valid_dataloader)\n",
        "pbar.set_description(f\"Evaluting Epoch: {epoch + 1}\")\n",
        "\n",
        "with torch.no_grad():\n",
        "    for names, pixel_values, label_ids in pbar:\n",
        "        predictions = model.generate(pixel_values,max_length=100)\n",
        "\n",
        "        _predictions = tokenizer.batch_decode(\n",
        "                predictions,\n",
        "                skip_special_tokens=True\n",
        "        )\n",
        "        results.append(_predictions)"
      ]
    },
    {
      "cell_type": "code",
      "execution_count": 44,
      "metadata": {
        "colab": {
          "base_uri": "https://localhost:8080/"
        },
        "id": "Ddw3zayzVL5U",
        "outputId": "e563e4ef-b857-41cd-f74f-e70d81a3c99c"
      },
      "outputs": [
        {
          "output_type": "execute_result",
          "data": {
            "text/plain": [
              "[['Chest PA view : Impression : - Increased both lung markings. - Compatible with right lung nodules. - Fibrotic lesion in left upper lung. - Normal heart size. Atherosclerotic aorta. - Suspect right pleural effusion. - Spondylosis. R / O osteoporosis. - Compatible with multiple bony metastases. - S / P N'],\n",
              " [\"Chest AP view showed : 1. Normal heart size with tortuous aorta. 2. R't middle lung and L't lower lung reticulonodular infiltrations. Mild L't pleural effusion. 3. No mediastinum widening. 4. s / p endotracheal tube and NG intubation. s / p R't jugular CVP.\"],\n",
              " ['Chest PA view shows : Large mass occupying right upper chest. Normal heart size.'],\n",
              " ['Chest PA view shows : Impression : > No obvious lung mass nor consolidation patch. > Normal heart size. > No pleural effusion.'],\n",
              " ['Chest PA view shows : Impression : - Increased infiltrations in both lungs. - Blunting bilateral CP angles. - Normal heart size. - Atherosclerotic aorta. - DJD of spine. - S / P NG and endotracheal tube. S / P Rt jugular CVC insertion.'],\n",
              " ['Chest plain film shows : Impression : - Increased infiltrations in both lungs. - Blunting bilateral CP angles. - Atherosclerotic aorta. - Normal heart size. - DJD of spine. - S / P fixation in C - spine.'],\n",
              " ['Chest plain film shows : Impression : - Increased infiltrations in both lungs. - Blunting bilateral CP angles. - Cardiomegaly. - Atherosclerotic aorta. - Scoliosis and DJD of spine. - S / P NG and endotracheal tube. S / P Rt jugular CVC insertion.'],\n",
              " ['Chest plain film view showed : Impression : - Increased infiltrations in both lungs. - Blunting left CP angle. - Normal heart size. - Atherosclerotic aorta. - DJD of spine. - S / P NG and endotracheal tube. S / P Rt jugular CVC insertion.'],\n",
              " ['Chest plain film shows : Impression : - Suspicious right upper lung patch. - Increased infiltrations in both lungs. - Blunting bilateral CP angles. - Atherosclerotic aorta. - Scoliosis and DJD of spine. - Bilateral apical pleural thickening. - S / P NG and endotracheal tube.'],\n",
              " ['Chest plain film shows : Impression : - Increased infiltrations in both lungs. - Blunting bilateral CP angles. - Tortuous atherosclerotic dilated aorta. - Cardiomegaly. - DJD of spine. - S / P NG and endotracheal tube. S / P Rt jugular CVC insertion.']]"
            ]
          },
          "metadata": {},
          "execution_count": 44
        }
      ],
      "source": [
        "results"
      ]
    },
    {
      "cell_type": "code",
      "execution_count": 45,
      "metadata": {
        "colab": {
          "base_uri": "https://localhost:8080/"
        },
        "id": "rbLTxId6VL5U",
        "outputId": "0fd49b88-62ed-431b-dc0f-b2ea401a1e7b"
      },
      "outputs": [
        {
          "output_type": "stream",
          "name": "stdout",
          "text": [
            "Data has been written to output.csv\n"
          ]
        }
      ],
      "source": [
        "import csv\n",
        "\n",
        "# List of strings\n",
        "\n",
        "# Open or create a CSV file in write mode\n",
        "with open('submission.csv', mode='w', newline='') as file:\n",
        "    writer = csv.writer(file)\n",
        "\n",
        "    # Write all strings in a single row\n",
        "    writer.writerow(results)\n",
        "\n",
        "print(\"Data has been written to output.csv\")"
      ]
    }
  ],
  "metadata": {
    "kernelspec": {
      "display_name": "Python 3",
      "name": "python3"
    },
    "language_info": {
      "codemirror_mode": {
        "name": "ipython",
        "version": 3
      },
      "file_extension": ".py",
      "mimetype": "text/x-python",
      "name": "python",
      "nbconvert_exporter": "python",
      "pygments_lexer": "ipython3",
      "version": "3.10.11"
    },
    "colab": {
      "provenance": [],
      "gpuType": "T4"
    },
    "accelerator": "GPU"
  },
  "nbformat": 4,
  "nbformat_minor": 0
}